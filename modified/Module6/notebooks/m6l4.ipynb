{
 "cells": [
  {
   "cell_type": "markdown",
   "metadata": {},
   "source": [
    "# Module 6: Lesson 4\n",
    "\n",
    "-----\n",
    "\n",
    "## Introduction to Probability Distributions\t\n",
    "\n",
    "The final lesson introduces distributions, both empirical and theoretical, which provide concise representations of a data set. Understanding how to use and employ distributions will provide general guidance into modeling and interpreting a data set based on theoretical expectations.\n",
    "\n",
    "\n",
    "### Objectives\n",
    "\n",
    "By the end of this lesson, you will be able to\n",
    "\n",
    "- explain the difference between empirical and theoretical probability distributions,\n",
    "- explain the difference between key theoretical distributions like the Uniform, Binomial, Normal, Poisson, and LogNormal,\n",
    "- compute statistical descriptions from theoretical distributions,\n",
    "- apply QQ plots to test for normality,\n",
    "- explain the importance of the Central Limit Theorem, and \n",
    "- fit a theoretical distribution to an empirical data set.\n",
    "\n",
    "### Time Estimate\n",
    "\n",
    "Approximately 2 hours.\n",
    "\n",
    "### Activities \n",
    "\n",
    "Reading: [Explore random variables, discrete, and continuous distributions][rvd]  by using this visual website from seeing-theory.\n",
    "\n",
    "Video: Watch the [introduction to distributions ][idv] video, which will demonstrate how to compute empirical and theoretical distributions in Python.\n",
    "\n",
    "Notebook: Read and complete the practice exercises in the [Introduction to distributions][intro2d] notebook.\n",
    "\n",
    "------\n",
    "\n",
    "[rvd]: http://students.brown.edu/seeing-theory/distributions/index.html\n",
    "[idv]: https://media.business.illinois.edu/k/31606f6c717b7868417e/43361611\n",
    "\n",
    "[intro2d]: intro2d.html"
   ]
  },
  {
   "cell_type": "markdown",
   "metadata": {
    "deletable": false,
    "editable": false
   },
   "source": [
    "**&copy; 2017: Robert J. Brunner at the University of Illinois.**\n",
    "\n",
    "This notebook is released under the [Creative Commons license CC BY-NC-SA 4.0][ll]. Any reproduction, adaptation, distribution, dissemination or making available of this notebook for commercial use is not allowed unless authorized in writing by the copyright holder.\n",
    "\n",
    "[ll]: https://creativecommons.org/licenses/by-nc-sa/4.0/legalcode"
   ]
  }
 ],
 "metadata": {
  "kernelspec": {
   "display_name": "Python 3",
   "language": "python",
   "name": "python3"
  },
  "language_info": {
   "codemirror_mode": {
    "name": "ipython",
    "version": 3
   },
   "file_extension": ".py",
   "mimetype": "text/x-python",
   "name": "python",
   "nbconvert_exporter": "python",
   "pygments_lexer": "ipython3",
   "version": "3.6.5"
  }
 },
 "nbformat": 4,
 "nbformat_minor": 2
}
