{
 "cells": [
  {
   "cell_type": "markdown",
   "metadata": {},
   "source": [
    "# Module 6: Lesson 1\n",
    "\n",
    "-----\n",
    "\n",
    "## Introduction to Probability\n",
    "\n",
    "The first lesson introduces important concepts in basic probability, including the interpretation of probabilities from counting occurrences to random variables and basic theoretical distributions such as the Binomial and Normal distributions. \n",
    "\n",
    "\n",
    "### Objectives\n",
    "\n",
    "By the end of this lesson, you will understand\n",
    "\n",
    "- how to calculate probabilities from the frequency of occurrence,\n",
    "- the concept of a random variable,\n",
    "- the Binomial distributions and its application to probability, and\n",
    "- the Normal distribution and its importance for statistical applications.\n",
    "\n",
    "### Time Estimate\n",
    "\n",
    "Approximately 1 hour.\n",
    "\n",
    "### Activities\n",
    "\n",
    "Reading: [Read about the basics of Probability][bp] which includes a discussion of random variables, computing probabilities, and several important theoretical distributions.\n",
    "\n",
    "Video: Watch the [introduction to Probability ][ip] video, which will demonstrate basic concepts in probability.\n",
    "\n",
    "------\n",
    "\n",
    "[bp]: https://www.analyticsvidhya.com/blog/2017/02/basic-probability-data-science-with-examples/\n",
    "[ip]: https://media.business.illinois.edu/k/3160703c6d7573813976/43361611\n"
   ]
  },
  {
   "cell_type": "markdown",
   "metadata": {
    "deletable": false,
    "editable": false
   },
   "source": [
    "**&copy; 2017: Robert J. Brunner at the University of Illinois.**\n",
    "\n",
    "This notebook is released under the [Creative Commons license CC BY-NC-SA 4.0][ll]. Any reproduction, adaptation, distribution, dissemination or making available of this notebook for commercial use is not allowed unless authorized in writing by the copyright holder.\n",
    "\n",
    "[ll]: https://creativecommons.org/licenses/by-nc-sa/4.0/legalcode"
   ]
  }
 ],
 "metadata": {
  "kernelspec": {
   "display_name": "Python 3",
   "language": "python",
   "name": "python3"
  },
  "language_info": {
   "codemirror_mode": {
    "name": "ipython",
    "version": 3
   },
   "file_extension": ".py",
   "mimetype": "text/x-python",
   "name": "python",
   "nbconvert_exporter": "python",
   "pygments_lexer": "ipython3",
   "version": "3.6.7"
  }
 },
 "nbformat": 4,
 "nbformat_minor": 2
}
