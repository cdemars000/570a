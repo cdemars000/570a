{
 "cells": [
  {
   "cell_type": "markdown",
   "metadata": {},
   "source": [
    "# Module 6: Lesson 2\n",
    "\n",
    "-----\n",
    "\n",
    "## Introduction to Conditional Probability\t\n",
    "\n",
    "This lesson introduces conditional probability and Bayes theorem.\n",
    "\n",
    "### Objectives\n",
    "\n",
    "By the end of this lesson, you will understand\n",
    "\n",
    "- the concept of conditional probability,\n",
    "- the relation of conditional probability to the probability of independent events, and\n",
    "- Bayes theorem and its relation to conditional probability.\n",
    "\n",
    "### Time Estimate\n",
    "\n",
    "Approximately 1 hour.\n",
    "\n",
    "### Activities \n",
    "\n",
    "Reading: [Read about Conditional Probability and Bayes theorem][cpbt],  which is important in modeling real world problems. Note that the author of this article on occasion uses a non-traditional representation of conditional probability $P\\left(\\frac{A}{B}\\right)$ rather than the more commonly used $P(A |  B)$.\n",
    "\n",
    "Video: Watch the [introduction to Bayes theorem ][ibt] video, which will discuss this important theoretical result.\n",
    "\n",
    "------\n",
    "\n",
    "[cpbt]: https://www.analyticsvidhya.com/blog/2017/03/conditional-probability-bayes-theorem/\n",
    "[ibt]: https://media.business.illinois.edu/k/316072797c6676757a7f/43361611"
   ]
  },
  {
   "cell_type": "markdown",
   "metadata": {
    "deletable": false,
    "editable": false
   },
   "source": [
    "**&copy; 2017: Robert J. Brunner at the University of Illinois.**\n",
    "\n",
    "This notebook is released under the [Creative Commons license CC BY-NC-SA 4.0][ll]. Any reproduction, adaptation, distribution, dissemination or making available of this notebook for commercial use is not allowed unless authorized in writing by the copyright holder.\n",
    "\n",
    "[ll]: https://creativecommons.org/licenses/by-nc-sa/4.0/legalcode"
   ]
  }
 ],
 "metadata": {
  "kernelspec": {
   "display_name": "Python 3",
   "language": "python",
   "name": "python3"
  },
  "language_info": {
   "codemirror_mode": {
    "name": "ipython",
    "version": 3
   },
   "file_extension": ".py",
   "mimetype": "text/x-python",
   "name": "python",
   "nbconvert_exporter": "python",
   "pygments_lexer": "ipython3",
   "version": "3.6.5"
  }
 },
 "nbformat": 4,
 "nbformat_minor": 2
}
