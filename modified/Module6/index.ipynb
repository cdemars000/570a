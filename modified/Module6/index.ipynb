{
 "cells": [
  {
   "cell_type": "markdown",
   "metadata": {},
   "source": [
    "# Module 6: Introduction to Probability\n",
    "\n",
    "In this Module, you will learn the basics of probability, and how it relates to statistical data analysis. First, you will learn about the basic concepts of probability, including random variables, the calculation of simple probabilities, and several theoretical distributions that commonly occur in  discussions of probability. Next, you will learn about conditional probability and Bayes theorem.  Third, you will learn to calculate probabilities and to apply Bayes theorem directly by using Python. Finally, you will learn to work with both empirical and theoretical distributions in Python, and how to model an empirical data set by using a theoretical  distribution.\n",
    "\n",
    "## Learning Objectives\n",
    "\n",
    "#### By the end of this module, you should be able to:\n",
    "\n",
    "- calculate and interpret basic probability concepts,\n",
    "- calculate and interpret conditional probability,\n",
    "- understand and apply Bayes theorem,\n",
    "- understand the most important empirical distribution measures, and\n",
    "- understand and know how to apply the most important theoretical distributions.\n",
    "\n",
    "### Activities and Assignments\n",
    "\n",
    "| Activities and Assignments               | Time Estimate | Deadline* | Points |\n",
    "| :--------------------------------------- | ------------- | --------- | -----: |\n",
    "| **[Module 6 Overview Video][wv]**      | 10 Minutes    | N/A |    N/A |\n",
    "| **[Module 6 Lesson 1: Introduction to Probability][nb1]** | 1 Hour   | N/A  |     N/A |\n",
    "| **[Module 6 Lesson 2: Introduction to Conditional Probability][nb2]** | 1 Hour | N/A  |     N/A |\n",
    "| **[Module 6 Lesson 3: Introduction to Probability with Python][nb3]** | 2 Hours | N/A  |     N/A |\n",
    "| **[Module 6 Lesson 4: Introduction to Probability Distributions][nb4]** | 2 Hours   | N/A  |   N/A |\n",
    "| **[Module 6 Quiz][wq]**                    | 30 Minutes    | N/A    |    N/A  |\n",
    "| **[Module 6 Assignment][ma]**         | 1 hour    | N/A    |    N/A  |\n",
    "\n",
    "*Please note that unless otherwise noted, the due time is 6pm Central time!\n",
    "\n",
    "----------\n",
    "\n",
    "[nb1]: notebooks/m6l1.html\n",
    "[nb2]: notebooks/m6l2.html\n",
    "[nb3]: notebooks/m6l3.html\n",
    "[nb4]: notebooks/m6l4.html\n",
    "\n",
    "[ma]: assignments/assignment.html\n",
    "[wq]: assessments/assements.html\n",
    "\n",
    "[wv]: https://media.business.illinois.edu/k/316078733d3a753c3a39/43361611\n"
   ]
  },
  {
   "cell_type": "markdown",
   "metadata": {
    "deletable": false,
    "editable": false
   },
   "source": [
    "**&copy; 2017: Robert J. Brunner at the University of Illinois.**\n",
    "\n",
    "This notebook is released under the [Creative Commons license CC BY-NC-SA 4.0][ll]. Any reproduction, adaptation, distribution, dissemination or making available of this notebook for commercial use is not allowed unless authorized in writing by the copyright holder.\n",
    "\n",
    "[ll]: https://creativecommons.org/licenses/by-nc-sa/4.0/legalcode"
   ]
  }
 ],
 "metadata": {
  "kernelspec": {
   "display_name": "Python 3",
   "language": "python",
   "name": "python3"
  },
  "language_info": {
   "codemirror_mode": {
    "name": "ipython",
    "version": 3
   },
   "file_extension": ".py",
   "mimetype": "text/x-python",
   "name": "python",
   "nbconvert_exporter": "python",
   "pygments_lexer": "ipython3",
   "version": "3.6.5"
  }
 },
 "nbformat": 4,
 "nbformat_minor": 2
}
