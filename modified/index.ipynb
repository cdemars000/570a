{
 "cells": [
  {
   "cell_type": "code",
   "execution_count": 1,
   "metadata": {},
   "outputs": [
    {
     "data": {
      "text/markdown": [
       "# University of Illinois-Deloitte Foundation Center for Business Analytics\n",
       "\n",
       "-----\n",
       "\n",
       "## First Course in Foundations of Data Analytics\n",
       "\n",
       "------\n",
       "\n",
       "### [Module #1: Foundations][m1]\n",
       "\n",
       "1. Why learn analytics?\n",
       "2. Introduction to Course Server\n",
       "3. Introduction to Markdown\n",
       "4. Introduction to the Python Language\n",
       "\n",
       "### [Module #2: Introduction to Python Programming][m2]\n",
       "\n",
       "1. Why learn to code?\n",
       "2. Introduction to Data Structures\n",
       "3. Introduction to Functions\n",
       "4. Introduction to Flow Control\n",
       "\n",
       "### [Module #3: Introduction to Data Analysis][m3]\n",
       "\n",
       "1. Exploring the benefits of programming over traditional business tools\n",
       "2. Introduction to the Unix file system\n",
       "3. Working with Files in Python\n",
       "4. Introduction to the Pandas module\n",
       "\n",
       "### [Module #4: Statistical Data Analysis][m4]\n",
       "\n",
       "1. How Pandas can perform standard business analytic tasks\n",
       "2. Introduction to the NumPy module\n",
       "3. Introduction to Descriptive Statistics\n",
       "4. Using more advanced capabilities of the Pandas module\n",
       "\n",
       "### [Module #5: Introduction to Visualization][m5]\n",
       "\n",
       "1. Exploring how humans view data\n",
       "2. Exploring the quantitative display of information\n",
       "3. Introduction to data plotting in Python\n",
       "4. Introduction to data visualization in Python\n",
       "\n",
       "### [Module #6: Introduction to Probability][m6]\n",
       "\n",
       "1. Introduction to basic probability\n",
       "2. Conditional probability and Bayes Theorem\n",
       "3. Exploring basic probability in Python\n",
       "4. Introduction to distributions\n",
       "\n",
       "### [Module #7: Exploring Two-Dimensional Data][m7]\n",
       "\n",
       "1. Introduction to scatter plots\n",
       "2. Introduction to NumPy matrices\n",
       "3. Statistically exploring multi-dimensional data\n",
       "4. Introduction to ordinary linear regression\n",
       "\n",
       "### [Module #8: Introduction to Kernel Density Estimation][m8]\n",
       "\n",
       "1. Why analytics matter in a big data world?\n",
       "2. Introduction to density estimation\n",
       "3. Advanced density estimation\n",
       "\n",
       "-----\n",
       "\n",
       "[m1]: Module1/index.html\n",
       "[m2]: Module2/index.html\n",
       "[m3]: Module3/index.html\n",
       "[m4]: Module4/index.html\n",
       "[m5]: Module5/index.html\n",
       "[m6]: Module6/index.html\n",
       "[m7]: Module7/index.html\n",
       "[m8]: Module8/index.html\n"
      ],
      "text/plain": [
       "<IPython.core.display.Markdown object>"
      ]
     },
     "metadata": {},
     "output_type": "display_data"
    }
   ],
   "source": [
    "from IPython.display import display, Markdown\n",
    "\n",
    "with open('Readme.md', 'r') as fin:\n",
    "    rme = fin.read()\n",
    "\n",
    "display(Markdown(rme))"
   ]
  },
  {
   "cell_type": "markdown",
   "metadata": {
    "deletable": false,
    "editable": false
   },
   "source": [
    "**&copy; 2017: Robert J. Brunner at the University of Illinois.**\n",
    "\n",
    "This notebook is released under the [Creative Commons license CC BY-NC-SA 4.0][ll]. Any reproduction, adaptation, distribution, dissemination or making available of this notebook for commercial use is not allowed unless authorized in writing by the copyright holder.\n",
    "\n",
    "[ll]: https://creativecommons.org/licenses/by-nc-sa/4.0/legalcode"
   ]
  }
 ],
 "metadata": {
  "kernelspec": {
   "display_name": "Python 3",
   "language": "python",
   "name": "python3"
  },
  "language_info": {
   "codemirror_mode": {
    "name": "ipython",
    "version": 3
   },
   "file_extension": ".py",
   "mimetype": "text/x-python",
   "name": "python",
   "nbconvert_exporter": "python",
   "pygments_lexer": "ipython3",
   "version": "3.6.5"
  }
 },
 "nbformat": 4,
 "nbformat_minor": 2
}
