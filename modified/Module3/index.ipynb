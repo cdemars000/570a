{
 "cells": [
  {
   "cell_type": "markdown",
   "metadata": {},
   "source": [
    "# Module 3: Introduction to Data Analysis\n",
    "\n",
    "This module introduces fundamental concepts in data analysis. First, you will read a report from the Association of Accountants and Financial Professionals in Business that explores _Big Data in Accountancy_ and read a blog article that discusses how a programming language like Python offers specific advantages over performing data analytics in Excel. Next, you will learn about the Unix file system, which is the operating system used for most big data processing (as well as Linux and Mac OSX desktops and many mobile phones). Second, you will learn how to read and write data to a file from within a Python program. Finally, you will learn about the Pandas Python module that can simplify many challenging data analysis tasks, and includes the `DataFrame`, which programmatically mimics many of the features of a traditional  spreadsheet.\n",
    "\n",
    "## Learning Objectives\n",
    "\n",
    "#### By the end of this module, you should be able to:\n",
    "\n",
    "- work with the Unix file system and understand the concept of directories and files,\n",
    "- read and write data to files from within a Python script, and\n",
    "- use a Pandas `Series` and `DataFrame` to manipulate data from within a Python script.\n",
    "\n",
    "### Activities and Assignments\n",
    "\n",
    "| Activities and Assignments               | Time Estimate | Deadline | Points |\n",
    "| :--------------------------------------- | ------------- | --------- | -----: |\n",
    "| **[Module 3 Overview Video][wv]**      | 10 Minutes    | N/A |    N/A |\n",
    "| **[Module 3 Lesson 1: Coding and Accountancy][nb1]** | 1 Hour   | N/A  |     N/A |\n",
    "| **[Module 3 Lesson 2: Introduction to Unix][nb2]** | 1 Hour | N/A  |     N/A |\n",
    "| **[Module 3 Lesson 3: Python File I/O][nb3]** | 1 Hour | N/A  |     N/A |\n",
    "| **[Module 3 Lesson 4: Introduction to Pandas][nb4]** | 2 Hours   | N/A  |   N/A |\n",
    "| **[Module 3 Assignment][ma]**         | 1 hour    | N/A    |    N/A  |\n",
    "\n",
    "*Please note that unless otherwise noted, the due time is 6pm Central time!\n",
    "\n",
    "----------\n",
    "\n",
    "[nb1]: notebooks/m3l1.ipynb\n",
    "[nb2]: notebooks/m3l2.ipynb\n",
    "[nb3]: notebooks/m3l3.ipynb\n",
    "[nb4]: notebooks/m3l4.ipynb\n",
    "\n",
    "[ma]: assignment/assignment.ipynb\n",
    "\n",
    "[wv]: https://media.business.illinois.edu/k/31603574673c7b72396d/43361611"
   ]
  },
  {
   "cell_type": "markdown",
   "metadata": {
    "deletable": false,
    "editable": false
   },
   "source": [
    "**&copy; 2017: Robert J. Brunner at the University of Illinois.**\n",
    "\n",
    "This notebook is released under the [Creative Commons license CC BY-NC-SA 4.0][ll]. Any reproduction, adaptation, distribution, dissemination or making available of this notebook for commercial use is not allowed unless authorized in writing by the copyright holder.\n",
    "\n",
    "[ll]: https://creativecommons.org/licenses/by-nc-sa/4.0/legalcode"
   ]
  }
 ],
 "metadata": {
  "kernelspec": {
   "display_name": "Python 3",
   "language": "python",
   "name": "python3"
  },
  "language_info": {
   "codemirror_mode": {
    "name": "ipython",
    "version": 3
   },
   "file_extension": ".py",
   "mimetype": "text/x-python",
   "name": "python",
   "nbconvert_exporter": "python",
   "pygments_lexer": "ipython3",
   "version": "3.6.7"
  }
 },
 "nbformat": 4,
 "nbformat_minor": 2
}
