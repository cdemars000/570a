{
 "cells": [
  {
   "cell_type": "markdown",
   "metadata": {
    "deletable": false,
    "editable": false,
    "nbgrader": {
     "checksum": "82dca0f8b704bb1cfb727d2181bdc29c",
     "grade": false,
     "grade_id": "title",
     "locked": true,
     "schema_version": 1,
     "solution": false
    }
   },
   "source": [
    "# Module 3 Assignment"
   ]
  },
  {
   "cell_type": "code",
   "execution_count": null,
   "metadata": {
    "collapsed": true,
    "deletable": false,
    "editable": false,
    "nbgrader": {
     "checksum": "67904cb60bd6deafe90c56c87351e801",
     "grade": false,
     "grade_id": "import",
     "locked": true,
     "schema_version": 1,
     "solution": false
    }
   },
   "outputs": [],
   "source": [
    "import csv\n",
    "from nose.tools import assert_equal, assert_almost_equal\n",
    "import pandas as pd"
   ]
  },
  {
   "cell_type": "markdown",
   "metadata": {
    "deletable": false,
    "editable": false,
    "nbgrader": {
     "checksum": "69d6334ecaa901a8e272a11b4a21bd6c",
     "grade": false,
     "grade_id": "intro",
     "locked": true,
     "schema_version": 1,
     "solution": false
    }
   },
   "source": [
    "\n",
    "A few things you should keep in mind when working on assignments:\n",
    "\n",
    "1. Make sure you fill in any place that says `YOUR CODE HERE`. Do **not** write your answer in anywhere else other than where it says `YOUR CODE HERE`. Anything you write anywhere else will be removed or overwritten by the autograder.\n",
    "\n",
    "2. Before you submit your assignment, make sure everything runs as expected. Go to menubar, select _Kernel_, and restart the kernel and run all cells (_Restart & Run all_).\n",
    "\n",
    "3. Do not change the title (i.e. file name) of this notebook.\n",
    "\n",
    "4. Make sure that you save your work (in the menubar, select _File_ → _Save and CheckPoint_)\n"
   ]
  },
  {
   "cell_type": "markdown",
   "metadata": {
    "deletable": false,
    "editable": false,
    "nbgrader": {
     "checksum": "8ee4c66c49b859077ff9a6ad5404d366",
     "grade": false,
     "grade_id": "p1_text",
     "locked": true,
     "schema_version": 1,
     "solution": false
    }
   },
   "source": [
    "# Problem 1: Reading files with the CSV Library\n",
    "In this problem you will finish writing a function called *read_data* that reads the [iris dataset](https://archive.ics.uci.edu/ml/datasets/Iris).\n",
    "The columns are in this order:\n",
    "1. Column 1: sepal length in cm \n",
    "2. Column 2: sepal width in cm \n",
    "3. Column 3: petal length in cm \n",
    "4. Column 4: petal width in cm \n",
    "5. Column 5: class\n",
    "\n",
    "There are multiple ways to solve this problem but ultimately this function should:\n",
    "- Accept a string that will be the path to the iris dataset (we named this parameter *file_path*)\n",
    "- Store each column of the dataset in different list.\n",
    "- Convert Columns 1-4 to floats.\n",
    "- Return each of the columns (total of 5) in the following order: \n",
    "\t- sepal length in cm \n",
    "\t- petal length in cm \n",
    "\t- sepal width in cm \n",
    "\t- petal width in cm \n",
    "\t- class"
   ]
  },
  {
   "cell_type": "code",
   "execution_count": null,
   "metadata": {
    "collapsed": true,
    "deletable": false,
    "nbgrader": {
     "checksum": "aa9c626e79e058c7b7676e72f44f1e56",
     "grade": false,
     "grade_id": "p1_answer",
     "locked": false,
     "schema_version": 1,
     "solution": true
    }
   },
   "outputs": [],
   "source": [
    "def read_data(file_path):\n",
    "    '''\n",
    "    This function reads data from the iris data and returns 5 lists (1 for each column)\n",
    "    \n",
    "    file_path: string that specifies path to iris dataset\n",
    "    '''\n",
    "    \n",
    "    ### YOUR CODE HERE"
   ]
  },
  {
   "cell_type": "code",
   "execution_count": null,
   "metadata": {
    "collapsed": true,
    "deletable": false,
    "editable": false,
    "nbgrader": {
     "checksum": "653b00ea78174337fddef9bfbd42a271",
     "grade": false,
     "grade_id": "p1_run",
     "locked": true,
     "schema_version": 1,
     "solution": false
    }
   },
   "outputs": [],
   "source": [
    "file_path = './iris.csv'\n",
    "sepal_len, petal_len, sepal_wid, petal_wid, class_ = read_data(file_path)"
   ]
  },
  {
   "cell_type": "code",
   "execution_count": null,
   "metadata": {
    "collapsed": true,
    "deletable": false,
    "editable": false,
    "nbgrader": {
     "checksum": "a80eff2a5220b5d848077b82d6e8fdcb",
     "grade": true,
     "grade_id": "p1_test",
     "locked": true,
     "points": 1,
     "schema_version": 1,
     "solution": false
    }
   },
   "outputs": [],
   "source": [
    "assert_equal(sepal_len[0:50], [5.1, 4.9, 4.7, 4.6, 5.0, 5.4, 4.6, 5.0, 4.4, 4.9, 5.4,\n",
    "                               4.8, 4.8, 4.3, 5.8, 5.7, 5.4, 5.1, 5.7, 5.1, 5.4, 5.1,\n",
    "                               4.6, 5.1, 4.8, 5.0, 5.0, 5.2, 5.2, 4.7, 4.8, 5.4, 5.2,\n",
    "                               5.5, 4.9, 5.0, 5.5, 4.9, 4.4, 5.1, 5.0, 4.5, 4.4, 5.0,\n",
    "                               5.1, 4.8, 5.1, 4.6, 5.3, 5.0])\n",
    "assert_equal(sepal_len[75:100], [6.6, 6.8, 6.7, 6.0, 5.7, 5.5, 5.5, 5.8, 6.0, 5.4, 6.0,\n",
    "                                 6.7, 6.3, 5.6, 5.5, 5.5, 6.1, 5.8, 5.0, 5.6, 5.7, 5.7,\n",
    "                                 6.2, 5.1, 5.7])\n",
    "\n",
    "assert_equal(petal_len[0:25], [1.4, 1.4, 1.3, 1.5, 1.4, 1.7, 1.4, 1.5, 1.4, 1.5, 1.5,\n",
    "                               1.6, 1.4, 1.1, 1.2, 1.5, 1.3, 1.4, 1.7, 1.5, 1.7, 1.5,\n",
    "                               1.0, 1.7, 1.9])\n",
    "assert_equal(petal_len[44:67], [1.9, 1.4, 1.6, 1.4, 1.5, 1.4, 4.7, 4.5, 4.9, 4.0, 4.6,\n",
    "                                4.5, 4.7, 3.3, 4.6, 3.9, 3.5, 4.2, 4.0, 4.7, 3.6, 4.4, 4.5])\n",
    "\n",
    "assert_equal(sepal_wid[0:33], [3.5, 3.0, 3.2, 3.1, 3.6, 3.9, 3.4, 3.4, 2.9, 3.1, 3.7,\n",
    "                               3.4, 3.0, 3.0, 4.0, 4.4, 3.9, 3.5, 3.8, 3.8, 3.4, 3.7,\n",
    "                               3.6, 3.3, 3.4, 3.0, 3.4, 3.5, 3.4, 3.2, 3.1, 3.4, 4.1])\n",
    "assert_equal(sepal_wid[44:100], [3.8, 3.0, 3.8, 3.2, 3.7, 3.3, 3.2, 3.2, 3.1, 2.3, 2.8,\n",
    "                                 2.8, 3.3, 2.4, 2.9, 2.7, 2.0, 3.0, 2.2, 2.9, 2.9, 3.1,\n",
    "                                 3.0, 2.7, 2.2, 2.5, 3.2, 2.8, 2.5, 2.8, 2.9, 3.0, 2.8,\n",
    "                                 3.0, 2.9, 2.6, 2.4, 2.4, 2.7, 2.7, 3.0, 3.4, 3.1, 2.3,\n",
    "                                 3.0, 2.5, 2.6, 3.0, 2.6, 2.3, 2.7, 3.0, 2.9, 2.9, 2.5, 2.8])\n",
    "\n",
    "assert_equal(petal_wid[15:40], [0.4, 0.4, 0.3, 0.3, 0.3, 0.2, 0.4, 0.2, 0.5, 0.2, 0.2, 0.4,\n",
    "                                0.2, 0.2, 0.2, 0.2, 0.4, 0.1, 0.2, 0.1, 0.2, 0.2, 0.1, 0.2,\n",
    "                                0.2])\n",
    "assert_equal(petal_wid[45:78], [0.3, 0.2, 0.2, 0.2, 0.2, 1.4, 1.5, 1.5, 1.3, 1.5, 1.3, 1.6,\n",
    "                                1.0, 1.3, 1.4, 1.0, 1.5, 1.0, 1.4, 1.3, 1.4, 1.5, 1.0, 1.5,\n",
    "                                1.1, 1.8, 1.3, 1.5, 1.2, 1.3, 1.4, 1.4, 1.7])\n",
    "\n",
    "assert_equal(class_[45:55], ['Iris-setosa', 'Iris-setosa', 'Iris-setosa', 'Iris-setosa',\n",
    "                             'Iris-setosa', 'Iris-versicolor', 'Iris-versicolor',\n",
    "                             'Iris-versicolor', 'Iris-versicolor', 'Iris-versicolor'])\n",
    "assert_equal(class_[75:90], ['Iris-versicolor', 'Iris-versicolor', 'Iris-versicolor',\n",
    "                             'Iris-versicolor', 'Iris-versicolor', 'Iris-versicolor',\n",
    "                             'Iris-versicolor', 'Iris-versicolor', 'Iris-versicolor',\n",
    "                             'Iris-versicolor', 'Iris-versicolor', 'Iris-versicolor',\n",
    "                             'Iris-versicolor', 'Iris-versicolor', 'Iris-versicolor'])"
   ]
  },
  {
   "cell_type": "markdown",
   "metadata": {
    "deletable": false,
    "editable": false,
    "nbgrader": {
     "checksum": "deddffee2a48d3ba161a78d2811ff80f",
     "grade": false,
     "grade_id": "p2_text",
     "locked": true,
     "schema_version": 1,
     "solution": false
    }
   },
   "source": [
    "# Problem 2: Finding column names\n",
    "\n",
    "Recall that the column names of the data frame, df, can all be found at once using \"df.columns\".\n",
    "\n",
    "In this problem you will use df.columns to find the name of the first two columns of df, and save it in a variable named \"firsttwo_column_names\".\n",
    "\n",
    "Hint: Treat df.columns like an array or a list."
   ]
  },
  {
   "cell_type": "code",
   "execution_count": null,
   "metadata": {
    "collapsed": true,
    "deletable": false,
    "nbgrader": {
     "checksum": "2919b06fcb42410f24405e77ac75d89e",
     "grade": false,
     "grade_id": "p2_answer",
     "locked": false,
     "schema_version": 1,
     "solution": true
    }
   },
   "outputs": [],
   "source": [
    "df = pd.read_csv('./iris.csv')\n",
    "### YOUR CODE HERE"
   ]
  },
  {
   "cell_type": "code",
   "execution_count": null,
   "metadata": {
    "collapsed": true,
    "deletable": false,
    "editable": false,
    "nbgrader": {
     "checksum": "45f16ca84bfe774d53dcec5b4013f9d2",
     "grade": true,
     "grade_id": "p2_test",
     "locked": true,
     "points": 1,
     "schema_version": 1,
     "solution": false
    }
   },
   "outputs": [],
   "source": [
    "assert_equal(type(firsttwo_column_names), pd.indexes.base.Index)\n",
    "assert_equal(len(firsttwo_column_names), 2)"
   ]
  },
  {
   "cell_type": "markdown",
   "metadata": {},
   "source": [
    "# Problem 3: Writing to a file\n",
    "Now that we read data from the iris dataset we will write a subset of it to another file. The following function *write_file* takes in a file_path to write to, all 5 columns from the iris dataset and the amount of lines to write to the new file.\n",
    "\n",
    "For this problem do the following:\n",
    "- Up until the amount specified , write each column to *file_path* in the following order: sepal length in cm , petal length in cm, sepal width in cm, petal width in cm, class.\n",
    "- Each of item exclduing the last column should be delimited with only a comma (no spaces). An example row should look like the following: \n",
    "    - 5.7,2.5,5.0,2.0,Iris-virginica"
   ]
  },
  {
   "cell_type": "code",
   "execution_count": null,
   "metadata": {
    "collapsed": true,
    "deletable": false,
    "nbgrader": {
     "checksum": "fb96958456a895e0785024fcc29e33fd",
     "grade": false,
     "grade_id": "p3_answer",
     "locked": false,
     "schema_version": 1,
     "solution": true
    }
   },
   "outputs": [],
   "source": [
    "def write_file(file_path, sepal_len, petal_len, sepal_wid, petal_wid, class_, amount=25):\n",
    "    '''\n",
    "    This function writes up to `amount` rows using the 5 columns of the iris data \n",
    "    to file named file_path\n",
    "    \n",
    "    file_path : string path to write iris dataset to\n",
    "    sepal_len : sepal length in cm column in iris dataset\n",
    "    petal_len : petal length in cm column in iris dataset\n",
    "    sepal_wid : sepal width in cm column in iris dataset\n",
    "    petal_wid : petal width in cm column in iris dataset\n",
    "    \n",
    "    class_ : class column in iris dataset\n",
    "    \n",
    "    amount: Amount of rows to write to file_path\n",
    "    '''\n",
    "    \n",
    "    ### YOUR CODE HERE"
   ]
  },
  {
   "cell_type": "code",
   "execution_count": null,
   "metadata": {
    "collapsed": true,
    "deletable": false,
    "editable": false,
    "nbgrader": {
     "checksum": "fcbe21d20aa5fc1ca3008aaae40735ab",
     "grade": false,
     "grade_id": "p3_run_1",
     "locked": true,
     "schema_version": 1,
     "solution": false
    }
   },
   "outputs": [],
   "source": [
    "iris25rows_path = './iris25.csv'\n",
    "write_file(iris25rows_path, sepal_len, petal_len, sepal_wid, petal_wid, class_, amount=25)\n",
    "column3 = []\n",
    "column5 = []\n",
    "with open(iris25rows_path, 'r') as f:\n",
    "    for row in csv.reader(f):\n",
    "        column3.append(row[2])\n",
    "        column5.append(row[4])"
   ]
  },
  {
   "cell_type": "code",
   "execution_count": null,
   "metadata": {
    "collapsed": true,
    "deletable": false,
    "editable": false,
    "nbgrader": {
     "checksum": "66e26c60512ca6c9421cf11d0bde48e1",
     "grade": true,
     "grade_id": "p3_test_1",
     "locked": true,
     "points": 1,
     "schema_version": 1,
     "solution": false
    }
   },
   "outputs": [],
   "source": [
    "assert_equal(column3, ['3.5', '3.0', '3.2', '3.1', '3.6', '3.9', '3.4', '3.4',\n",
    "                           '2.9', '3.1', '3.7', '3.4', '3.0', '3.0', '4.0', '4.4',\n",
    "                           '3.9', '3.5', '3.8', '3.8', '3.4', '3.7', '3.6', '3.3', '3.4'])\n",
    "\n",
    "assert_equal(column5, ['Iris-setosa', 'Iris-setosa', 'Iris-setosa', 'Iris-setosa',\n",
    "                       'Iris-setosa', 'Iris-setosa', 'Iris-setosa', 'Iris-setosa',\n",
    "                       'Iris-setosa', 'Iris-setosa', 'Iris-setosa', 'Iris-setosa',\n",
    "                       'Iris-setosa', 'Iris-setosa', 'Iris-setosa', 'Iris-setosa',\n",
    "                       'Iris-setosa', 'Iris-setosa', 'Iris-setosa', 'Iris-setosa',\n",
    "                       'Iris-setosa', 'Iris-setosa', 'Iris-setosa', 'Iris-setosa',\n",
    "                       'Iris-setosa'])"
   ]
  },
  {
   "cell_type": "code",
   "execution_count": null,
   "metadata": {
    "collapsed": true,
    "deletable": false,
    "editable": false,
    "nbgrader": {
     "checksum": "436598c714c3214d7c40304943424843",
     "grade": false,
     "grade_id": "p3_run_2",
     "locked": true,
     "schema_version": 1,
     "solution": false
    }
   },
   "outputs": [],
   "source": [
    "iris99rows_path = './iris99.csv'\n",
    "write_file(iris99rows_path, sepal_len, petal_len, sepal_wid, petal_wid, class_, amount=100)\n",
    "\n",
    "data = []\n",
    "with open(iris99rows_path, 'r') as f:\n",
    "    for row in csv.reader(f):\n",
    "        data.append(row)"
   ]
  },
  {
   "cell_type": "code",
   "execution_count": null,
   "metadata": {
    "collapsed": true,
    "deletable": false,
    "editable": false,
    "nbgrader": {
     "checksum": "792b2610ed2240b1744086fc4946e98e",
     "grade": true,
     "grade_id": "p3_test_2",
     "locked": true,
     "points": 1,
     "schema_version": 1,
     "solution": false
    }
   },
   "outputs": [],
   "source": [
    "assert_equal(data, [['5.1', '1.4', '3.5', '0.2', 'Iris-setosa'], ['4.9', '1.4', '3.0', '0.2', 'Iris-setosa'], ['4.7', '1.3', '3.2', '0.2', 'Iris-setosa'], ['4.6', '1.5', '3.1', '0.2', 'Iris-setosa'], ['5.0', '1.4', '3.6', '0.2', 'Iris-setosa'], ['5.4', '1.7', '3.9', '0.4', 'Iris-setosa'], ['4.6', '1.4', '3.4', '0.3', 'Iris-setosa'], ['5.0', '1.5', '3.4', '0.2', 'Iris-setosa'], ['4.4', '1.4', '2.9', '0.2', 'Iris-setosa'], ['4.9', '1.5', '3.1', '0.1', 'Iris-setosa'], ['5.4', '1.5', '3.7', '0.2', 'Iris-setosa'], ['4.8', '1.6', '3.4', '0.2', 'Iris-setosa'], ['4.8', '1.4', '3.0', '0.1', 'Iris-setosa'], ['4.3', '1.1', '3.0', '0.1', 'Iris-setosa'], ['5.8', '1.2', '4.0', '0.2', 'Iris-setosa'], ['5.7', '1.5', '4.4', '0.4', 'Iris-setosa'], ['5.4', '1.3', '3.9', '0.4', 'Iris-setosa'], ['5.1', '1.4', '3.5', '0.3', 'Iris-setosa'], ['5.7', '1.7', '3.8', '0.3', 'Iris-setosa'], ['5.1', '1.5', '3.8', '0.3', 'Iris-setosa'], ['5.4', '1.7', '3.4', '0.2', 'Iris-setosa'], ['5.1', '1.5', '3.7', '0.4', 'Iris-setosa'], ['4.6', '1.0', '3.6', '0.2', 'Iris-setosa'], ['5.1', '1.7', '3.3', '0.5', 'Iris-setosa'], ['4.8', '1.9', '3.4', '0.2', 'Iris-setosa'], ['5.0', '1.6', '3.0', '0.2', 'Iris-setosa'], ['5.0', '1.6', '3.4', '0.4', 'Iris-setosa'], ['5.2', '1.5', '3.5', '0.2', 'Iris-setosa'], ['5.2', '1.4', '3.4', '0.2', 'Iris-setosa'], ['4.7', '1.6', '3.2', '0.2', 'Iris-setosa'], ['4.8', '1.6', '3.1', '0.2', 'Iris-setosa'], ['5.4', '1.5', '3.4', '0.4', 'Iris-setosa'], ['5.2', '1.5', '4.1', '0.1', 'Iris-setosa'], ['5.5', '1.4', '4.2', '0.2', 'Iris-setosa'], ['4.9', '1.5', '3.1', '0.1', 'Iris-setosa'], ['5.0', '1.2', '3.2', '0.2', 'Iris-setosa'], ['5.5', '1.3', '3.5', '0.2', 'Iris-setosa'], ['4.9', '1.5', '3.1', '0.1', 'Iris-setosa'], ['4.4', '1.3', '3.0', '0.2', 'Iris-setosa'], ['5.1', '1.5', '3.4', '0.2', 'Iris-setosa'], ['5.0', '1.3', '3.5', '0.3', 'Iris-setosa'], ['4.5', '1.3', '2.3', '0.3', 'Iris-setosa'], ['4.4', '1.3', '3.2', '0.2', 'Iris-setosa'], ['5.0', '1.6', '3.5', '0.6', 'Iris-setosa'], ['5.1', '1.9', '3.8', '0.4', 'Iris-setosa'], ['4.8', '1.4', '3.0', '0.3', 'Iris-setosa'], ['5.1', '1.6', '3.8', '0.2', 'Iris-setosa'], ['4.6', '1.4', '3.2', '0.2', 'Iris-setosa'], ['5.3', '1.5', '3.7', '0.2', 'Iris-setosa'], ['5.0', '1.4', '3.3', '0.2', 'Iris-setosa'], ['7.0', '4.7', '3.2', '1.4', 'Iris-versicolor'], ['6.4', '4.5', '3.2', '1.5', 'Iris-versicolor'], ['6.9', '4.9', '3.1', '1.5', 'Iris-versicolor'], ['5.5', '4.0', '2.3', '1.3', 'Iris-versicolor'], ['6.5', '4.6', '2.8', '1.5', 'Iris-versicolor'], ['5.7', '4.5', '2.8', '1.3', 'Iris-versicolor'], ['6.3', '4.7', '3.3', '1.6', 'Iris-versicolor'], ['4.9', '3.3', '2.4', '1.0', 'Iris-versicolor'], ['6.6', '4.6', '2.9', '1.3', 'Iris-versicolor'], ['5.2', '3.9', '2.7', '1.4', 'Iris-versicolor'], ['5.0', '3.5', '2.0', '1.0', 'Iris-versicolor'], ['5.9', '4.2', '3.0', '1.5', 'Iris-versicolor'], ['6.0', '4.0', '2.2', '1.0', 'Iris-versicolor'], ['6.1', '4.7', '2.9', '1.4', 'Iris-versicolor'], ['5.6', '3.6', '2.9', '1.3', 'Iris-versicolor'], ['6.7', '4.4', '3.1', '1.4', 'Iris-versicolor'], ['5.6', '4.5', '3.0', '1.5', 'Iris-versicolor'], ['5.8', '4.1', '2.7', '1.0', 'Iris-versicolor'], ['6.2', '4.5', '2.2', '1.5', 'Iris-versicolor'], ['5.6', '3.9', '2.5', '1.1', 'Iris-versicolor'], ['5.9', '4.8', '3.2', '1.8', 'Iris-versicolor'], ['6.1', '4.0', '2.8', '1.3', 'Iris-versicolor'], ['6.3', '4.9', '2.5', '1.5', 'Iris-versicolor'], ['6.1', '4.7', '2.8', '1.2', 'Iris-versicolor'], ['6.4', '4.3', '2.9', '1.3', 'Iris-versicolor'], ['6.6', '4.4', '3.0', '1.4', 'Iris-versicolor'], ['6.8', '4.8', '2.8', '1.4', 'Iris-versicolor'], ['6.7', '5.0', '3.0', '1.7', 'Iris-versicolor'], ['6.0', '4.5', '2.9', '1.5', 'Iris-versicolor'], ['5.7', '3.5', '2.6', '1.0', 'Iris-versicolor'], ['5.5', '3.8', '2.4', '1.1', 'Iris-versicolor'], ['5.5', '3.7', '2.4', '1.0', 'Iris-versicolor'], ['5.8', '3.9', '2.7', '1.2', 'Iris-versicolor'], ['6.0', '5.1', '2.7', '1.6', 'Iris-versicolor'], ['5.4', '4.5', '3.0', '1.5', 'Iris-versicolor'], ['6.0', '4.5', '3.4', '1.6', 'Iris-versicolor'], ['6.7', '4.7', '3.1', '1.5', 'Iris-versicolor'], ['6.3', '4.4', '2.3', '1.3', 'Iris-versicolor'], ['5.6', '4.1', '3.0', '1.3', 'Iris-versicolor'], ['5.5', '4.0', '2.5', '1.3', 'Iris-versicolor'], ['5.5', '4.4', '2.6', '1.2', 'Iris-versicolor'], ['6.1', '4.6', '3.0', '1.4', 'Iris-versicolor'], ['5.8', '4.0', '2.6', '1.2', 'Iris-versicolor'], ['5.0', '3.3', '2.3', '1.0', 'Iris-versicolor'], ['5.6', '4.2', '2.7', '1.3', 'Iris-versicolor'], ['5.7', '4.2', '3.0', '1.2', 'Iris-versicolor'], ['5.7', '4.2', '2.9', '1.3', 'Iris-versicolor'], ['6.2', '4.3', '2.9', '1.3', 'Iris-versicolor'], ['5.1', '3.0', '2.5', '1.1', 'Iris-versicolor'], ['5.7', '4.1', '2.8', '1.3', 'Iris-versicolor']])"
   ]
  },
  {
   "cell_type": "markdown",
   "metadata": {
    "collapsed": true,
    "deletable": false,
    "editable": false,
    "nbgrader": {
     "checksum": "ba4eff164caf103173c5866fd187c7ce",
     "grade": false,
     "grade_id": "p4_text",
     "locked": true,
     "schema_version": 1,
     "solution": false
    }
   },
   "source": [
    "# Problem 4: Manipulating the Iris Dataset with Panadas\n",
    "We have read in the iris dataset and stored in a pandas dataframe for you in the below cell, this variable is called *df*.  \n",
    "\n",
    "Your task is to finish the function *df_manipulate*. Dataframe df is passed into *df_manipulate*. Using Dataframe df do the following:\n",
    "- Find the sum of the \"sepal length in cm\" column. Store this in a variable called *sepal_length_sum*\n",
    "- Transpose the dataframe and store in a variable called *dfT*\n"
   ]
  },
  {
   "cell_type": "code",
   "execution_count": null,
   "metadata": {
    "collapsed": true,
    "deletable": false,
    "editable": false,
    "nbgrader": {
     "checksum": "b9bfadd7b559b810ad2b23e15130ea7d",
     "grade": false,
     "grade_id": "p4_run_1",
     "locked": true,
     "schema_version": 1,
     "solution": false
    }
   },
   "outputs": [],
   "source": [
    "df = pd.read_csv('./iris.csv') # Read in the iris dataset\n",
    "df.head() # First 5 rows of iris.csv"
   ]
  },
  {
   "cell_type": "code",
   "execution_count": null,
   "metadata": {
    "collapsed": true,
    "deletable": false,
    "nbgrader": {
     "checksum": "efa25b39a315d90f98f0b537a589e452",
     "grade": false,
     "grade_id": "p4_answer",
     "locked": false,
     "schema_version": 1,
     "solution": true
    }
   },
   "outputs": [],
   "source": [
    "def df_manipulate(df):\n",
    "    '''\n",
    "    This function will return a transposed dataframe and the sum of the\n",
    "    'sepal length (in cm)' column.\n",
    "    \n",
    "    df: dataframe with data from iris dataset\n",
    "    '''\n",
    "    \n",
    "    ### YOUR CODE HERE\n",
    "    return sepal_length_sum, dfT"
   ]
  },
  {
   "cell_type": "code",
   "execution_count": null,
   "metadata": {
    "collapsed": true,
    "deletable": false,
    "editable": false,
    "nbgrader": {
     "checksum": "3301c4f58399caca14e23f1a920a6154",
     "grade": false,
     "grade_id": "p4_run_2",
     "locked": true,
     "schema_version": 1,
     "solution": false
    }
   },
   "outputs": [],
   "source": [
    "sepal_length_sum, dfT = df_manipulate(df)"
   ]
  },
  {
   "cell_type": "code",
   "execution_count": null,
   "metadata": {
    "collapsed": true,
    "deletable": false,
    "editable": false,
    "nbgrader": {
     "checksum": "2d4edf4e5a5c4b97c52c80528b954e8e",
     "grade": true,
     "grade_id": "p4_test",
     "locked": true,
     "points": 1,
     "schema_version": 1,
     "solution": false
    }
   },
   "outputs": [],
   "source": [
    "assert_equal(dfT.equals(df.T), True)\n",
    "assert_almost_equal(sepal_length_sum, 876.5, places=5)"
   ]
  },
  {
   "cell_type": "markdown",
   "metadata": {},
   "source": [
    "-----"
   ]
  },
  {
   "cell_type": "markdown",
   "metadata": {
    "deletable": false,
    "editable": false
   },
   "source": [
    "**&copy; 2017: Robert J. Brunner at the University of Illinois.**\n",
    "\n",
    "This notebook is released under the [Creative Commons license CC BY-NC-SA 4.0][ll]. Any reproduction, adaptation, distribution, dissemination or making available of this notebook for commercial use is not allowed unless authorized in writing by the copyright holder.\n",
    "\n",
    "[ll]: https://creativecommons.org/licenses/by-nc-sa/4.0/legalcode"
   ]
  }
 ],
 "metadata": {
  "anaconda-cloud": {},
  "coursera": {
   "course_slug": "data-analytics-accountancy-1",
   "graded_item_id": "EdwYF",
   "launcher_item_id": "m3_assignment"
  },
  "kernelspec": {
   "display_name": "Python 3",
   "language": "python",
   "name": "python3"
  },
  "language_info": {
   "codemirror_mode": {
    "name": "ipython",
    "version": 3
   },
   "file_extension": ".py",
   "mimetype": "text/x-python",
   "name": "python",
   "nbconvert_exporter": "python",
   "pygments_lexer": "ipython3",
   "version": "3.6.1"
  }
 },
 "nbformat": 4,
 "nbformat_minor": 2
}
