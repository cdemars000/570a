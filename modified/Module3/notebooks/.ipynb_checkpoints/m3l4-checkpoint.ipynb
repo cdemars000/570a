{
 "cells": [
  {
   "cell_type": "markdown",
   "metadata": {},
   "source": [
    "# Module 3: Lesson 4\n",
    "\n",
    "-----\n",
    "\n",
    "## Introduction to Pandas\n",
    "\n",
    "The final lesson in this module introduces the Pandas module. The Pandas module introduces two powerful data structures into your arsenal: the `Series` and the `DataFrame`. In this lesson, you will learn about these two data structures and specifically how to use them to hold, access, and operate on data.\n",
    "\n",
    "\n",
    "### Objectives\n",
    "\n",
    "By the end of this lesson, you will understand\n",
    "\n",
    "- the basic components in the Pandas library,\n",
    "- how to create and manipulate a `Series` and a `DataFrame`,\n",
    "- how to select data from a `DataFrame` by row, column, or both rows and columns, and\n",
    "- how to manipulate large data sets by column labels.\n",
    "\n",
    "### Time Estimate\n",
    "\n",
    "Approximately 2 hours.\n",
    "\n",
    "### Activities \n",
    "\n",
    "Video: Watch the [introduction to Pandas ][ipdv] video, which will demonstrate how to work effectively with this powerful data structure.\n",
    "\n",
    "Notebook: Read and complete the practice exercises in the [Introduction to Pandas][intro2pd] notebook.\n",
    "\n",
    "------\n",
    "\n",
    "[ipdv]: https://mediaspace.illinois.edu/media/iMSA+Accy+570+m3l4v1/1_rh95bjsz\n",
    "\n",
    "[intro2pd]: intro2pandas.html"
   ]
  },
  {
   "cell_type": "markdown",
   "metadata": {},
   "source": [
    "**&copy; 2017: Robert J. Brunner at the University of Illinois.**\n",
    "\n",
    "This notebook is released under the [Creative Commons license CC BY-NC-SA 4.0][ll]. Any reproduction, adaptation, distribution, dissemination or making available of this notebook for commercial use is not allowed unless authorized in writing by the copyright holder.\n",
    "\n",
    "[ll]: https://creativecommons.org/licenses/by-nc-sa/4.0/legalcode"
   ]
  }
 ],
 "metadata": {
  "kernelspec": {
   "display_name": "Python 3",
   "language": "python",
   "name": "python3"
  },
  "language_info": {
   "codemirror_mode": {
    "name": "ipython",
    "version": 3
   },
   "file_extension": ".py",
   "mimetype": "text/x-python",
   "name": "python",
   "nbconvert_exporter": "python",
   "pygments_lexer": "ipython3",
   "version": "3.6.1"
  }
 },
 "nbformat": 4,
 "nbformat_minor": 2
}
