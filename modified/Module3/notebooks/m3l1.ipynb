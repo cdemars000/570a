{
 "cells": [
  {
   "cell_type": "markdown",
   "metadata": {},
   "source": [
    "# Module 3: Lesson 1\n",
    "\n",
    "-----\n",
    "\n",
    "## Coding and Accountancy\n",
    "\n",
    "The first lesson explores why learning programming skills can have direct benefits over using traditional business tools, such as Excel.\n",
    "\n",
    "### Objectives\n",
    "\n",
    "By the end of this lesson, you will understand the practical benefits that programming offer to accountants, including how programming can support improved auditing of analytics processes.\n",
    "\n",
    "\n",
    "### Time Estimate\n",
    "\n",
    "Approximately 1 hour.\n",
    "\n",
    "### Activities\n",
    "\n",
    "Video: Watch the [coding and accountancy][lv] video, which will discuss the benefits of programming in accountancy,\n",
    "\n",
    "Reading: Chapters 2 and 3 from the Association of Accountants and Financial Professionals in Business report on [Big Data and Accountancy][bda]. The other chapters are optional, but you will likely find them interesting and useful.\n",
    "\n",
    "Reading: A discussion on why it is [better to use Python][we] rather than Excel. Note, you aren't expected to understand all of the code demonstrated in this Blog, although you should be able to understand most of it after completing this module.\n",
    "\n",
    "------\n",
    "\n",
    "[we]: https://nrelscience.org/2014/05/19/repeatable-and-transparent-data-analysis-making-the-leap-from-excel-to-python-with-tutorial/\n",
    "\n",
    "[bda]: http://www.accaglobal.com/bigdata\n",
    "\n",
    "[lv]: https://media.business.illinois.edu/k/3160366d767c6a7f8077/43361611"
   ]
  },
  {
   "cell_type": "markdown",
   "metadata": {
    "deletable": false,
    "editable": false
   },
   "source": [
    "**&copy; 2017: Robert J. Brunner at the University of Illinois.**\n",
    "\n",
    "This notebook is released under the [Creative Commons license CC BY-NC-SA 4.0][ll]. Any reproduction, adaptation, distribution, dissemination or making available of this notebook for commercial use is not allowed unless authorized in writing by the copyright holder.\n",
    "\n",
    "[ll]: https://creativecommons.org/licenses/by-nc-sa/4.0/legalcode"
   ]
  }
 ],
 "metadata": {
  "kernelspec": {
   "display_name": "Python 3",
   "language": "python",
   "name": "python3"
  },
  "language_info": {
   "codemirror_mode": {
    "name": "ipython",
    "version": 3
   },
   "file_extension": ".py",
   "mimetype": "text/x-python",
   "name": "python",
   "nbconvert_exporter": "python",
   "pygments_lexer": "ipython3",
   "version": "3.6.7"
  }
 },
 "nbformat": 4,
 "nbformat_minor": 2
}
