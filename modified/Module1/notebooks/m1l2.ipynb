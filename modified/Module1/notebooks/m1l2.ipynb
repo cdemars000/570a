{
 "cells": [
  {
   "cell_type": "markdown",
   "metadata": {},
   "source": [
    "# Module 1: Lesson 2\n",
    "\n",
    "-----\n",
    "\n",
    "## Introduction to the Course Server\n",
    "\n",
    "This lesson introduces the course JupyterHub server where you will learn to perform many of the analytics skills presented in the rest of this course.\n",
    "\n",
    "### Objectives\n",
    "\n",
    "By the end of this lesson, you will be able to:\n",
    "\n",
    "- open a notebook,\n",
    "- download a notebook,\n",
    "- run a notebook,\n",
    "- understand the difference between Markdown and code cells,\n",
    "- create new cells in a notebook, and\n",
    "- run code cells.\n",
    "\n",
    "### Time Estimate\n",
    "\n",
    "Approximately 1 hour.\n",
    "\n",
    "### Activities\n",
    "\n",
    "Video: Watch the [introduction to the course JupyterHub server][ijhs] video, which will demonstrate how you will work with the server to perform data analytics.\n",
    "\n",
    "Notebook: Read and complete the practice exercises in the [Introduction to Jupyter][intro2nb] notebook.\n",
    "\n",
    "------\n",
    "\n",
    "[ijhs]: https://media.business.illinois.edu/k/316074676b6c6a3d3f42/43361611\n",
    "\n",
    "[intro2nb]: intro2nb.ipynb"
   ]
  },
  {
   "cell_type": "markdown",
   "metadata": {
    "deletable": false,
    "editable": false
   },
   "source": [
    "**&copy; 2017: Robert J. Brunner at the University of Illinois.**\n",
    "\n",
    "This notebook is released under the [Creative Commons license CC BY-NC-SA 4.0][ll]. Any reproduction, adaptation, distribution, dissemination or making available of this notebook for commercial use is not allowed unless authorized in writing by the copyright holder.\n",
    "\n",
    "[ll]: https://creativecommons.org/licenses/by-nc-sa/4.0/legalcode"
   ]
  }
 ],
 "metadata": {
  "kernelspec": {
   "display_name": "Python 3",
   "language": "python",
   "name": "python3"
  },
  "language_info": {
   "codemirror_mode": {
    "name": "ipython",
    "version": 3
   },
   "file_extension": ".py",
   "mimetype": "text/x-python",
   "name": "python",
   "nbconvert_exporter": "python",
   "pygments_lexer": "ipython3",
   "version": "3.6.7"
  }
 },
 "nbformat": 4,
 "nbformat_minor": 2
}
