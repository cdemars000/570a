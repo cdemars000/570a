{
 "cells": [
  {
   "cell_type": "markdown",
   "metadata": {},
   "source": [
    "# Module 1: Lesson 3\n",
    "\n",
    "-----\n",
    "\n",
    "## Introduction to Markdown\n",
    "\n",
    "This lesson introduces [markdown][md], which is an annotated format for writing text that can be rendered easily in different manners. You will use markdown for completing course projects, as it is enables writing documents quickly by forcing the writer to concentrate on the content over presentation.\n",
    "\n",
    "### Objectives\n",
    "\n",
    "By the end of this lesson, you will be able to write Markdown to indicate:\n",
    "\n",
    "- header text,\n",
    "- inline styling,\n",
    "- lists,\n",
    "- code,\n",
    "- math formula, and\n",
    "- quoting text.\n",
    "\n",
    "### Time Estimate\n",
    "\n",
    "Approximately 1 hour.\n",
    "\n",
    "### Activities\n",
    "\n",
    "Video: Watch the [introduction to markdown][imdv] video, which will demonstrate how you can easily construct a simple formatted document by using markdown.\n",
    "\n",
    "Notebook: Read and complete the practice exercises in the [Introduction to Markdown][intro2md] notebook.\n",
    "\n",
    "-----\n",
    "\n",
    "[md]: http://daringfireball.net/projects/markdown/\n",
    "[intro2md]: intro2md.html\n",
    "[imdv]: \t\n",
    "https://media.business.illinois.edu/k/3160787c3a3a796a7070/43361611"
   ]
  },
  {
   "cell_type": "markdown",
   "metadata": {
    "deletable": false,
    "editable": false
   },
   "source": [
    "**&copy; 2017: Robert J. Brunner at the University of Illinois.**\n",
    "\n",
    "This notebook is released under the [Creative Commons license CC BY-NC-SA 4.0][ll]. Any reproduction, adaptation, distribution, dissemination or making available of this notebook for commercial use is not allowed unless authorized in writing by the copyright holder.\n",
    "\n",
    "[ll]: https://creativecommons.org/licenses/by-nc-sa/4.0/legalcode"
   ]
  }
 ],
 "metadata": {
  "kernelspec": {
   "display_name": "Python 3",
   "language": "python",
   "name": "python3"
  },
  "language_info": {
   "codemirror_mode": {
    "name": "ipython",
    "version": 3
   },
   "file_extension": ".py",
   "mimetype": "text/x-python",
   "name": "python",
   "nbconvert_exporter": "python",
   "pygments_lexer": "ipython3",
   "version": "3.6.5"
  }
 },
 "nbformat": 4,
 "nbformat_minor": 2
}
