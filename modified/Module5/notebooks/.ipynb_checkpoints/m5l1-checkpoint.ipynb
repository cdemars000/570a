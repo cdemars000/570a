{
 "cells": [
  {
   "cell_type": "markdown",
   "metadata": {},
   "source": [
    "# Module 5: Lesson 1\n",
    "\n",
    "-----\n",
    "\n",
    "## The Importance of Data Visualizations\n",
    "\n",
    "The first lesson explores how humans view data, which includes techniques to use and avoid to create clear and powerful visualizations.\n",
    "\n",
    "### Objectives\n",
    "\n",
    "By the end of this lesson, you will understand that visualizations\n",
    "\n",
    "- are an important tool, that can convey a message quickly to a large and diverse audience,\n",
    "- can be misused to distort the underlying data, and\n",
    "- are based on several basic concepts that can be used to build creative approaches for communicating information.\n",
    "\n",
    "You should share with the class via a Moodle Discussion Forum post your reactions to these activities.\n",
    "\n",
    "### Time Estimate\n",
    "\n",
    "Approximately 1 hour.\n",
    "\n",
    "### Activities\n",
    "\n",
    "Video: Watch the [importance of data visualizations][lv] video, which will introduce this important topic.\n",
    "\n",
    "Reading: [Read about the power of visual perception ][pvp], which introduces ways to paint a _clear and powerful_ visualization.\n",
    "\n",
    "Reading: [Visualization lies][vl], which introduces visualization techniques that can _mislead and confuse_ the interpretation of a visualization.\n",
    "\n",
    "Video: Watch the [beauty of data visualization][dmv] TED video by David McCandless, which will demonstrate how complex data can be turned into simple, beautiful visualizations.\n",
    "\n",
    "------\n",
    "\n",
    "[pvp]: https://www.perceptualedge.com/articles/ie/visual_perception.pdf\n",
    "[vl]: https://flowingdata.com/2017/02/09/how-to-spot-visualization-lies/\n",
    "[dmv]: https://www.ted.com/talks/david_mccandless_the_beauty_of_data_visualization\n",
    "\n",
    "[lv]: https://mediaspace.illinois.edu/media/iMSA+Accy+570+m5l1v1/1_1qqzzz0w"
   ]
  },
  {
   "cell_type": "markdown",
   "metadata": {},
   "source": [
    "**&copy; 2017: Robert J. Brunner at the University of Illinois.**\n",
    "\n",
    "This notebook is released under the [Creative Commons license CC BY-NC-SA 4.0][ll]. Any reproduction, adaptation, distribution, dissemination or making available of this notebook for commercial use is not allowed unless authorized in writing by the copyright holder.\n",
    "\n",
    "[ll]: https://creativecommons.org/licenses/by-nc-sa/4.0/legalcode"
   ]
  }
 ],
 "metadata": {
  "kernelspec": {
   "display_name": "Python 3",
   "language": "python",
   "name": "python3"
  },
  "language_info": {
   "codemirror_mode": {
    "name": "ipython",
    "version": 3
   },
   "file_extension": ".py",
   "mimetype": "text/x-python",
   "name": "python",
   "nbconvert_exporter": "python",
   "pygments_lexer": "ipython3",
   "version": "3.6.1"
  }
 },
 "nbformat": 4,
 "nbformat_minor": 2
}
