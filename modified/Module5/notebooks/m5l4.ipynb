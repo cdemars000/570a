{
 "cells": [
  {
   "cell_type": "markdown",
   "metadata": {},
   "source": [
    "# Module 5: Lesson 4\n",
    "\n",
    "-----\n",
    "\n",
    "## Introduction to Data Visualizations in Python\t\n",
    "\n",
    "The final lesson explores a one-dimensional data set visually by using Python. This lesson will introduce the rug plot, the box plot, and the histogram.\n",
    "\n",
    "\n",
    "### Objectives\n",
    "\n",
    "By the end of this lesson, you will be able to\n",
    "\n",
    "- create a rug plot in Python,\n",
    "- create a box plot in Python,\n",
    "- create a one-dimensional histogram in Python, and\n",
    "- articulate the importance of making clear, and concise visualizations.\n",
    "\n",
    "### Time Estimate\n",
    "\n",
    "Approximately 2 hours.\n",
    "\n",
    "### Activities \n",
    "\n",
    "Video: Watch the [introduction to data visualization ][idv] video, which will demonstrate how to visually explore a one-dimensional data set.\n",
    "\n",
    "Reading: Read about techniques to [improve a simple visualization][isvr] by removing _chart junk_.\n",
    "\n",
    "Notebook: Read and complete the student exercises in the [Introduction to data visualization][intro2dv] notebook.\n",
    "\n",
    "------\n",
    "\n",
    "[isvr]: http://www.darkhorseanalytics.com/blog/data-looks-better-naked\n",
    "[idv]: https://media.business.illinois.edu/k/31607939707b74757d7f/43361611\n",
    "\n",
    "[intro2dv]: intro2dataviz.ipynb"
   ]
  },
  {
   "cell_type": "markdown",
   "metadata": {
    "deletable": false,
    "editable": false
   },
   "source": [
    "**&copy; 2017: Robert J. Brunner at the University of Illinois.**\n",
    "\n",
    "This notebook is released under the [Creative Commons license CC BY-NC-SA 4.0][ll]. Any reproduction, adaptation, distribution, dissemination or making available of this notebook for commercial use is not allowed unless authorized in writing by the copyright holder.\n",
    "\n",
    "[ll]: https://creativecommons.org/licenses/by-nc-sa/4.0/legalcode"
   ]
  }
 ],
 "metadata": {
  "kernelspec": {
   "display_name": "Python 3",
   "language": "python",
   "name": "python3"
  },
  "language_info": {
   "codemirror_mode": {
    "name": "ipython",
    "version": 3
   },
   "file_extension": ".py",
   "mimetype": "text/x-python",
   "name": "python",
   "nbconvert_exporter": "python",
   "pygments_lexer": "ipython3",
   "version": "3.6.7"
  }
 },
 "nbformat": 4,
 "nbformat_minor": 2
}
