{
 "cells": [
  {
   "cell_type": "markdown",
   "metadata": {},
   "source": [
    "# Module 5: Lesson 2\n",
    "\n",
    "-----\n",
    "\n",
    "## The Quantitative Display of Information\n",
    "\n",
    "The second lesson explores the quantitative display of information, and how different visualization techniques can improve the understanding of data.\n",
    "\n",
    "### Objectives\n",
    "\n",
    "By the end of this lesson, you will be able to:\n",
    "\n",
    "- explain how to use different colors, glyphs, and sizes to convey information in a plot,\n",
    "- explain how different types of visualizations can effectively convey quantitative information, and\n",
    "- articulate how quantitative visualizations can convey dense information quickly and easily.\n",
    "\n",
    "### Time Estimate\n",
    "\n",
    "Approximately 1 hour.\n",
    "\n",
    "### Activities \n",
    "\n",
    "Video: Watch the [quantitative display of information][lv] video, which will introduce the concepts underlying the display of quantitative data.\n",
    "\n",
    "Reading: [Read about the visualization of quantitative data][vpv], which discusses and contrasts different visualization techniques.\n",
    "\n",
    "Video: Watch the [best stats you've ever seen][hrv] TED video by Hans Rosling, which will demonstrate how visualizations can be sued to clearly articulate information.\n",
    "\n",
    "------\n",
    "\n",
    "[vpv]: http://www.perceptualedge.com/articles/visual_business_intelligence/the_visual_perception_of_variation.pdf\n",
    "[hrv]: https://www.ted.com/talks/hans_rosling_shows_the_best_stats_you_ve_ever_seen?language=en\n",
    "[lv]: https://media.business.illinois.edu/k/3160366a396e686d7875/43361611\n"
   ]
  },
  {
   "cell_type": "markdown",
   "metadata": {
    "deletable": false,
    "editable": false
   },
   "source": [
    "**&copy; 2017: Robert J. Brunner at the University of Illinois.**\n",
    "\n",
    "This notebook is released under the [Creative Commons license CC BY-NC-SA 4.0][ll]. Any reproduction, adaptation, distribution, dissemination or making available of this notebook for commercial use is not allowed unless authorized in writing by the copyright holder.\n",
    "\n",
    "[ll]: https://creativecommons.org/licenses/by-nc-sa/4.0/legalcode"
   ]
  }
 ],
 "metadata": {
  "kernelspec": {
   "display_name": "Python 3",
   "language": "python",
   "name": "python3"
  },
  "language_info": {
   "codemirror_mode": {
    "name": "ipython",
    "version": 3
   },
   "file_extension": ".py",
   "mimetype": "text/x-python",
   "name": "python",
   "nbconvert_exporter": "python",
   "pygments_lexer": "ipython3",
   "version": "3.6.7"
  }
 },
 "nbformat": 4,
 "nbformat_minor": 2
}
