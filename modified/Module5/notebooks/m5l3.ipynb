{
 "cells": [
  {
   "cell_type": "markdown",
   "metadata": {},
   "source": [
    "# Module 5: Lesson 3\n",
    "\n",
    "-----\n",
    "\n",
    "## Introduction to Plotting in Python\n",
    "\n",
    "The third lesson introduces how to actually construct a visualization in Python, by using the Matplotlib module. Also, the Seaborn module is introduced as a way to easily improve the appearance of a Python plot.\n",
    "\n",
    "### Objectives\n",
    "\n",
    "By the end of this lesson, you will be be able to\n",
    "\n",
    "- create a simple plot in Python,\n",
    "- annotate a simple plot in Python by using the Matplotlib module, and\n",
    "- use the Seaborn module to plots more visually effective.\n",
    "\n",
    "\n",
    "### Time Estimate\n",
    "\n",
    "Approximately 1 hour.\n",
    "\n",
    "### Activities\n",
    "\n",
    "Video: Watch the [introduction to plotting ][ipv] video, which will demonstrate the basic concepts in making a visualization in Python.\n",
    "\n",
    "Notebook: Read and complete the student exercises in the [Introduction to Plotting][intro2plotting] notebook.\n",
    "\n",
    "------\n",
    "\n",
    "[ipv]: https://media.business.illinois.edu/k/3160766d6578736f406a/43361611\n",
    "\n",
    "[intro2plotting]: intro2plotting.html"
   ]
  },
  {
   "cell_type": "markdown",
   "metadata": {
    "deletable": false,
    "editable": false
   },
   "source": [
    "**&copy; 2017: Robert J. Brunner at the University of Illinois.**\n",
    "\n",
    "This notebook is released under the [Creative Commons license CC BY-NC-SA 4.0][ll]. Any reproduction, adaptation, distribution, dissemination or making available of this notebook for commercial use is not allowed unless authorized in writing by the copyright holder.\n",
    "\n",
    "[ll]: https://creativecommons.org/licenses/by-nc-sa/4.0/legalcode"
   ]
  }
 ],
 "metadata": {
  "kernelspec": {
   "display_name": "Python 3",
   "language": "python",
   "name": "python3"
  },
  "language_info": {
   "codemirror_mode": {
    "name": "ipython",
    "version": 3
   },
   "file_extension": ".py",
   "mimetype": "text/x-python",
   "name": "python",
   "nbconvert_exporter": "python",
   "pygments_lexer": "ipython3",
   "version": "3.6.5"
  }
 },
 "nbformat": 4,
 "nbformat_minor": 2
}
