{
 "cells": [
  {
   "cell_type": "markdown",
   "metadata": {},
   "source": [
    "# Module 8: Introduction to Density Estimation\n",
    "\n",
    "Often, as part of exploratory data analysis, a histogram is used to understand how data are distributed, and in fact this technique can be used to compute a probability mass function (or PMF) from a data set as was shown in an earlier module. However, the binning approach has issues, including a dependance on the number and width of the bins used to compute the histogram. One approach to overcome these issues is to fit a function to the binned data, which is known as parametric estimation. Alternatively, we can construct an approximation to the data by employing a non-parametric density estimation. The most commonly used non-parametric technique is kernel density estimation (or KDE). In this module, you will learn about density estimation and specifically how to employ KDE. One often overlooked aspect of density estimation is the model representation that is generated for the data, which can be used to emulate new data. This concept is demonstrated by applying density estimation to images of handwritten digits, and sampling from the resulting model.\n",
    "\n",
    "## Learning Objectives\n",
    "\n",
    "#### By the end of this module, you should be able to:\n",
    "\n",
    "- understand both parametric and non-parametric density estimation\n",
    "- understand the basic concepts behind kernel density estimation\n",
    "- use density estimation to approximate or smooth discrete data\n",
    "- construct a kernel density estimate by using the Python scikit-learn module, and\n",
    "- sample from a density estimate model to generate new data.\n",
    "\n",
    "### Activities and Assignments\n",
    "\n",
    "| Activities and Assignments               | Time Estimate | Deadline | Points |\n",
    "| :--------------------------------------- | ------------- | --------- | -----: |\n",
    "| **[Module 8 Overview Video][wv]**        | 10 Minutes    | N/A   |    N/A |\n",
    "| **[Module 8 Lesson 1: Why learn Data Analytics?][nb1]** | 1 Hour        | N/A  |    N/A |\n",
    "| **[Module 8 Lesson 2: Introduction to Density Estimation][nb2]** | 2 Hours       | N/A  |    N/A |\n",
    "| **[Module 8 Lesson 3: Advanced Density Estimation][nb3]** | 2 Hours       | N/A  |    N/A |\n",
    "| **[Module 8 Assignment][ma]**            | 2 Hours       | N/A   |    N/A |\n",
    "\n",
    "----------\n",
    "\n",
    "[nb1]: notebooks/m8l1.ipynb\n",
    "[nb2]: notebooks/m8l2.ipynb\n",
    "[nb3]: notebooks/m8l3.ipynb\n",
    "\n",
    "[ma]: assignment/assignment.ipynb\n",
    "\n",
    "[wv]: https://media.business.illinois.edu/k/3160726871766b3e6d77/43361611\n"
   ]
  },
  {
   "cell_type": "markdown",
   "metadata": {
    "deletable": false,
    "editable": false
   },
   "source": [
    "**&copy; 2017: Robert J. Brunner at the University of Illinois.**\n",
    "\n",
    "This notebook is released under the [Creative Commons license CC BY-NC-SA 4.0][ll]. Any reproduction, adaptation, distribution, dissemination or making available of this notebook for commercial use is not allowed unless authorized in writing by the copyright holder.\n",
    "\n",
    "[ll]: https://creativecommons.org/licenses/by-nc-sa/4.0/legalcode"
   ]
  }
 ],
 "metadata": {
  "kernelspec": {
   "display_name": "Python 3",
   "language": "python",
   "name": "python3"
  },
  "language_info": {
   "codemirror_mode": {
    "name": "ipython",
    "version": 3
   },
   "file_extension": ".py",
   "mimetype": "text/x-python",
   "name": "python",
   "nbconvert_exporter": "python",
   "pygments_lexer": "ipython3",
   "version": "3.6.7"
  }
 },
 "nbformat": 4,
 "nbformat_minor": 2
}
