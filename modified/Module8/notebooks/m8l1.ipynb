{
 "cells": [
  {
   "cell_type": "markdown",
   "metadata": {},
   "source": [
    "# Module 8: Lesson 1\n",
    "\n",
    "-----\n",
    "\n",
    "## Why Learn Data Analytics?\n",
    "\n",
    "This lesson explores why accounting students need to learn data analytics skills, specifically as they move into a big data world.\n",
    "\n",
    "### Objectives\n",
    "\n",
    "By the end of this lesson, you will understand how\n",
    "\n",
    "- the growth of data is impacting all of the sub-fields in Accountancy,\n",
    "- the pace of data acquisition is only expected to increase, and\n",
    "- learning data analytics can future-proof your career.\n",
    "\n",
    "You should share with the class via a Moodle Discussion Forum post your reaction to this reading.\n",
    "\n",
    "### Time Estimate\n",
    "\n",
    "Approximately 1 hour.\n",
    "\n",
    "### Activities\n",
    "\n",
    "Video: Watch the [Why Learn Data Analytics][lv] video, which will discuss the benefits you accrue when you to learn about, and how to apply, data analytics.\n",
    "\n",
    "Reading: Why accounting students need to understand [data analytics][ada], specifically in a big data world. Note, you are only required to read chapter four for this course.\n",
    "\n",
    "------\n",
    "\n",
    "[ada]: http://www.accaglobal.com/bigdata\n",
    "\n",
    "[lv]: https://media.business.illinois.edu/k/3160727465356f743b6f/43361611\n"
   ]
  },
  {
   "cell_type": "markdown",
   "metadata": {
    "deletable": false,
    "editable": false
   },
   "source": [
    "**&copy; 2017: Robert J. Brunner at the University of Illinois.**\n",
    "\n",
    "This notebook is released under the [Creative Commons license CC BY-NC-SA 4.0][ll]. Any reproduction, adaptation, distribution, dissemination or making available of this notebook for commercial use is not allowed unless authorized in writing by the copyright holder.\n",
    "\n",
    "[ll]: https://creativecommons.org/licenses/by-nc-sa/4.0/legalcode"
   ]
  }
 ],
 "metadata": {
  "kernelspec": {
   "display_name": "Python 3",
   "language": "python",
   "name": "python3"
  },
  "language_info": {
   "codemirror_mode": {
    "name": "ipython",
    "version": 3
   },
   "file_extension": ".py",
   "mimetype": "text/x-python",
   "name": "python",
   "nbconvert_exporter": "python",
   "pygments_lexer": "ipython3",
   "version": "3.6.5"
  }
 },
 "nbformat": 4,
 "nbformat_minor": 2
}
