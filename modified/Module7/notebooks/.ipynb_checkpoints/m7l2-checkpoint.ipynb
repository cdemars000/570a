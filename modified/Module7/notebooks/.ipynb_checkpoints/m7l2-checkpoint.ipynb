{
 "cells": [
  {
   "cell_type": "markdown",
   "metadata": {},
   "source": [
    "# Module 7: Lesson 2\n",
    "\n",
    "-----\n",
    "\n",
    "## Introduction to NumPy Matrices\n",
    "\n",
    "The second lesson introduces how to use the NumPy module in Python to explore higher dimensional data, including the analytical quantification of the correlation between different dimensions of a data set.\n",
    "\n",
    "### Objectives\n",
    "\n",
    "By the end of this lesson, you will be able to:\n",
    "\n",
    "- create multi-dimensional arrays by using NumPy,\n",
    "- access elements from multi-dimensional arrays,\n",
    "- use NumPy to operate efficiently on multi-dimensional data,\n",
    "- compute correlation measurements from NumPy arrays.\n",
    "\n",
    "### Time Estimate\n",
    "\n",
    "Approximately 2 hours.\n",
    "\n",
    "### Activities \n",
    "\n",
    "Video: Watch the [Introduction to NumPy Matrices ][nmv] video, which will demonstrate how to work with two-dimensional (and higher dimensional) data by using the NumPy module in Python.\n",
    "\n",
    "Notebook: Read and complete the student exercises in the [Introduction to NumPy Matrices][intro2nm] notebook.\n",
    "\n",
    "------\n",
    "\n",
    "[nmv]: https://mediaspace.illinois.edu/media/iMSA+Accy+570+m7l2v1/1_rah9vw7f\n",
    "[intro2nm]: numpy2d.html"
   ]
  },
  {
   "cell_type": "markdown",
   "metadata": {},
   "source": [
    "**&copy; 2017: Robert J. Brunner at the University of Illinois.**\n",
    "\n",
    "This notebook is released under the [Creative Commons license CC BY-NC-SA 4.0][ll]. Any reproduction, adaptation, distribution, dissemination or making available of this notebook for commercial use is not allowed unless authorized in writing by the copyright holder.\n",
    "\n",
    "[ll]: https://creativecommons.org/licenses/by-nc-sa/4.0/legalcode"
   ]
  }
 ],
 "metadata": {
  "kernelspec": {
   "display_name": "Python 3",
   "language": "python",
   "name": "python3"
  },
  "language_info": {
   "codemirror_mode": {
    "name": "ipython",
    "version": 3
   },
   "file_extension": ".py",
   "mimetype": "text/x-python",
   "name": "python",
   "nbconvert_exporter": "python",
   "pygments_lexer": "ipython3",
   "version": "3.6.1"
  }
 },
 "nbformat": 4,
 "nbformat_minor": 2
}
