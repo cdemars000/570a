{
 "cells": [
  {
   "cell_type": "markdown",
   "metadata": {},
   "source": [
    "# Introduction to Ordinary Linear Regression\n",
    "\n",
    "-----"
   ]
  },
  {
   "cell_type": "markdown",
   "metadata": {},
   "source": [
    "When you explore a data set, there are basic steps that should be followed. First, explore the data to be sure that missing values are properly handled, dates and times are encoded correctly, and that other strange artifacts are not present. Once the data has been cleaned, the next step is to compute descriptive statistics for the relevant features in the data, and to ensure they appear correct. Finally, joint distributions of different pairs of data should be visually explored to infer potential correlations. These steps can be summarized by the following relation:\n",
    "- Clean\n",
    "- Describe\n",
    "- Visualize\n",
    "\n",
    "Once these steps are done, the next step is to model any potential correlations. In this notebook, we introduce the simplest modeling technique, **ordinary least squares**, or **ordinary linear regression**, which constructs a simple model, such as $y = mx + b$ from a data set. This model builds on assumptions, such as the features are linearly independent and any errors in the regression are normally distributed, to build a model from the independent variables (i.e., $x$) for the dependent variable ($y$). In some application areas, the independent variables are known as the predictors, while the dependent variable is known as the response variable. If only one feature is used ($x$), the technique is known as simple linear regression, while if more than one feature is used ($x_1, x_2, ..., x_n$), the technique is known as multiple linear regression. In this notebook we will focus solely on simple linear regression.\n",
    "\n",
    "Once a model has been built, it can be used for a variety of purposes, including prediction of new responses, understanding possible causation, or derivation of new physical laws and relationships. In the case of prediction, the application of the model over the range spanned by the dependent variables, which is sometimes called the support (i.e., $x_{min} \\leq x \\leq x_{max}$) is known as interpolation, while the application of the model outside this support is known as extrapolation. In general, extrapolation should be approached with extreme care, since the model has no basis for being correct in any regime where there was no support during its construction.\n",
    "\n",
    "Before proceeding with an exploration of a demonstration data set, we first perform our standard module import.\n",
    "\n",
    "-----"
   ]
  },
  {
   "cell_type": "code",
   "execution_count": 1,
   "metadata": {},
   "outputs": [],
   "source": [
    "# Set up Notebook\n",
    "\n",
    "%matplotlib inline\n",
    "\n",
    "# Standard imports\n",
    "import numpy as np\n",
    "import pandas as pd\n",
    "import matplotlib.pyplot as plt\n",
    "import seaborn as sns\n",
    "\n",
    "# We do this to ignore several specific Pandas warnings\n",
    "import warnings\n",
    "warnings.filterwarnings(\"ignore\")\n",
    "\n",
    "# Use default white plot style\n",
    "sns.set(style=\"white\")"
   ]
  },
  {
   "cell_type": "markdown",
   "metadata": {},
   "source": [
    "-----\n",
    "\n",
    "To demonstrate ordinary linear regression, we will use a classic data set known as [Anscombe's quartet][waq]. This data set is included with the Seaborn module, making it easy to analyze. To begin, we load this data into our notebook, and select only the first data set in the quartet. This data has already been cleaned, and we display the first several rows to verify this. As a result, the first step in our analysis process, _clean_, is complete.\n",
    "\n",
    "-----\n",
    "[waq]: https://en.wikipedia.org/wiki/Anscombe%27s_quartet"
   ]
  },
  {
   "cell_type": "code",
   "execution_count": 2,
   "metadata": {},
   "outputs": [
    {
     "data": {
      "text/html": [
       "<div>\n",
       "<style scoped>\n",
       "    .dataframe tbody tr th:only-of-type {\n",
       "        vertical-align: middle;\n",
       "    }\n",
       "\n",
       "    .dataframe tbody tr th {\n",
       "        vertical-align: top;\n",
       "    }\n",
       "\n",
       "    .dataframe thead th {\n",
       "        text-align: right;\n",
       "    }\n",
       "</style>\n",
       "<table border=\"1\" class=\"dataframe\">\n",
       "  <thead>\n",
       "    <tr style=\"text-align: right;\">\n",
       "      <th></th>\n",
       "      <th>dataset</th>\n",
       "      <th>x</th>\n",
       "      <th>y</th>\n",
       "    </tr>\n",
       "  </thead>\n",
       "  <tbody>\n",
       "    <tr>\n",
       "      <th>0</th>\n",
       "      <td>I</td>\n",
       "      <td>10.0</td>\n",
       "      <td>8.04</td>\n",
       "    </tr>\n",
       "    <tr>\n",
       "      <th>1</th>\n",
       "      <td>I</td>\n",
       "      <td>8.0</td>\n",
       "      <td>6.95</td>\n",
       "    </tr>\n",
       "    <tr>\n",
       "      <th>2</th>\n",
       "      <td>I</td>\n",
       "      <td>13.0</td>\n",
       "      <td>7.58</td>\n",
       "    </tr>\n",
       "    <tr>\n",
       "      <th>3</th>\n",
       "      <td>I</td>\n",
       "      <td>9.0</td>\n",
       "      <td>8.81</td>\n",
       "    </tr>\n",
       "    <tr>\n",
       "      <th>4</th>\n",
       "      <td>I</td>\n",
       "      <td>11.0</td>\n",
       "      <td>8.33</td>\n",
       "    </tr>\n",
       "  </tbody>\n",
       "</table>\n",
       "</div>"
      ],
      "text/plain": [
       "  dataset     x     y\n",
       "0       I  10.0  8.04\n",
       "1       I   8.0  6.95\n",
       "2       I  13.0  7.58\n",
       "3       I   9.0  8.81\n",
       "4       I  11.0  8.33"
      ]
     },
     "execution_count": 2,
     "metadata": {},
     "output_type": "execute_result"
    }
   ],
   "source": [
    "# Load data\n",
    "adf = sns.load_dataset(\"anscombe\")\n",
    "\n",
    "# Select only the first data set\n",
    "adfi = adf[adf.dataset == 'I']\n",
    "\n",
    "# Display first few rows\n",
    "adfi.head(5)"
   ]
  },
  {
   "cell_type": "markdown",
   "metadata": {},
   "source": [
    "----\n",
    "\n",
    "Our next step is to compute basic, descriptive statistics for the features in this data set. To accomplish this, we can use the `describe` function on our Pandas DataFrame. This indicates our data seem well distributed, with reasonable mean and standard deviation when compared to the minimum and maximum values of each feature. We also see that we only have eleven instances, making this a small data set.\n",
    "\n",
    "-----"
   ]
  },
  {
   "cell_type": "code",
   "execution_count": 3,
   "metadata": {},
   "outputs": [
    {
     "data": {
      "text/html": [
       "<div>\n",
       "<style scoped>\n",
       "    .dataframe tbody tr th:only-of-type {\n",
       "        vertical-align: middle;\n",
       "    }\n",
       "\n",
       "    .dataframe tbody tr th {\n",
       "        vertical-align: top;\n",
       "    }\n",
       "\n",
       "    .dataframe thead th {\n",
       "        text-align: right;\n",
       "    }\n",
       "</style>\n",
       "<table border=\"1\" class=\"dataframe\">\n",
       "  <thead>\n",
       "    <tr style=\"text-align: right;\">\n",
       "      <th></th>\n",
       "      <th>x</th>\n",
       "      <th>y</th>\n",
       "    </tr>\n",
       "  </thead>\n",
       "  <tbody>\n",
       "    <tr>\n",
       "      <th>count</th>\n",
       "      <td>11.000000</td>\n",
       "      <td>11.000000</td>\n",
       "    </tr>\n",
       "    <tr>\n",
       "      <th>mean</th>\n",
       "      <td>9.000000</td>\n",
       "      <td>7.500909</td>\n",
       "    </tr>\n",
       "    <tr>\n",
       "      <th>std</th>\n",
       "      <td>3.316625</td>\n",
       "      <td>2.031568</td>\n",
       "    </tr>\n",
       "    <tr>\n",
       "      <th>min</th>\n",
       "      <td>4.000000</td>\n",
       "      <td>4.260000</td>\n",
       "    </tr>\n",
       "    <tr>\n",
       "      <th>25%</th>\n",
       "      <td>6.500000</td>\n",
       "      <td>6.315000</td>\n",
       "    </tr>\n",
       "    <tr>\n",
       "      <th>50%</th>\n",
       "      <td>9.000000</td>\n",
       "      <td>7.580000</td>\n",
       "    </tr>\n",
       "    <tr>\n",
       "      <th>75%</th>\n",
       "      <td>11.500000</td>\n",
       "      <td>8.570000</td>\n",
       "    </tr>\n",
       "    <tr>\n",
       "      <th>max</th>\n",
       "      <td>14.000000</td>\n",
       "      <td>10.840000</td>\n",
       "    </tr>\n",
       "  </tbody>\n",
       "</table>\n",
       "</div>"
      ],
      "text/plain": [
       "               x          y\n",
       "count  11.000000  11.000000\n",
       "mean    9.000000   7.500909\n",
       "std     3.316625   2.031568\n",
       "min     4.000000   4.260000\n",
       "25%     6.500000   6.315000\n",
       "50%     9.000000   7.580000\n",
       "75%    11.500000   8.570000\n",
       "max    14.000000  10.840000"
      ]
     },
     "execution_count": 3,
     "metadata": {},
     "output_type": "execute_result"
    }
   ],
   "source": [
    "adfi.describe()"
   ]
  },
  {
   "cell_type": "markdown",
   "metadata": {},
   "source": [
    "----\n",
    "\n",
    "Our next step is to calculate more complex descriptive statistics, including correlation measures and the covariance matrix. These can be calculated by converting the two features to NumPy arrays and using the correlation measurement functions `pearsonr` and `spearmanr` from the SciPy stats module and the `cov` function in the NumPy module. This is demonstrated in the following code cell, where the `pearsonr` function indicates that there is a fairly strong correlation between our two features.\n",
    "\n",
    "-----"
   ]
  },
  {
   "cell_type": "code",
   "execution_count": 4,
   "metadata": {},
   "outputs": [
    {
     "name": "stdout",
     "output_type": "stream",
     "text": [
      "Pearsonr correlation for x,y = 0.816\n",
      "Spearmanr correlation for x,y = 0.818\n",
      "\n",
      "Covariance Matrix = \n",
      " [[11.          5.501     ]\n",
      " [ 5.501       4.12726909]]\n",
      "\n",
      "Correlation Matrix = \n",
      " [[1.         0.81642052]\n",
      " [0.81642052 1.        ]]\n"
     ]
    }
   ],
   "source": [
    "import scipy.stats as st\n",
    "\n",
    "# First extact the x & y columns as numpy arrays\n",
    "x = adfi.x.as_matrix()\n",
    "y = adfi.y.as_matrix()\n",
    "\n",
    "# Compute Correlations\n",
    "pr = st.pearsonr(x, y)\n",
    "sr = st.spearmanr(x, y)\n",
    "\n",
    "print(f'Pearsonr correlation for x,y = {pr[0]:5.3f}')\n",
    "print(f'Spearmanr correlation for x,y = {sr[0]:5.3f}')\n",
    "\n",
    "print('\\nCovariance Matrix = \\n', np.cov(x, y))\n",
    "\n",
    "print('\\nCorrelation Matrix = \\n', np.corrcoef(x, y))"
   ]
  },
  {
   "cell_type": "markdown",
   "metadata": {},
   "source": [
    "----\n",
    "\n",
    "Given the strong correlation value, it seems reasonable to expect that we can construct a linear model between these two features. Before proceeding, however, we must employ the third step in our data exploration process, _visualize_. To perform this step, we use the [`regplot`][srp] from the Seaborn module to quickly display a scatter plot between the `x` and `y` features. \n",
    "\n",
    "-----\n",
    "[srp]: http://seaborn.pydata.org/generated/seaborn.regplot.html"
   ]
  },
  {
   "cell_type": "code",
   "execution_count": 5,
   "metadata": {},
   "outputs": [
    {
     "data": {
      "image/png": "[encoded data removed]",
      "text/plain": [
       "<Figure size 432x288 with 1 Axes>"
      ]
     },
     "metadata": {
      "needs_background": "light"
     },
     "output_type": "display_data"
    }
   ],
   "source": [
    "# Plot the data as a Scatter Plot by using regplot\n",
    "ax = sns.regplot(x='x', y='y', data=adfi, fit_reg=False)\n",
    "\n",
    "# Decorate the plot\n",
    "ax.set_xlabel('X', fontsize=18)\n",
    "ax.set_ylabel('Y', fontsize=18)\n",
    "ax.set_title('Scatter Plot', fontsize=18)\n",
    "\n",
    "sns.despine(offset = 5, trim=True)"
   ]
  },
  {
   "cell_type": "markdown",
   "metadata": {},
   "source": [
    "----\n",
    "\n",
    "As expected from the correlation measure, there appears to be a strong positive correlation between these two features. We can easily over-plot the best fit, linear model by setting the `fit_reg` parameter to `True`. By setting this parameter, Seaborn computes an ordinary linear regression to the data, and displays the best fit model and associated confidence interval, which corresponds to the errors on our model parameters. This model is displayed below. If we use this model to predict new values of $y$ over the range $4 \\leq x \\leq 14$, we are interpolating, and if we predict outside this range, we would be extrapolating.\n",
    "\n",
    "-----"
   ]
  },
  {
   "cell_type": "code",
   "execution_count": 6,
   "metadata": {},
   "outputs": [
    {
     "data": {
      "image/png": "[encoded data removed]",
      "text/plain": [
       "<Figure size 432x288 with 1 Axes>"
      ]
     },
     "metadata": {
      "needs_background": "light"
     },
     "output_type": "display_data"
    }
   ],
   "source": [
    "# Plot the data as a Regression Plot\n",
    "ax = sns.regplot(x='x', y='y', data=adfi, fit_reg=True, ci=68)\n",
    "\n",
    "# Decorate Plot\n",
    "ax.set_xlabel('X', fontsize=18)\n",
    "ax.set_ylabel('Y', fontsize=18)\n",
    "ax.set_title('Scatter Plot', fontsize=18)\n",
    "\n",
    "sns.despine(offset = 5, trim=True)"
   ]
  },
  {
   "cell_type": "markdown",
   "metadata": {},
   "source": [
    "----\n",
    "\n",
    "We can plot the residuals (or errors between our model and the training features) to see if the _normal_ assumption for our errors seems reasonable. This plot can be made by using the [`residplot`][srp] in the Seaborn module. Ideally, we would see no (or very little) structure in the residual plot. Otherwise, our errors would indicate either a bad fit, or that our basic assumptions were incorrect and a different (and likely more powerful) model building technique would be needed.\n",
    "\n",
    "-----\n",
    "[srp]: http://seaborn.pydata.org/generated/seaborn.residplot.html"
   ]
  },
  {
   "cell_type": "code",
   "execution_count": 7,
   "metadata": {},
   "outputs": [
    {
     "data": {
      "image/png": "[encoded data removed]",
      "text/plain": [
       "<Figure size 432x288 with 1 Axes>"
      ]
     },
     "metadata": {
      "needs_background": "light"
     },
     "output_type": "display_data"
    }
   ],
   "source": [
    "# Plot residuals\n",
    "ax = sns.residplot(x='x', y='y', data=adfi)\n",
    "\n",
    "# Decorate Plot\n",
    "ax.set_xlabel('X', fontsize=18)\n",
    "ax.set_ylabel('Y', fontsize=18)\n",
    "ax.set_title('Residual Plot', fontsize=18)\n",
    "\n",
    "sns.despine(offset = 5, trim=True)"
   ]
  },
  {
   "cell_type": "markdown",
   "metadata": {},
   "source": [
    "-----\n",
    "\n",
    "In this residual plot, we see that the residuals are generically spread about the x-axis, which is a good sign. Thus, our assumptions seemed to be met and we can proceed with a more detailed exploration of these data.\n",
    "\n",
    "-----\n",
    "\n",
    "### Quick Data Exploration\n",
    "\n",
    "If a data set has already been cleaned, we can quickly create a visual summary of the data, the best fit linear regression, and the Pearson's r correlation coefficient value all at once by using the [`jointplot`][sj] function (for joint probability plot) from the Seaborn module. In the following code cell, we use this function to plot the first data set from Anscombe's quartet. We specify that the Pearson's r value should be computed by setting the `stat_func` parameter appropriately, and we indicate that a regression line should be drawn by setting the `kind` attribute to `reg`. Finally, we specify the format for how the Pearson's r value should be displayed via the `annot_kws` parameter, which includes a string format template, identification of the stat variable to include, and a location for the value to be displayed within the plot.\n",
    "\n",
    "Finally, one additional benefit of using the `jointplot` is the inclusion of the marginal distributions along each axis. These are seen below in the histograms at the top and right side of the regression plot. In this case we only have eleven data points, thus the marginal distributions are simple, but in general they can provide additional insight into the distribution of the data. In addition, since we indicated a regression should be applied to the data (via the `kind` parameter), the marginal distributions also have been modeled.\n",
    "\n",
    "-----\n",
    "[sj]: http://seaborn.pydata.org/generated/seaborn.jointplot.html"
   ]
  },
  {
   "cell_type": "code",
   "execution_count": 8,
   "metadata": {},
   "outputs": [
    {
     "data": {
      "image/png": "[encoded data removed]",
      "text/plain": [
       "<Figure size 432x432 with 3 Axes>"
      ]
     },
     "metadata": {
      "needs_background": "light"
     },
     "output_type": "display_data"
    }
   ],
   "source": [
    "# Create a joint probability plot, with regression line\n",
    "# and marginal distributions\n",
    "sns.jointplot(x='x', y='y', data=adfi, \n",
    "              stat_func=st.pearsonr, kind='reg',\n",
    "              annot_kws=dict(template='{stat} = {val:4.3f}', \n",
    "                             stat='$r$', loc = 2))\n",
    "\n",
    "# Decorate Plot\n",
    "ax.set_xlabel('X', fontsize=18)\n",
    "ax.set_ylabel('Y', fontsize=18)\n",
    "ax.set_title('Residual Plot', fontsize=18)\n",
    "\n",
    "# Clean plot\n",
    "sns.despine(trim=True)"
   ]
  },
  {
   "cell_type": "markdown",
   "metadata": {},
   "source": [
    "-----\n",
    "\n",
    "## Anscombe's Quartet\n",
    "\n",
    "The data set that we have been analyzing so far in this notebook is just one of the four contained in Anscombe's quartet. As before, the first step in examining new data sets involves looking at the raw data. We can do this for our DataFrame holding the Anscombe's quartet by first grouping the data by the `dataset` column, and displaying the first three rows for each group (we limit to three for space reasons, you can of course display all eleven rows from each set in the data).\n",
    "\n",
    "-----"
   ]
  },
  {
   "cell_type": "code",
   "execution_count": 9,
   "metadata": {},
   "outputs": [
    {
     "data": {
      "text/html": [
       "<div>\n",
       "<style scoped>\n",
       "    .dataframe tbody tr th:only-of-type {\n",
       "        vertical-align: middle;\n",
       "    }\n",
       "\n",
       "    .dataframe tbody tr th {\n",
       "        vertical-align: top;\n",
       "    }\n",
       "\n",
       "    .dataframe thead th {\n",
       "        text-align: right;\n",
       "    }\n",
       "</style>\n",
       "<table border=\"1\" class=\"dataframe\">\n",
       "  <thead>\n",
       "    <tr style=\"text-align: right;\">\n",
       "      <th></th>\n",
       "      <th>dataset</th>\n",
       "      <th>x</th>\n",
       "      <th>y</th>\n",
       "    </tr>\n",
       "  </thead>\n",
       "  <tbody>\n",
       "    <tr>\n",
       "      <th>0</th>\n",
       "      <td>I</td>\n",
       "      <td>10.0</td>\n",
       "      <td>8.04</td>\n",
       "    </tr>\n",
       "    <tr>\n",
       "      <th>1</th>\n",
       "      <td>I</td>\n",
       "      <td>8.0</td>\n",
       "      <td>6.95</td>\n",
       "    </tr>\n",
       "    <tr>\n",
       "      <th>2</th>\n",
       "      <td>I</td>\n",
       "      <td>13.0</td>\n",
       "      <td>7.58</td>\n",
       "    </tr>\n",
       "    <tr>\n",
       "      <th>11</th>\n",
       "      <td>II</td>\n",
       "      <td>10.0</td>\n",
       "      <td>9.14</td>\n",
       "    </tr>\n",
       "    <tr>\n",
       "      <th>12</th>\n",
       "      <td>II</td>\n",
       "      <td>8.0</td>\n",
       "      <td>8.14</td>\n",
       "    </tr>\n",
       "    <tr>\n",
       "      <th>13</th>\n",
       "      <td>II</td>\n",
       "      <td>13.0</td>\n",
       "      <td>8.74</td>\n",
       "    </tr>\n",
       "    <tr>\n",
       "      <th>22</th>\n",
       "      <td>III</td>\n",
       "      <td>10.0</td>\n",
       "      <td>7.46</td>\n",
       "    </tr>\n",
       "    <tr>\n",
       "      <th>23</th>\n",
       "      <td>III</td>\n",
       "      <td>8.0</td>\n",
       "      <td>6.77</td>\n",
       "    </tr>\n",
       "    <tr>\n",
       "      <th>24</th>\n",
       "      <td>III</td>\n",
       "      <td>13.0</td>\n",
       "      <td>12.74</td>\n",
       "    </tr>\n",
       "    <tr>\n",
       "      <th>33</th>\n",
       "      <td>IV</td>\n",
       "      <td>8.0</td>\n",
       "      <td>6.58</td>\n",
       "    </tr>\n",
       "    <tr>\n",
       "      <th>34</th>\n",
       "      <td>IV</td>\n",
       "      <td>8.0</td>\n",
       "      <td>5.76</td>\n",
       "    </tr>\n",
       "    <tr>\n",
       "      <th>35</th>\n",
       "      <td>IV</td>\n",
       "      <td>8.0</td>\n",
       "      <td>7.71</td>\n",
       "    </tr>\n",
       "  </tbody>\n",
       "</table>\n",
       "</div>"
      ],
      "text/plain": [
       "   dataset     x      y\n",
       "0        I  10.0   8.04\n",
       "1        I   8.0   6.95\n",
       "2        I  13.0   7.58\n",
       "11      II  10.0   9.14\n",
       "12      II   8.0   8.14\n",
       "13      II  13.0   8.74\n",
       "22     III  10.0   7.46\n",
       "23     III   8.0   6.77\n",
       "24     III  13.0  12.74\n",
       "33      IV   8.0   6.58\n",
       "34      IV   8.0   5.76\n",
       "35      IV   8.0   7.71"
      ]
     },
     "execution_count": 9,
     "metadata": {},
     "output_type": "execute_result"
    }
   ],
   "source": [
    "# Group data by dataset column, and display first three rows from each group\n",
    "adf.groupby(adf.dataset).head(3)"
   ]
  },
  {
   "cell_type": "markdown",
   "metadata": {},
   "source": [
    "-----\n",
    "\n",
    "Overall, the data appear to be similar. Thus, our next step is to compute basic statistics summaries. To accomplish this, we once again group the DataFrame by the `dataset` column, and apply aggregate functions to determine the count, mean, and standard deviation for each variable for each data set. \n",
    "\n",
    "-----"
   ]
  },
  {
   "cell_type": "code",
   "execution_count": 10,
   "metadata": {},
   "outputs": [
    {
     "data": {
      "text/html": [
       "<div>\n",
       "<style scoped>\n",
       "    .dataframe tbody tr th:only-of-type {\n",
       "        vertical-align: middle;\n",
       "    }\n",
       "\n",
       "    .dataframe tbody tr th {\n",
       "        vertical-align: top;\n",
       "    }\n",
       "\n",
       "    .dataframe thead tr th {\n",
       "        text-align: left;\n",
       "    }\n",
       "\n",
       "    .dataframe thead tr:last-of-type th {\n",
       "        text-align: right;\n",
       "    }\n",
       "</style>\n",
       "<table border=\"1\" class=\"dataframe\">\n",
       "  <thead>\n",
       "    <tr>\n",
       "      <th></th>\n",
       "      <th colspan=\"3\" halign=\"left\">x</th>\n",
       "      <th colspan=\"3\" halign=\"left\">y</th>\n",
       "    </tr>\n",
       "    <tr>\n",
       "      <th></th>\n",
       "      <th>count</th>\n",
       "      <th>mean</th>\n",
       "      <th>std</th>\n",
       "      <th>count</th>\n",
       "      <th>mean</th>\n",
       "      <th>std</th>\n",
       "    </tr>\n",
       "    <tr>\n",
       "      <th>dataset</th>\n",
       "      <th></th>\n",
       "      <th></th>\n",
       "      <th></th>\n",
       "      <th></th>\n",
       "      <th></th>\n",
       "      <th></th>\n",
       "    </tr>\n",
       "  </thead>\n",
       "  <tbody>\n",
       "    <tr>\n",
       "      <th>I</th>\n",
       "      <td>11</td>\n",
       "      <td>9.0</td>\n",
       "      <td>3.316625</td>\n",
       "      <td>11</td>\n",
       "      <td>7.500909</td>\n",
       "      <td>2.031568</td>\n",
       "    </tr>\n",
       "    <tr>\n",
       "      <th>II</th>\n",
       "      <td>11</td>\n",
       "      <td>9.0</td>\n",
       "      <td>3.316625</td>\n",
       "      <td>11</td>\n",
       "      <td>7.500909</td>\n",
       "      <td>2.031657</td>\n",
       "    </tr>\n",
       "    <tr>\n",
       "      <th>III</th>\n",
       "      <td>11</td>\n",
       "      <td>9.0</td>\n",
       "      <td>3.316625</td>\n",
       "      <td>11</td>\n",
       "      <td>7.500000</td>\n",
       "      <td>2.030424</td>\n",
       "    </tr>\n",
       "    <tr>\n",
       "      <th>IV</th>\n",
       "      <td>11</td>\n",
       "      <td>9.0</td>\n",
       "      <td>3.316625</td>\n",
       "      <td>11</td>\n",
       "      <td>7.500909</td>\n",
       "      <td>2.030579</td>\n",
       "    </tr>\n",
       "  </tbody>\n",
       "</table>\n",
       "</div>"
      ],
      "text/plain": [
       "            x                    y                    \n",
       "        count mean       std count      mean       std\n",
       "dataset                                               \n",
       "I          11  9.0  3.316625    11  7.500909  2.031568\n",
       "II         11  9.0  3.316625    11  7.500909  2.031657\n",
       "III        11  9.0  3.316625    11  7.500000  2.030424\n",
       "IV         11  9.0  3.316625    11  7.500909  2.030579"
      ]
     },
     "execution_count": 10,
     "metadata": {},
     "output_type": "execute_result"
    }
   ],
   "source": [
    "# Group by data set, and compute aggregate statistical functions\n",
    "adf.groupby(adf.dataset).aggregate(['count', 'mean', 'std'])"
   ]
  },
  {
   "cell_type": "markdown",
   "metadata": {},
   "source": [
    "-----\n",
    "\n",
    "In this case, we see that each data set has identical values for each of these descriptive statistics. This indicates that there is something odd about this quartet, but to fully understand what is going on, we must visually inspect the data. To do this easily, we use the `lmplot` function (for linear model plot) from the Seaborn module to plot all four data sets in a $2 \\times 2$ array. We do this by indicating that the `col` attribute, which controls which data set is plotted within each column, is determined by the `dataset` feature in our `adf` DataFrame. We also indicate that we only want two columns, by specifying `col_wrap=2`, which causes the plot to create a new row after two subplots.\n",
    "\n",
    "Furthermore, we set the `hue` parameter to `dataset` so that each plot has a different color, fit and over-plot a best fit regression line by setting the `fit_reg` parameter to `True`, and specify several plotting parameters to control the size and transparency of the marks that represent each instance in the DataFrame.\n",
    "\n",
    "In the end, while each data set in Anscombe's quartet have the same descriptive statistics, they are visually quite distinct. This demonstrates the importance of always exploring your data set, both analytically and visually, before reporting any quantitative measurements, such as a linear model.\n",
    "\n",
    "-----"
   ]
  },
  {
   "cell_type": "code",
   "execution_count": 11,
   "metadata": {},
   "outputs": [
    {
     "data": {
      "image/png": "[encoded data removed]",
      "text/plain": [
       "<Figure size 576x576 with 4 Axes>"
      ]
     },
     "metadata": {
      "needs_background": "light"
     },
     "output_type": "display_data"
    }
   ],
   "source": [
    "# Plot the four data sets in a two by two array.\n",
    "sns.lmplot(x='x', y='y', col='dataset', hue='dataset', data=adf, \n",
    "           fit_reg=True, ci = 68, col_wrap=2, palette='muted', \n",
    "           size=4, scatter_kws = {'s': 75, 'alpha': 0.75})\n",
    "\n",
    "#clean up plot\n",
    "sns.despine(trim=True)"
   ]
  },
  {
   "cell_type": "markdown",
   "metadata": {},
   "source": [
    "-----\n",
    "\n",
    "### The Importance of Visualization\n",
    "\n",
    "As the previous figure demonstrates, simply trusting descriptive statistics (including the mean, standard deviation, or correlation measures) can be deceptive. Visualization can easily provide confirmation or refutation of an intuitive feeling based solely on descriptive statistics. Other, more recent, examples that demonstrate the importance of visualizing data include the [_DrawMyData_][dmd] website that allows you to construct a data set visually with specific statistical values and subsequently download the data as a CSV file. This was used to create a [_datasaurus_][ds], which provides an interesting data visualization. More powerful techniques have also been produced recently that create newer versions of [Anscombe's quartet computationally][aqc].\n",
    "\n",
    "-----\n",
    "\n",
    "<font color='red' size = '5'> Student Exercise </font>\n",
    "\n",
    "In the empty **Code** cell below, write and execute code to compute the Pearson and Spearman correlation coefficients for the second and third data sets in Anscombe's quartet. Do your values match the values computed for the first data set? What does this imply about these data sets and the importance of visually exploring your data?\n",
    "\n",
    "-----\n",
    "[dmd]: http://robertgrantstats.co.uk/drawmydata.html\n",
    "[ds]: http://www.thefunctionalart.com/2016/08/download-datasaurus-never-trust-summary.html\n",
    "[aqc]: https://www.autodeskresearch.com/publications/samestats"
   ]
  },
  {
   "cell_type": "code",
   "execution_count": null,
   "metadata": {},
   "outputs": [],
   "source": []
  },
  {
   "cell_type": "markdown",
   "metadata": {},
   "source": [
    "## Estimating Model Parameters\n",
    "\n",
    "To this point, we have seen how to compute and visually display a simple linear regression; but since we have not directly computed the linear model, we are unable to apply the model to new, unseen data. In this section, we now turn to the actual computation of the model parameters. Formally, our simple linear model relates the independent variables $x_i$ to the dependent variables $y_i$ in our data set via two parameters: an intercept and a slope. Mathematically, we express this relation in the following form:\n",
    "\n",
    "$f(x_i) = \\beta * x_i + \\alpha + \\epsilon_i$\n",
    "\n",
    "where $\\epsilon_i$ accounts for the difference between the model and the data for each data point $(x_i, y_i)$. If we have a perfect linear model, these errors, $\\epsilon_i$, are all zero. In real life, however, the error terms rarely vanish, because even if the original relationship is perfect, noise creeps into the measurement process. \n",
    "\n",
    "At this point, our goal is simple. We wish to determine the model parameters: $\\beta$, and $\\alpha$ that minimize the values of $\\epsilon_i$. We could perform this process in an iterative manner, trying different values for the model parameters and measuring the error function. This approach is often used in machine learning, where we define a **loss function** that we seek to minimize by selecting the best model parameters. In the case of a simple linear model, we have several potential loss functions that could define our errors:\n",
    "\n",
    "1. _l1-norm_: $\\epsilon_i = \\left| \\ y_i - f(x_i) \\ \\right|$\n",
    "1. _l2-norm_: $\\epsilon_i = \\left( \\ y_i - f(x_i) \\ \\right)^2$\n",
    "\n",
    "where $f(x_i)$ is defined by our model parameters. In this approach, we look to minimize the sum of these model residuals, which is done by finding the best model parameters: $\\hat{\\beta}$, and $\\hat{\\alpha}$. \n",
    "\n",
    "In this simple model, we actually can [directly compute][wslr] these parameters by choosing the second loss function (l2-norm) and taking the first derivative of $f(x)$ with respect to our model parameters to minimize the difference. This results, after some algebra, in the following best estimates for our model parameters:\n",
    "\n",
    "$$ \\hat{\\beta} = \\frac{\\sum_i (x_i - \\mu_x) (y_i - \\mu_y)}{\\sum_i (x_i - \\mu_x)^2} =\n",
    "\\frac{\\textrm{Cov}(x, y)}{\\textrm{Var}(x)}$$\n",
    "\n",
    "and \n",
    "\n",
    "$$ \\hat{\\alpha} = \\mu_y - \\hat{\\beta} \\mu_x $$\n",
    "where $\\mu_x$ and $\\mu_y$ represent the mean values of x and y, respectively.\n",
    "\n",
    "We demonstrate this calculation in the following code cell, where we vectorize the operations over our array data by using NumPy functions. We also compute the Pearson's r correlation coefficient, which is related to the estimate of the slope of our simple model:\n",
    "\n",
    "$$r = \\frac{\\sum_i (x_i - \\mu_x) (y_i - \\mu_y)}{\\sum_i (x_i - \\mu_x) \\sum_j (y_j - \\mu_y)} \n",
    "= \\frac{\\textrm{Cov}(x, y)}{\\sigma_x \\sigma_y} = \\hat{\\beta} \\ \\frac{\\sigma_x}{\\sigma_y}$$\n",
    "\n",
    "-----\n",
    "[wslr]: https://en.wikipedia.org/wiki/Simple_linear_regression"
   ]
  },
  {
   "cell_type": "code",
   "execution_count": 12,
   "metadata": {},
   "outputs": [
    {
     "name": "stdout",
     "output_type": "stream",
     "text": [
      "Best fit line: y = 0.50 x + 3.000\n",
      "Pearsonr correlation = 0.816\n"
     ]
    }
   ],
   "source": [
    "# Number of data points\n",
    "n = x.shape[0]\n",
    "\n",
    "# Determine mean values\n",
    "mux = np.mean(x)\n",
    "muy = np.mean(y)\n",
    "\n",
    "# Determine best fit model parameters (from simple learn regression)\n",
    "beta = np.sum((x - mux) * (y - muy)) / np.sum((x - mux)**2)\n",
    "alpha = muy - beta * mux\n",
    "\n",
    "# Compute Pearson's r correlation coefficient\n",
    "r = beta * np.std(x)/np.std(y)\n",
    "\n",
    "# Display results\n",
    "print(f'Best fit line: y = {beta:4.2f} x + {alpha:5.3f}')\n",
    "print(f'Pearsonr correlation = {r:5.3f}')"
   ]
  },
  {
   "cell_type": "markdown",
   "metadata": {},
   "source": [
    "-----\n",
    "\n",
    "Given the model parameters, we can now plot our data, the residual terms, and our best fit model. The following code cell completes these tasks by first using the [`regplot`][srp] function to plot the data. We plot our model residuals as a series of vertical lines and label several of the more prominent residuals to demonstrate the different components in the model construction. Finally, we plot the best fit model by creating new independent variables and using the linear model to specify the corresponding dependent variables (via interpolation in this case). As expected, the linear model visually agrees with the earlier model shown by using the Seaborn [`lmplot`][slp].\n",
    "\n",
    "-----\n",
    "[slp]: http://seaborn.pydata.org/generated/seaborn.lmplot.html\n",
    "[srp]: http://seaborn.pydata.org/generated/seaborn.regplot.html"
   ]
  },
  {
   "cell_type": "code",
   "execution_count": 13,
   "metadata": {},
   "outputs": [
    {
     "data": {
      "image/png": "[encoded data removed]",
      "text/plain": [
       "<Figure size 432x288 with 1 Axes>"
      ]
     },
     "metadata": {
      "needs_background": "light"
     },
     "output_type": "display_data"
    }
   ],
   "source": [
    "# Plot the data as a Regression Plot\n",
    "ax = sns.regplot(x='x', y='y', data=adfi, fit_reg=False)\n",
    "\n",
    "# Label plot\n",
    "ax.set_xlabel('X', fontsize=18)\n",
    "ax.set_ylabel('Y', fontsize=18)\n",
    "ax.set_title('Regression Plot', fontsize=18)\n",
    "\n",
    "# Compute and draw epsilons\n",
    "fy = beta * x + alpha\n",
    "ax.vlines(x, y, fy)\n",
    "\n",
    "# Annotate third point\n",
    "ax.annotate(r'$(x_3, y_3)$', xy=(6, 7), xytext=(5.5, 7.5))\n",
    "\n",
    "ax.annotate(r'$\\epsilon_3$', xy=(6, 6.5), xytext=(4.5, 6.5),\n",
    "            arrowprops=dict(facecolor='black', alpha =0.25, shrink = 0.05))\n",
    "\n",
    "# Annotate tenth point\n",
    "ax.annotate(r'$(x_{10}, y_{10})$', xy=(13, 7.5), xytext=(12.5, 7.0))\n",
    "\n",
    "ax.annotate(r'$\\epsilon_{10}$', xy=(13, 8.75), xytext=(14.5, 8.0),\n",
    "            arrowprops=dict(facecolor='black', alpha =0.25, shrink = 0.05))\n",
    "\n",
    "# Compute and plot linear model\n",
    "xx = np.arange(3, 16)\n",
    "yy = beta * xx + alpha\n",
    "ax.plot(xx, yy)\n",
    "\n",
    "sns.despine(offset = 5, trim=True)"
   ]
  },
  {
   "cell_type": "markdown",
   "metadata": {},
   "source": [
    "## Visual Explanation of Sum of Squares\n",
    "\n",
    "A popular statistic that is used to quantify the accuracy of a linear model fit is the [_Coefficient of Determination_][wcd], written as $R^2$, which measures the amount of the variance in the dependent variable ($y$) that is predictable from the independent variables ($x$). In our simple linear model, the square of the Pearson's r correlation coefficient is equivalent to the coefficient of determination, and thus this value is written as $r^2$ when this is true.\n",
    "\n",
    "We can, in general, define the coefficient of determination as\n",
    "\n",
    "$$R^2 = 1 - \\frac{\\sum_i (y_i - f(x_i))^2}{\\sum_i (y_i - \\mu_y)^2} = 1 - \\frac{\\sum_i \\epsilon_i^2}{\\sum_i (y_i - \\mu_y)^2} $$\n",
    "\n",
    "The numerator is the residual sum of squares, and the denominator is the total sum of squares, which is related to the variance of the data. This latter ratio is also known as the fraction of unexplained variance, which is demonstrated visually in the [following figure][wcdf] from Wikipedia. Visually, the numerator measures the difference between the model and the training data (shown in blue in the right hand panel of the following figure), while the denominator measures the difference between the model and the average y value (shown in red in the left hand panel of the following figure). The coefficient of determination is one minus the ratio of the sum of the blue squares to the sum of the red squares. Ideally the coefficient of determination is as close to unity as possible, which happens as either the residual sum of squares goes to zero, or as the total sum of squares grows large.\n",
    "\n",
    "![Coefficient of Determination](https://upload.wikimedia.org/wikipedia/commons/thumb/8/86/Coefficient_of_Determination.svg/640px-Coefficient_of_Determination.svg.png)\n",
    "\n",
    "----\n",
    "\n",
    "[wcd]: https://en.wikipedia.org/wiki/Coefficient_of_determination\n",
    "[wcdf]: https://commons.wikimedia.org/wiki/File:Coefficient_of_Determination.svg"
   ]
  },
  {
   "cell_type": "markdown",
   "metadata": {},
   "source": [
    "### Computing a Simple Linear Model\n",
    "\n",
    "We can also compute the simple linear model to these data by using standard functions available in our Python data science modules. We demonstrate this in the following three code cells, where we \n",
    "\n",
    "1. Use basic NumPy linear algebra, via the [`lsqtsq`][wlsq] function, to solve for the ordinary least squares result.\n",
    "2. Use the NumPy polynomial fitting function [`polyfit`][pf] to fit the best one-dimensional polynomial (i.e., a linear model) to solve for the simple linear model.\n",
    "3. Use the [`linregress`][slr] linear regression function in the SciPy module to perform a linear regression on our data.\n",
    "\n",
    "Notice that all three techniques generate model fits that are in agreement. In the rest of this notebook, we will use the last technique to perform simple linear regression since it is simple and automatically provides the Pearson's r correlation coefficient.\n",
    "\n",
    "-----\n",
    "\n",
    "[wlsq]: https://docs.scipy.org/doc/numpy/reference/generated/numpy.linalg.lstsq.html\n",
    "[pf]: https://docs.scipy.org/doc/numpy/reference/generated/numpy.polyfit.html\n",
    "[slr]: https://docs.scipy.org/doc/scipy/reference/generated/scipy.stats.linregress.html"
   ]
  },
  {
   "cell_type": "code",
   "execution_count": 14,
   "metadata": {},
   "outputs": [
    {
     "name": "stdout",
     "output_type": "stream",
     "text": [
      "Best fit line: y = 0.50 x + 3.000\n"
     ]
    }
   ],
   "source": [
    "# Solve general model Ax = y\n",
    "A = np.vstack([x, np.ones(len(x))]).T\n",
    "\n",
    "# extract our two parameter model\n",
    "m, b = np.linalg.lstsq(A, y)[0]\n",
    "\n",
    "# Display results\n",
    "print(f'Best fit line: y = {m:4.2f} x + {b:5.3f}')"
   ]
  },
  {
   "cell_type": "code",
   "execution_count": 15,
   "metadata": {},
   "outputs": [
    {
     "name": "stdout",
     "output_type": "stream",
     "text": [
      "Best fit line: y = 0.50 x + 3.000\n",
      "\n"
     ]
    }
   ],
   "source": [
    "# Compute directly from numpy fitting\n",
    "p = np.polyfit(x, y, deg=1, cov=False)\n",
    "\n",
    "# Display results\n",
    "print(f'Best fit line: y = {p[0]:4.2f} x + {p[1]:5.3f}\\n')"
   ]
  },
  {
   "cell_type": "code",
   "execution_count": 16,
   "metadata": {},
   "outputs": [
    {
     "name": "stdout",
     "output_type": "stream",
     "text": [
      "Best fit line: y = 0.50 x + 3.000\n",
      "\n",
      "Pearsonr correlation = 0.816\n"
     ]
    }
   ],
   "source": [
    "# Perform simple linear regression\n",
    "from scipy import stats as sts\n",
    "\n",
    "# Compute our slope, intercept, and r value\n",
    "slope, intercept, r_value, p_value, slope_std_error = sts.linregress(x, y)\n",
    "\n",
    "# Display results\n",
    "print(f'Best fit line: y = {slope:4.2f} x + {intercept:5.3f}\\n')\n",
    "print(f'Pearsonr correlation = {r_value:5.3f}')"
   ]
  },
  {
   "cell_type": "markdown",
   "metadata": {},
   "source": [
    "-----\n",
    "\n",
    "<font color='red' size = '5'> Student Exercise </font>\n",
    "\n",
    "In the empty **Code** cell below, write and execute code to compute the ordinary linear regression for the second and third data sets in Anscombe's quartet. Pick one of these data sets and plot the data (via the Seaborn `regplot` function) and your linear model. Does the model match what is shown early when the data and best fit line were plotted directly by Seaborn (via the `lmplot`)?\n",
    "\n",
    "-----"
   ]
  },
  {
   "cell_type": "code",
   "execution_count": null,
   "metadata": {},
   "outputs": [],
   "source": []
  },
  {
   "cell_type": "markdown",
   "metadata": {},
   "source": [
    "----\n",
    "\n",
    "### Using Linear Models\n",
    "\n",
    "To this point, we have built linear models, displayed them visually, and even used them to predict new dependent data (via interpolation). One other important uses for linear models is to compare data sets in order to test hypothesis. For example, if a data set can be differentiated by some third, potentially categorical, variable, we can explore the difference between linear models fit to subsets of the original data.\n",
    "\n",
    "As a specific example, we can perform model fits to the _tips_ data set within the Seaborn module. Specifically, we can build a linear model to predict a `tip` given a `total_bill`, which of course would be of interest to those working at the restaurant. In the following code cell, we first load the _tips_ data set before extracting the `total_bill` feature and `tip` feature as one-dimensional arrays. We next use the `linregress` method in the Scipy module to construct a simple linear model to predict the dependent `tip` feature from the independent `total_bill` feature. Finally, we display the fit and Pearson's r correlation value, which indicates a mild correlation. From the fit, we see that for every \\$1 increase in our bill, the tip increases by eleven cents (well below the recommended tipping rate).\n",
    "\n",
    "-----\n",
    "\n"
   ]
  },
  {
   "cell_type": "code",
   "execution_count": 17,
   "metadata": {},
   "outputs": [
    {
     "name": "stdout",
     "output_type": "stream",
     "text": [
      "Best fit line: y = 0.11 x + 0.920\n",
      "Pearsonr correlation = 0.676\n",
      "\n"
     ]
    }
   ],
   "source": [
    "# Load Data Set\n",
    "tdf = sns.load_dataset('tips')\n",
    "\n",
    "# Extract one-dimensional arrays for our features\n",
    "x = tdf.total_bill.as_matrix()\n",
    "y = tdf.tip.as_matrix()\n",
    "\n",
    "# Compute linear model\n",
    "slope, intercept, r_value, p_value, slope_std_error = sts.linregress(x, y)\n",
    "\n",
    "# Display Results\n",
    "print(f'Best fit line: y = {slope:4.2f} x + {intercept:5.3f}')\n",
    "print(f'Pearsonr correlation = {r_value:5.3f}\\n')"
   ]
  },
  {
   "cell_type": "markdown",
   "metadata": {},
   "source": [
    "-----\n",
    "\n",
    "At this point, we can ask if this formula depends on whether the bill is for a _lunch_ or a _dinner_ meal. To test if the time of day matters, we can extract the original two features: `total_bill`, and `tip` separately for lunch and dinner by masking the DataFrame on the value of the categorical `time` feature. In this approach, we extract two sets of arrays, one for lunch and dinner, construct linear models separately for each data set, and display the linear model and correlation value. This hypothesis is tested, as outlined, in the following code cell.\n",
    "\n",
    "-----"
   ]
  },
  {
   "cell_type": "code",
   "execution_count": 18,
   "metadata": {},
   "outputs": [
    {
     "name": "stdout",
     "output_type": "stream",
     "text": [
      "Lunch best fit line: y = 0.13 x + 0.567\n",
      "Pearsonr correlation = 0.805\n",
      "\n",
      "Dinner best fit line: y = 0.10 x + 1.035\n",
      "Pearsonr correlation = 0.633\n"
     ]
    }
   ],
   "source": [
    "# Extract lunch features\n",
    "lx = tdf[tdf.time == 'Lunch'].total_bill.as_matrix()\n",
    "ly = tdf[tdf.time == 'Lunch'].tip.as_matrix()\n",
    "\n",
    "# Extract dinner features\n",
    "dx = tdf[tdf.time == 'Dinner'].total_bill.as_matrix()\n",
    "dy = tdf[tdf.time == 'Dinner'].tip.as_matrix()\n",
    "\n",
    "# Fit lunch linear model and display result\n",
    "slope, intercept, r_value, p_value, slope_std_error = sts.linregress(lx, ly)\n",
    "print(f'Lunch best fit line: y = {slope:4.2f} x + {intercept:5.3f}')\n",
    "print(f'Pearsonr correlation = {r_value:5.3f}\\n')\n",
    "\n",
    "# Fit dinner linear model and display result\n",
    "slope, intercept, r_value, p_value, slope_std_error = sts.linregress(dx, dy)\n",
    "print(f'Dinner best fit line: y = {slope:4.2f} x + {intercept:5.3f}')\n",
    "print(f'Pearsonr correlation = {r_value:5.3f}')"
   ]
  },
  {
   "cell_type": "markdown",
   "metadata": {},
   "source": [
    "----\n",
    "\n",
    "From the statistical analysis, we see two things:\n",
    "\n",
    "1. The slope for the _lunch_ data is higher, indicating that on average an increase in the total bill for a _lunch_ will result in a higher tip than for a similar _dinner_, and\n",
    "2. The correlation is much stronger for _lunch_ than for _dinner_.\n",
    "\n",
    "Thus, we expect lunch to have a tighter correlation with smaller residuals than dinner. At this point, a visual inspection should be performed to confirm (or refute) this statistical result. The following code cell generates linear models for lunch and dinner separately by using the `lmplot` function within the Seaborn module. As expected from the statistical analysis, we see that lunch has a tighter correlation with smaller residuals and that dinner has a shallower slope and higher variability in the residuals.\n",
    "\n",
    "-----"
   ]
  },
  {
   "cell_type": "code",
   "execution_count": 19,
   "metadata": {},
   "outputs": [
    {
     "data": {
      "image/png": "[encoded data removed]",
      "text/plain": [
       "<Figure size 720x360 with 2 Axes>"
      ]
     },
     "metadata": {
      "needs_background": "light"
     },
     "output_type": "display_data"
    }
   ],
   "source": [
    "# Compute and plot a linear model to the tips data \n",
    "# distinguished by the time of day feature\n",
    "sns.lmplot(x=\"total_bill\", y=\"tip\", col=\"time\", data=tdf, palette='muted')\n",
    "\n",
    "# Clean plot\n",
    "sns.despine(trim = True)"
   ]
  },
  {
   "cell_type": "markdown",
   "metadata": {},
   "source": [
    "-----\n",
    "\n",
    "<font color='red' size = '5'> Student Exercise </font>\n",
    "\n",
    "In the empty **Code** cell below, write and execute code to compute linear models for the _tips_ data set, but split by day of the week. Which day has the highest model slope? Which day has the smallest model slope? Plot both of these and interpret why that might be the case. Also, do these values depend on the time of day (i.e., lunch or dinner)?\n",
    "\n",
    "-----"
   ]
  },
  {
   "cell_type": "code",
   "execution_count": null,
   "metadata": {},
   "outputs": [],
   "source": []
  },
  {
   "cell_type": "markdown",
   "metadata": {},
   "source": [
    "-----\n",
    "\n",
    "## Non-linear Example\n",
    "\n",
    "While the name _linear regression_ seems to imply that only linear functions can be used to construct models, that is not the case. The term linear refers to the parameters determined by the technique, not the variables themselves. We can demonstrate this by creating an artificial, non-linear example and computing a linear and non-linear model from the resulting data.\n",
    "\n",
    "For this purpose, we will construct a compounding interest data set, for which the growth of the principal is non-linear. In the following code cell, we define an initial deposit, interest rate, and duration (in years). The principal is accumulated over the duration, with interest added once a year, and the accumulating sum is displayed every five years.\n",
    "\n",
    "-----"
   ]
  },
  {
   "cell_type": "code",
   "execution_count": 20,
   "metadata": {},
   "outputs": [
    {
     "name": "stdout",
     "output_type": "stream",
     "text": [
      "Year\tAmount\n",
      "--------------------\n",
      "5\t14356.29\n",
      "10\t20610.32\n",
      "15\t29588.77\n",
      "20\t42478.51\n",
      "25\t60983.40\n",
      "30\t87549.55\n"
     ]
    }
   ],
   "source": [
    "# Define our initial values\n",
    "initial_deposit = 10000\n",
    "int_rate = 0.075\n",
    "duration = 30\n",
    "\n",
    "yrs = np.arange(1, duration + 1)\n",
    "value = np.zeros(yrs.shape[0])\n",
    "\n",
    "sum = initial_deposit\n",
    "\n",
    "print('Year\\tAmount')\n",
    "print(20*'-')\n",
    "\n",
    "for idx, yr in enumerate(yrs):\n",
    "    sum += int_rate * sum\n",
    "    value[idx] = sum\n",
    "    \n",
    "    if idx % 5 == 4:\n",
    "        print(f'{yr}\\t{sum:8.2f}')"
   ]
  },
  {
   "cell_type": "markdown",
   "metadata": {},
   "source": [
    "-----\n",
    "\n",
    "Given these data, we can now regress our best fit linear model as before. In this case, we use the `linregress` function in the SciPy stats module. We also transform the independent variable (`values`) to log-space, and compute the best fit linear model in log-space using the same function. For each case, we display the best fit linear model and the Pearson R correlation measure. While the linear model provides a good fit over shorter time scales (< 30 years), the non-linear model provides a perfect fit since the compounding interest example is linear in log-space.\n",
    "\n",
    "-----"
   ]
  },
  {
   "cell_type": "code",
   "execution_count": 21,
   "metadata": {},
   "outputs": [
    {
     "name": "stdout",
     "output_type": "stream",
     "text": [
      "\n",
      "Regular Regression:\n",
      "Best fit line: y = 2490.23 x + -1547.174\n",
      "Pearsonr correlation = 0.964\n",
      "\n",
      "Logarithmic Regression:\n",
      "Best fit line: y = 0.03 x + 4.000\n",
      "Pearsonr correlation = 1.000\n"
     ]
    }
   ],
   "source": [
    "x = np.arange(1, yrs.shape[0] + 2, 2)\n",
    "\n",
    "# Compute Regular Regression\n",
    "slope, intercept, r_value, pv, sse = sts.linregress(yrs, value)\n",
    "y = slope * x + intercept\n",
    "\n",
    "print('\\nRegular Regression:')\n",
    "print(f'Best fit line: y = {slope:4.2f} x + {intercept:5.3f}')\n",
    "print(f'Pearsonr correlation = {r_value:5.3f}')\n",
    "\n",
    "# Compute Logarithmic regression\n",
    "slope, intercept, lr_value, pv, sse = sts.linregress(yrs, np.log10(value))\n",
    "ly = slope * x + intercept\n",
    "\n",
    "print('\\nLogarithmic Regression:')\n",
    "print(f'Best fit line: y = {slope:4.2f} x + {intercept:5.3f}')\n",
    "print(f'Pearsonr correlation = {lr_value:5.3f}')"
   ]
  },
  {
   "cell_type": "markdown",
   "metadata": {},
   "source": [
    "-----\n",
    "\n",
    "This result can also be displayed graphically, by plotting both the data and the best fit model. The following code cell does this, first for the best linear model, second for the best non-linear model in logarithmic space (where the model is linear), and finally, the same non-linear model transformed back into linear space. The strong agreement shown between the best non-linear model and the data is clearly evident.\n",
    "\n",
    "-----"
   ]
  },
  {
   "cell_type": "code",
   "execution_count": 22,
   "metadata": {},
   "outputs": [
    {
     "data": {
      "image/png": "[encoded data removed]",
      "text/plain": [
       "<Figure size 864x864 with 3 Axes>"
      ]
     },
     "metadata": {
      "needs_background": "light"
     },
     "output_type": "display_data"
    }
   ],
   "source": [
    "# Now we create our figure and axes for the plot we will make.\n",
    "fig, axs = plt.subplots(figsize=(12, 12), nrows=3, ncols=1, sharex=True)\n",
    "adj = plt.subplots_adjust(hspace=0.5)\n",
    "\n",
    "# Plot standard linear regression\n",
    "axs[0].set_xlabel('Years', fontsize=16)\n",
    "axs[0].set_ylabel('Principal ($)', fontsize=16)\n",
    "axs[0].set_title('Standard Linear Regression', fontsize=18)\n",
    "\n",
    "# Plot data and regression\n",
    "axs[0].scatter(yrs, value)\n",
    "axs[0].plot(x, y, label=f'r = {r_value:4.3f}', c='r')\n",
    "axs[0].legend()\n",
    "\n",
    "# Plot non-linear regression in log space\n",
    "axs[1].set_xlabel('Years', fontsize=18)\n",
    "axs[1].set_ylabel(r'Principal ($\\log_{10}(\\$)$)', fontsize=16)\n",
    "axs[1].set_title('Nonlinar Regression (log-space)', fontsize=16)\n",
    "\n",
    "# Plot data and regression\n",
    "axs[1].scatter(yrs, np.log10(value))\n",
    "axs[1].plot(x, ly, label=f'r = {lr_value:4.3f}', c='r')\n",
    "axs[1].legend()\n",
    "\n",
    "# Transform logarithmic model to linear space\n",
    "nly = np.power(10, ly)\n",
    "\n",
    "# Plot non-linear regression in linear space\n",
    "axs[2].set_xlabel('Years', fontsize=16)\n",
    "axs[2].set_ylabel('Principal ($)', fontsize=16)\n",
    "axs[2].set_title('Nonlinar Regression (linear space)', fontsize=18)\n",
    "\n",
    "# Plot data and regression\n",
    "axs[2].scatter(yrs, value)\n",
    "axs[2].plot(x, nly, label=f'r = {lr_value:4.3f}', c='r')\n",
    "axs[2].legend()\n",
    "\n",
    "# Clean up plots\n",
    "sns.despine(offset=5, trim=True)"
   ]
  },
  {
   "cell_type": "markdown",
   "metadata": {},
   "source": [
    "-----\n",
    "\n",
    "<font color='red' size = '5'> Student Exercise </font>\n",
    "\n",
    "Modify the initial conditions in the previous three code cells to change the initial deposit, interest rate, and duration. Compare the quality of regressions (both standard and logarithmic) as the duration increases or the rate changes.\n",
    "\n",
    "-----"
   ]
  },
  {
   "cell_type": "markdown",
   "metadata": {},
   "source": [
    "## Ancillary Information\n",
    "\n",
    "The following links are to additional documentation that you might find helpful in learning this material. Reading these web-accessible documents is completely optional.\n",
    "\n",
    "1. Wikipedia has an excellent discussion on [simple linear regression][1].\n",
    "2. Wikipedia also has a nice discussion on the [coefficient of determination][2].\n",
    "3. The original paper by F.J. Anscombe on the importance of [Graphs in Statistical Analysis][3] is insightful.\n",
    "4. The [DrawMyData][4] website is useful for creating data sets with specific statistics.\n",
    "5. A [simple introduction][5] to simple linear regression and correlation\n",
    "\n",
    "-----\n",
    "\n",
    "[1]: https://en.wikipedia.org/wiki/Simple_linear_regression\n",
    "[2]: https://en.wikipedia.org/wiki/Coefficient_of_determination\n",
    "[3]: http://www.jstor.org/stable/2682899?seq=1#page_scan_tab_contents\n",
    "[4]: http://robertgrantstats.co.uk/drawmydata.html\n",
    "[5]: http://www.mathsisfun.com/data/correlation.html"
   ]
  },
  {
   "cell_type": "markdown",
   "metadata": {},
   "source": [
    "**&copy; 2017: Robert J. Brunner at the University of Illinois.**\n",
    "\n",
    "This notebook is released under the [Creative Commons license CC BY-NC-SA 4.0][ll]. Any reproduction, adaptation, distribution, dissemination or making available of this notebook for commercial use is not allowed unless authorized in writing by the copyright holder.\n",
    "\n",
    "[ll]: https://creativecommons.org/licenses/by-nc-sa/4.0/legalcode"
   ]
  }
 ],
 "metadata": {
  "kernelspec": {
   "display_name": "Python 3",
   "language": "python",
   "name": "python3"
  },
  "language_info": {
   "codemirror_mode": {
    "name": "ipython",
    "version": 3
   },
   "file_extension": ".py",
   "mimetype": "text/x-python",
   "name": "python",
   "nbconvert_exporter": "python",
   "pygments_lexer": "ipython3",
   "version": "3.6.7"
  }
 },
 "nbformat": 4,
 "nbformat_minor": 2
}
