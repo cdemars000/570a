{
 "cells": [
  {
   "cell_type": "markdown",
   "metadata": {},
   "source": [
    "# Module 7: Lesson 3\n",
    "\n",
    "-----\n",
    "\n",
    "## Introduction to Statistical Issues\n",
    "\n",
    "This lesson explores statistical issues that can arise when exploring multi-dimensional data.\n",
    "\n",
    "### Objectives\n",
    "\n",
    "By the end of this lesson, you will be able to\n",
    "\n",
    "- articulate the basic issues around several statistical issues, such as Simpson's paradox, or the base rate fallacy,\n",
    "- understand how to identify and mitigate statistical issues that might affect data analytics, and\n",
    "- articulate the difference between correlation and causation.\n",
    "\n",
    "\n",
    "### Time Estimate\n",
    "\n",
    "Approximately 1 hour.\n",
    "\n",
    "### Activities\n",
    "\n",
    "Video: Watch the [Introduction to Statistical Issues][lv] video, which will demonstrate some of the concerns around statistical issues that can affect analytics.\n",
    "\n",
    "Reading: [Read about paradoxes of probability][rpp] and how to avoid them when exploring multi-dimensional data.\n",
    "\n",
    "Reading: [Read about statistical misinterpretation][rsm] and how to prevent this from affecting results when exploring multi-dimensional data.\n",
    "\n",
    "Explore the [Spurious Correlations][scw] website to better understand the phrase _correlation does not imply causation._\n",
    "\n",
    "------\n",
    "\n",
    "[lv]: https://media.business.illinois.edu/k/316039787239756e3a6c/43361611\n",
    "\n",
    "[scw]: http://tylervigen.com\n",
    "[rpp]: https://theconversation.com/paradoxes-of-probability-and-other-statistical-strangeness-74440\n",
    "[rsm]: https://theconversation.com/the-seven-deadly-sins-of-statistical-misinterpretation-and-how-to-avoid-them-74306"
   ]
  },
  {
   "cell_type": "markdown",
   "metadata": {
    "deletable": false,
    "editable": false
   },
   "source": [
    "**&copy; 2017: Robert J. Brunner at the University of Illinois.**\n",
    "\n",
    "This notebook is released under the [Creative Commons license CC BY-NC-SA 4.0][ll]. Any reproduction, adaptation, distribution, dissemination or making available of this notebook for commercial use is not allowed unless authorized in writing by the copyright holder.\n",
    "\n",
    "[ll]: https://creativecommons.org/licenses/by-nc-sa/4.0/legalcode"
   ]
  }
 ],
 "metadata": {
  "kernelspec": {
   "display_name": "Python 3",
   "language": "python",
   "name": "python3"
  },
  "language_info": {
   "codemirror_mode": {
    "name": "ipython",
    "version": 3
   },
   "file_extension": ".py",
   "mimetype": "text/x-python",
   "name": "python",
   "nbconvert_exporter": "python",
   "pygments_lexer": "ipython3",
   "version": "3.6.5"
  }
 },
 "nbformat": 4,
 "nbformat_minor": 2
}
