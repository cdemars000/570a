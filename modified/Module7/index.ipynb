{
 "cells": [
  {
   "cell_type": "markdown",
   "metadata": {},
   "source": [
    "# Module 7: Exploring Two-Dimensional Data\n",
    "\n",
    "This modules extends what you have learned in previous modules to the visual and analytic exploration of two-dimensional data. First, you will learn how to make two-dimensional scatter plots in Python and how they can be used to graphically identify a correlation and outlier points. Second, you will learn how to work with two-dimensional data by using the NumPy module, including a discussion on analytically quantifying correlations in data. Third, you will read about statistical issues that can impact understanding multi-dimensional data, which will allow you to avoid them in the future. Finally, you will learn about ordinary linear regression and how this technique can be used to model the relationship between two variables.\n",
    "\n",
    "## Learning Objectives\n",
    "\n",
    "#### By the end of this module, you should be able to:\n",
    "\n",
    "- display and interpret two-dimensional data by using Python,\n",
    "- work with multi-dimensional arrays in NumPy,\n",
    "- quantify correlations between data by using Python,\n",
    "- understand statistical concerns when working with multi-dimensional data, and\n",
    "- compute and interpret linear models.\n",
    "\n",
    "### Activities and Assignments\n",
    "\n",
    "| Activities and Assignments               | Time Estimate | Deadline | Points |\n",
    "| :--------------------------------------- | ------------- | --------- | -----: |\n",
    "| **[Module 7 Overview Video][wv]**      | 10 Minutes    | N/A |    N/A |\n",
    "| **[Module 7 Lesson 1: Introduction to Scatter Plots][nb1]** | 1 Hour   | N/A  |     N/A |\n",
    "| **[Module 7 Lesson 2: Introduction to NumPy Matrices][nb2]** | 2 Hours | N/A  |     N/A |\n",
    "| **[Module 7 Lesson 3: Introduction to Statistical Issues][nb3]** | 1 Hour | N/A  |     N/A |\n",
    "| **[Module 7 Lesson 4: Introduction to Ordinary Linear Regression][nb4]** | 2 Hours   | N/A  |   N/A |\n",
    "| **[Module 7 Assignment][ma]**         | 2 Hours   | N/A    |    N/A  |\n",
    "\n",
    "----------\n",
    "\n",
    "[nb1]: notebooks/m7l1.ipynb\n",
    "[nb2]: notebooks/m7l2.ipynb\n",
    "[nb3]: notebooks/m7l3.ipynb\n",
    "[nb4]: notebooks/m7l4.ipynb\n",
    "\n",
    "[ma]: assignment/assignment.ipynb\n",
    "\n",
    "[wv]: https://media.business.illinois.edu/k/31606c753771756d796c/43361611\n"
   ]
  },
  {
   "cell_type": "markdown",
   "metadata": {
    "deletable": false,
    "editable": false
   },
   "source": [
    "**&copy; 2017: Robert J. Brunner at the University of Illinois.**\n",
    "\n",
    "This notebook is released under the [Creative Commons license CC BY-NC-SA 4.0][ll]. Any reproduction, adaptation, distribution, dissemination or making available of this notebook for commercial use is not allowed unless authorized in writing by the copyright holder.\n",
    "\n",
    "[ll]: https://creativecommons.org/licenses/by-nc-sa/4.0/legalcode"
   ]
  }
 ],
 "metadata": {
  "kernelspec": {
   "display_name": "Python 3",
   "language": "python",
   "name": "python3"
  },
  "language_info": {
   "codemirror_mode": {
    "name": "ipython",
    "version": 3
   },
   "file_extension": ".py",
   "mimetype": "text/x-python",
   "name": "python",
   "nbconvert_exporter": "python",
   "pygments_lexer": "ipython3",
   "version": "3.6.7"
  }
 },
 "nbformat": 4,
 "nbformat_minor": 2
}
