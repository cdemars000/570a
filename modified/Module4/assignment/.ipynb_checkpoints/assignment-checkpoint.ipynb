{
 "cells": [
  {
   "cell_type": "markdown",
   "metadata": {
    "deletable": false,
    "editable": false,
    "nbgrader": {
     "checksum": "ae466777b33ecf5e466636e640caa383",
     "grade": false,
     "grade_id": "title",
     "locked": true,
     "schema_version": 1,
     "solution": false
    }
   },
   "source": [
    "# Module 4 Assignment"
   ]
  },
  {
   "cell_type": "markdown",
   "metadata": {
    "deletable": false,
    "editable": false,
    "nbgrader": {
     "checksum": "69d6334ecaa901a8e272a11b4a21bd6c",
     "grade": false,
     "grade_id": "intro",
     "locked": true,
     "schema_version": 1,
     "solution": false
    }
   },
   "source": [
    "\n",
    "A few things you should keep in mind when working on assignments:\n",
    "\n",
    "1. Make sure you fill in any place that says `YOUR CODE HERE`. Do **not** write your answer in anywhere else other than where it says `YOUR CODE HERE`. Anything you write anywhere else will be removed or overwritten by the autograder.\n",
    "\n",
    "2. Before you submit your assignment, make sure everything runs as expected. Go to menubar, select _Kernel_, and restart the kernel and run all cells (_Restart & Run all_).\n",
    "\n",
    "3. Do not change the title (i.e. file name) of this notebook.\n",
    "\n",
    "4. Make sure that you save your work (in the menubar, select _File_ → _Save and CheckPoint_)"
   ]
  },
  {
   "cell_type": "code",
   "execution_count": null,
   "metadata": {
    "collapsed": true,
    "deletable": false,
    "editable": false,
    "nbgrader": {
     "checksum": "a1d6e4d0feb6ea5d77e1f67fa5b0e1ee",
     "grade": false,
     "grade_id": "import",
     "locked": true,
     "schema_version": 1,
     "solution": false
    }
   },
   "outputs": [],
   "source": [
    "import numpy as np\n",
    "from nose.tools import assert_equal, assert_almost_equal, assert_true\n",
    "import pandas as pd"
   ]
  },
  {
   "cell_type": "markdown",
   "metadata": {
    "deletable": false,
    "editable": false,
    "nbgrader": {
     "checksum": "cc922b20016874dfd48e94081e91fffb",
     "grade": false,
     "grade_id": "p1_text",
     "locked": true,
     "schema_version": 1,
     "solution": false
    }
   },
   "source": [
    "# Problem 1: A function that creates an array\n",
    "\n",
    "Write a function that takes in a list of numbers and outputs a numpy array"
   ]
  },
  {
   "cell_type": "code",
   "execution_count": null,
   "metadata": {
    "collapsed": true,
    "deletable": false,
    "nbgrader": {
     "checksum": "e378438744b3f3423ed9dbfac8332522",
     "grade": false,
     "grade_id": "p1_answer",
     "locked": false,
     "schema_version": 1,
     "solution": true
    }
   },
   "outputs": [],
   "source": [
    "def array_maker(my_list):\n",
    "    \"\"\"\n",
    "    Input\n",
    "    ------\n",
    "    \n",
    "    my_list: a list of numbers\n",
    "    \n",
    "    \n",
    "    Output\n",
    "    -------\n",
    "    \n",
    "    my_array: a numpy array created from my_list\n",
    "    \n",
    "    \"\"\"\n",
    "    \n",
    "    ### YOUR CODE HERE\n",
    "    \n",
    "    return my_array"
   ]
  },
  {
   "cell_type": "code",
   "execution_count": null,
   "metadata": {
    "collapsed": true,
    "deletable": false,
    "editable": false,
    "nbgrader": {
     "checksum": "4838e33a75214ed0c3ed90733c587587",
     "grade": true,
     "grade_id": "p1_test",
     "locked": true,
     "points": 1,
     "schema_version": 1,
     "solution": false
    }
   },
   "outputs": [],
   "source": [
    "assert_equal(type(array_maker([1,2,3])), np.ndarray)\n",
    "assert_equal(array_maker([1,2,3])[0], 1)\n",
    "assert_equal(array_maker([1,2,3])[1], 2)\n",
    "assert_equal(array_maker([1,2,3])[2], 3)"
   ]
  },
  {
   "cell_type": "markdown",
   "metadata": {
    "deletable": false,
    "editable": false,
    "nbgrader": {
     "checksum": "77e6b63917b2bb36c499e3e1809f62c3",
     "grade": false,
     "grade_id": "p2_text",
     "locked": true,
     "schema_version": 1,
     "solution": false
    }
   },
   "source": [
    "# Problem 2: Summarizing random data\n",
    "\n",
    "Write a function which takes in an integer $n$, generates $n$ uniform[0,1) random numbers, and then outputs their average."
   ]
  },
  {
   "cell_type": "code",
   "execution_count": null,
   "metadata": {
    "collapsed": true,
    "deletable": false,
    "nbgrader": {
     "checksum": "90cab93ef250fecb8e12394ebbaec60e",
     "grade": false,
     "grade_id": "p2_answer",
     "locked": false,
     "schema_version": 1,
     "solution": true
    }
   },
   "outputs": [],
   "source": [
    "def average_calculator(n):\n",
    "    \"\"\"\n",
    "    Input\n",
    "    ------\n",
    "    \n",
    "    n: an integer\n",
    "    \n",
    "    \n",
    "    Output\n",
    "    -------\n",
    "    \n",
    "    avg: the average of n uniform[0,1) random numbers\n",
    "    \n",
    "    \"\"\" \n",
    "    \n",
    "    ### YOUR CODE HERE\n",
    "    \n",
    "    return avg"
   ]
  },
  {
   "cell_type": "code",
   "execution_count": null,
   "metadata": {
    "collapsed": true,
    "deletable": false,
    "editable": false,
    "nbgrader": {
     "checksum": "a7a2793ff6f3fc5ed028e729984387c9",
     "grade": true,
     "grade_id": "p2_test",
     "locked": true,
     "points": 1,
     "schema_version": 1,
     "solution": false
    }
   },
   "outputs": [],
   "source": [
    "assert_almost_equal(average_calculator(10000), .5, places=1)"
   ]
  },
  {
   "cell_type": "markdown",
   "metadata": {
    "deletable": false,
    "editable": false,
    "nbgrader": {
     "checksum": "970bbe9bff2a505934b38ce3bd1c0fa7",
     "grade": false,
     "grade_id": "p3_text_1",
     "locked": true,
     "schema_version": 1,
     "solution": false
    }
   },
   "source": [
    "# Problem 3: Reading data\n",
    "\n",
    "Write a function which reads in a comma delimited datafile with only 1 row and saves it as an array called \"data\". \n",
    "\n",
    "Tip: In this example, the \"usecols\" argument should *not* be used."
   ]
  },
  {
   "cell_type": "code",
   "execution_count": null,
   "metadata": {
    "collapsed": true,
    "deletable": false,
    "nbgrader": {
     "checksum": "d4eb8bd6e45bba8196647fe03253ea23",
     "grade": false,
     "grade_id": "p3_answer",
     "locked": false,
     "schema_version": 1,
     "solution": true
    }
   },
   "outputs": [],
   "source": [
    "def array_reader(file_name):\n",
    "    \"\"\"\n",
    "    Input\n",
    "    ------\n",
    "    \n",
    "    file_name: a string, the name of the file to be read\n",
    "    \n",
    "    \n",
    "    Output\n",
    "    -------\n",
    "    \n",
    "    saved_array: a numpy array\n",
    "    \n",
    "    \"\"\"\n",
    "    \n",
    "    ### YOUR CODE HERE\n",
    "    \n",
    "    return data"
   ]
  },
  {
   "cell_type": "code",
   "execution_count": null,
   "metadata": {
    "collapsed": true,
    "deletable": false,
    "editable": false,
    "nbgrader": {
     "checksum": "e489f9e499f0b011e31729c210a94732",
     "grade": true,
     "grade_id": "p3_test",
     "locked": true,
     "points": 1,
     "schema_version": 1,
     "solution": false
    }
   },
   "outputs": [],
   "source": [
    "assert_equal(type(array_reader('data_file.txt')), np.ndarray)\n",
    "assert_equal(array_reader('data_file.txt')[9], 10)"
   ]
  },
  {
   "cell_type": "markdown",
   "metadata": {
    "deletable": false,
    "editable": false,
    "nbgrader": {
     "checksum": "2ee30748058b957478617f3f97eabc8d",
     "grade": false,
     "grade_id": "p3_text_2",
     "locked": true,
     "schema_version": 1,
     "solution": false
    }
   },
   "source": [
    "For the next few cells we will use the iris dataset, focusing only on the setosa species."
   ]
  },
  {
   "cell_type": "code",
   "execution_count": null,
   "metadata": {
    "collapsed": true,
    "deletable": false,
    "editable": false,
    "nbgrader": {
     "checksum": "90d4b5b13180f66962f7f52f2cb8a9b2",
     "grade": false,
     "grade_id": "p3_run_1",
     "locked": true,
     "schema_version": 1,
     "solution": false
    }
   },
   "outputs": [],
   "source": [
    "iris_data = pd.read_csv('iris.csv')\n",
    "iris_data.head()"
   ]
  },
  {
   "cell_type": "code",
   "execution_count": null,
   "metadata": {
    "collapsed": true,
    "deletable": false,
    "editable": false,
    "nbgrader": {
     "checksum": "affb7f30213fa18b77fb092dcf1023b8",
     "grade": false,
     "grade_id": "p3_run_2",
     "locked": true,
     "schema_version": 1,
     "solution": false
    }
   },
   "outputs": [],
   "source": [
    "setosa_data = iris_data.loc[iris_data['class'] == 'Iris-setosa']"
   ]
  },
  {
   "cell_type": "markdown",
   "metadata": {
    "deletable": false,
    "editable": false,
    "nbgrader": {
     "checksum": "b9f844f6a694b7d77164a19dfcb3897c",
     "grade": false,
     "grade_id": "p4_text",
     "locked": true,
     "schema_version": 1,
     "solution": false
    }
   },
   "source": [
    "# Problem 4:Finding the median\n",
    "\n",
    "Write a function that takes in a column name from the setosa_data dataset and outputs the median value of that column."
   ]
  },
  {
   "cell_type": "code",
   "execution_count": null,
   "metadata": {
    "collapsed": true,
    "deletable": false,
    "nbgrader": {
     "checksum": "2a6a3f035b3a1881b63f94ad66843575",
     "grade": false,
     "grade_id": "p4_answer",
     "locked": false,
     "schema_version": 1,
     "solution": true
    }
   },
   "outputs": [],
   "source": [
    "def median_finder(column_name):\n",
    "    \"\"\"\n",
    "    Input\n",
    "    ------\n",
    "    \n",
    "    column_name: a string, the name of the column\n",
    "    \n",
    "    \n",
    "    Output\n",
    "    -------\n",
    "    \n",
    "    median: the median value of the column\n",
    "    \n",
    "    \"\"\"\n",
    "    \n",
    "    ### YOUR CODE HERE\n",
    "    \n",
    "    return median"
   ]
  },
  {
   "cell_type": "code",
   "execution_count": null,
   "metadata": {
    "collapsed": true,
    "deletable": false,
    "editable": false,
    "nbgrader": {
     "checksum": "c75b7b5719d8a05ea546c9034ae2fcd5",
     "grade": true,
     "grade_id": "p4_test",
     "locked": true,
     "points": 1,
     "schema_version": 1,
     "solution": false
    }
   },
   "outputs": [],
   "source": [
    "assert_equal(median_finder('sepal length (in cm)'), 5.0)\n",
    "assert_equal(median_finder('sepal width (in cm)'), 3.4)\n",
    "assert_equal(median_finder('petal length (in cm)'), 1.5)\n",
    "assert_equal(median_finder('petal width (in cm)'), 0.2)"
   ]
  },
  {
   "cell_type": "markdown",
   "metadata": {
    "deletable": false,
    "editable": false,
    "nbgrader": {
     "checksum": "d660eac0144e8bcb9093c0933059226b",
     "grade": false,
     "grade_id": "p5_text",
     "locked": true,
     "schema_version": 1,
     "solution": false
    }
   },
   "source": [
    "# Problem 5: Comparing medians\n",
    "\n",
    "Write a function that takes in two column names from the setosa_data dataset, compares their medians, and returns the name of the column with the larger median."
   ]
  },
  {
   "cell_type": "code",
   "execution_count": null,
   "metadata": {
    "collapsed": true,
    "deletable": false,
    "nbgrader": {
     "checksum": "aefb54cb2ae915f8840ccae83173bc5d",
     "grade": false,
     "grade_id": "p5_answer",
     "locked": false,
     "schema_version": 1,
     "solution": true
    }
   },
   "outputs": [],
   "source": [
    "def median_comparer(column_name_one,column_name_two):\n",
    "    \"\"\"\n",
    "    Input\n",
    "    ------\n",
    "    \n",
    "    column_name_one: a string, the name of the first column\n",
    "    column_name_two: a string, the name of the second column\n",
    "    \n",
    "    Output\n",
    "    -------\n",
    "    \n",
    "    greater_mean: a string, the name of the column with the greater mean\n",
    "    \n",
    "    \"\"\"\n",
    "    \n",
    "    ### YOUR CODE HERE\n",
    "    \n",
    "    return greater_median"
   ]
  },
  {
   "cell_type": "code",
   "execution_count": null,
   "metadata": {
    "collapsed": true,
    "deletable": false,
    "editable": false,
    "nbgrader": {
     "checksum": "72d11e65473ff75b40733ce85ec0bebe",
     "grade": true,
     "grade_id": "p5_test",
     "locked": true,
     "points": 1,
     "schema_version": 1,
     "solution": false
    }
   },
   "outputs": [],
   "source": [
    "assert_equal(median_comparer('sepal width (in cm)','sepal length (in cm)'), 'sepal length (in cm)')\n",
    "assert_equal(median_comparer('petal width (in cm)','sepal length (in cm)'), 'sepal length (in cm)')\n",
    "assert_equal(median_comparer('petal width (in cm)','petal length (in cm)'), 'petal length (in cm)')\n",
    "assert_equal(median_comparer('petal width (in cm)','sepal width (in cm)'), 'sepal width (in cm)')"
   ]
  },
  {
   "cell_type": "code",
   "execution_count": null,
   "metadata": {
    "collapsed": true,
    "deletable": false,
    "editable": false,
    "nbgrader": {
     "checksum": "2b3961d2a46f6533d0a34656522a5a8a",
     "grade": false,
     "grade_id": "p5_run",
     "locked": true,
     "schema_version": 1,
     "solution": false
    }
   },
   "outputs": [],
   "source": [
    "df = pd.read_csv('./airports.csv', index_col='iata')\n",
    "df.head()"
   ]
  },
  {
   "cell_type": "markdown",
   "metadata": {
    "deletable": false,
    "editable": false,
    "nbgrader": {
     "checksum": "2400859c7859118ee2b0175901e22032",
     "grade": false,
     "grade_id": "p6_text_1",
     "locked": true,
     "schema_version": 1,
     "solution": false
    }
   },
   "source": [
    "# Problem 6: Finding all Airports in a state.\n",
    "For this problem you will find all airports in a given state from the airports dataset. \n",
    "\n",
    "Finish writing the *find_state* function in the cell below:\n",
    "The state parameter indicates which state to find all of airports for. The dataframe is passed in as *df*."
   ]
  },
  {
   "cell_type": "code",
   "execution_count": null,
   "metadata": {
    "collapsed": true,
    "deletable": false,
    "nbgrader": {
     "checksum": "956ad79ec71c45ec4fa7328201b7d175",
     "grade": false,
     "grade_id": "p6_answer",
     "locked": false,
     "schema_version": 1,
     "solution": true
    }
   },
   "outputs": [],
   "source": [
    "def find_state(df, state='IL'):\n",
    "    '''\n",
    "    df - airports.csv loaded into a dataframe\n",
    "    state - state to find all data for\n",
    "    returns dataframe containing data from a particular state\n",
    "    '''\n",
    "    \n",
    "    ### YOUR CODE HERE\n",
    "    \n",
    "    return df_state"
   ]
  },
  {
   "cell_type": "markdown",
   "metadata": {
    "deletable": false,
    "editable": false,
    "nbgrader": {
     "checksum": "7f4928b457ae9e165c62af8f7e886944",
     "grade": false,
     "grade_id": "p6_text_2",
     "locked": true,
     "schema_version": 1,
     "solution": false
    }
   },
   "source": [
    "## Finding all airports in IL.\n",
    "Your dataframe should look similar to this:\n",
    "\n",
    "![IL df](images/IL_pd.png)"
   ]
  },
  {
   "cell_type": "code",
   "execution_count": null,
   "metadata": {
    "collapsed": true,
    "deletable": false,
    "editable": false,
    "nbgrader": {
     "checksum": "f6ad0b72f76c424a78251e879d2f054c",
     "grade": true,
     "grade_id": "p6_test_1",
     "locked": true,
     "points": 1,
     "schema_version": 1,
     "solution": false
    }
   },
   "outputs": [],
   "source": [
    "from helper import fs, srt\n",
    "assert_true(fs(df, state='IL').equals(find_state(df, state='IL')))\n",
    "\n",
    "# Checking a few more states\n",
    "assert_true(fs(df, state='IL').equals(find_state(df, state='IL')))\n",
    "assert_true(fs(df, state='NC').equals(find_state(df, state='NC')))\n",
    "assert_true(fs(df, state='CA').equals(find_state(df, state='CA')))"
   ]
  },
  {
   "cell_type": "markdown",
   "metadata": {
    "deletable": false,
    "editable": false,
    "nbgrader": {
     "checksum": "b345cc79e9d5103a67fdea44ee146c3b",
     "grade": false,
     "grade_id": "p7_text",
     "locked": true,
     "schema_version": 1,
     "solution": false
    }
   },
   "source": [
    "# Problem 7: Sorting dataframes\n",
    "Finish writing the *sort_lat_asc* function. It should sort dataframes passed into it by latitude in ascending order."
   ]
  },
  {
   "cell_type": "code",
   "execution_count": null,
   "metadata": {
    "collapsed": true,
    "deletable": false,
    "nbgrader": {
     "checksum": "c8ce745d4b39b382d9e1923ea83ba54b",
     "grade": false,
     "grade_id": "p7_answer",
     "locked": false,
     "schema_version": 1,
     "solution": true
    }
   },
   "outputs": [],
   "source": [
    "def sort_lat_asc(df):\n",
    "    '''\n",
    "    df - airports.csv loaded into a dataframe\n",
    "    returns sorted dataframe by latitiude in ascending order\n",
    "    '''\n",
    "    ### YOUR CODE HERE\n",
    "    \n",
    "    return sorted_df"
   ]
  },
  {
   "cell_type": "code",
   "execution_count": null,
   "metadata": {
    "collapsed": true,
    "deletable": false,
    "editable": false,
    "nbgrader": {
     "checksum": "514ac8bcd2db303e4ccc86c037306055",
     "grade": true,
     "grade_id": "p7_test",
     "locked": true,
     "points": 1,
     "schema_version": 1,
     "solution": false
    }
   },
   "outputs": [],
   "source": [
    "nc_df = find_state(df, state='NC')\n",
    "assert_true(srt(nc_df).equals(sort_lat_asc(nc_df)))\n",
    "\n",
    "md_df = find_state(df, state='MD')\n",
    "assert_true(srt(md_df).equals(sort_lat_asc(md_df)))"
   ]
  },
  {
   "cell_type": "markdown",
   "metadata": {},
   "source": [
    "-----"
   ]
  },
  {
   "cell_type": "markdown",
   "metadata": {
    "deletable": false,
    "editable": false
   },
   "source": [
    "**&copy; 2017: Robert J. Brunner at the University of Illinois.**\n",
    "\n",
    "This notebook is released under the [Creative Commons license CC BY-NC-SA 4.0][ll]. Any reproduction, adaptation, distribution, dissemination or making available of this notebook for commercial use is not allowed unless authorized in writing by the copyright holder.\n",
    "\n",
    "[ll]: https://creativecommons.org/licenses/by-nc-sa/4.0/legalcode"
   ]
  }
 ],
 "metadata": {
  "anaconda-cloud": {},
  "coursera": {
   "course_slug": "data-analytics-accountancy-1",
   "graded_item_id": "NdhiA",
   "launcher_item_id": "m4_assignment"
  },
  "kernelspec": {
   "display_name": "Python 3",
   "language": "python",
   "name": "python3"
  },
  "language_info": {
   "codemirror_mode": {
    "name": "ipython",
    "version": 3
   },
   "file_extension": ".py",
   "mimetype": "text/x-python",
   "name": "python",
   "nbconvert_exporter": "python",
   "pygments_lexer": "ipython3",
   "version": "3.6.1"
  }
 },
 "nbformat": 4,
 "nbformat_minor": 2
}
