{
 "cells": [
  {
   "cell_type": "markdown",
   "metadata": {},
   "source": [
    "# Module 4: Lesson 2\n",
    "\n",
    "-----\n",
    "\n",
    "## Introduction to NumPy\n",
    "\n",
    "The second lesson introduces the NumPy module, which supports fast numerical operations within Python and forms the basis for the Pandas module.\n",
    "\n",
    "### Objectives\n",
    "\n",
    "By the end of this lesson, you will understand\n",
    "\n",
    "- the benefits of using the NumPy module,\n",
    "- how to create and manipulate NumPy arrays, and\n",
    "- how to apply universal functions to NumPy arrays.\n",
    "\n",
    "### Time Estimate\n",
    "\n",
    "Approximately 2 hours.\n",
    "\n",
    "### Activities \n",
    "\n",
    "Video: Watch the [Introduction to the NumPy][inv] video, which will demonstrate how to efficiently work with numerical data in Python.\n",
    "\n",
    "Notebook: Read and complete the student  exercises in the [Introduction to NumPy][intro2numpy] notebook.\n",
    "\n",
    "------\n",
    "\n",
    "[inv]: https://mediaspace.illinois.edu/media/iMSA+Accy+570+m4l2v1/1_vh417n4x\n",
    "[intro2numpy]: intro2numpy.html"
   ]
  },
  {
   "cell_type": "markdown",
   "metadata": {},
   "source": [
    "**&copy; 2017: Robert J. Brunner at the University of Illinois.**\n",
    "\n",
    "This notebook is released under the [Creative Commons license CC BY-NC-SA 4.0][ll]. Any reproduction, adaptation, distribution, dissemination or making available of this notebook for commercial use is not allowed unless authorized in writing by the copyright holder.\n",
    "\n",
    "[ll]: https://creativecommons.org/licenses/by-nc-sa/4.0/legalcode"
   ]
  }
 ],
 "metadata": {
  "kernelspec": {
   "display_name": "Python 3",
   "language": "python",
   "name": "python3"
  },
  "language_info": {
   "codemirror_mode": {
    "name": "ipython",
    "version": 3
   },
   "file_extension": ".py",
   "mimetype": "text/x-python",
   "name": "python",
   "nbconvert_exporter": "python",
   "pygments_lexer": "ipython3",
   "version": "3.6.1"
  }
 },
 "nbformat": 4,
 "nbformat_minor": 2
}
