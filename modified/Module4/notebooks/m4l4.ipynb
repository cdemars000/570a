{
 "cells": [
  {
   "cell_type": "markdown",
   "metadata": {},
   "source": [
    "# Module 4: Lesson 4\n",
    "\n",
    "-----\n",
    "\n",
    "## Advanced Pandas\n",
    "\n",
    "The final lesson in this module introduces advanced features in the Pandas module. This includes masking, grouping, and stacking `DataFrame` objects, as well as creating _pivot tables_ in Pandas.\n",
    "\n",
    "\n",
    "### Objectives\n",
    "\n",
    "By the end of this lesson, you will be able to\n",
    "\n",
    "- apply masks to a pandas `DataFrame`,\n",
    "- group data within a pandas `DataFrame`, \n",
    "- stack multiple pandas `DataFrame` objects, and\n",
    "- create a pivot table from a pandas `DataFrame`.\n",
    "\n",
    "### Time Estimate\n",
    "\n",
    "Approximately 2 hours.\n",
    "\n",
    "### Activities \n",
    "\n",
    "Video: Watch the [Advanced Pandas ][apdv] video, which will demonstrate how to use Pandas to perform advanced data analysis.\n",
    "\n",
    "Notebook: Read and complete the student exercises in the [Advanced Pandas][aPandas] notebook.\n",
    "\n",
    "------\n",
    "\n",
    "[apdv]: https://media.business.illinois.edu/k/316078783467693f3839/43361611\n",
    "\n",
    "[aPandas]: aPandas.html"
   ]
  },
  {
   "cell_type": "markdown",
   "metadata": {
    "deletable": false,
    "editable": false
   },
   "source": [
    "**&copy; 2017: Robert J. Brunner at the University of Illinois.**\n",
    "\n",
    "This notebook is released under the [Creative Commons license CC BY-NC-SA 4.0][ll]. Any reproduction, adaptation, distribution, dissemination or making available of this notebook for commercial use is not allowed unless authorized in writing by the copyright holder.\n",
    "\n",
    "[ll]: https://creativecommons.org/licenses/by-nc-sa/4.0/legalcode"
   ]
  }
 ],
 "metadata": {
  "kernelspec": {
   "display_name": "Python 3",
   "language": "python",
   "name": "python3"
  },
  "language_info": {
   "codemirror_mode": {
    "name": "ipython",
    "version": 3
   },
   "file_extension": ".py",
   "mimetype": "text/x-python",
   "name": "python",
   "nbconvert_exporter": "python",
   "pygments_lexer": "ipython3",
   "version": "3.6.5"
  }
 },
 "nbformat": 4,
 "nbformat_minor": 2
}
