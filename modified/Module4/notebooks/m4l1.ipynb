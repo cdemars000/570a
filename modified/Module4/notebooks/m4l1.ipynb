{
 "cells": [
  {
   "cell_type": "markdown",
   "metadata": {},
   "source": [
    "# Module 4: Lesson 1\n",
    "\n",
    "-----\n",
    "\n",
    "## Excel in Python\n",
    "\n",
    "The first lesson explores how the Pandas module can support standard business analytics commonly done in a spreadsheet.\n",
    "\n",
    "### Objectives\n",
    "\n",
    "By the end of this lesson, you will understand how Python, and in particular the pandas module, can support many common Excel tasks.\n",
    "\n",
    "### Time Estimate\n",
    "\n",
    "Approximately 1 hour.\n",
    "\n",
    "### Activities\n",
    "\n",
    "Video: Watch the [Excel in Python][lv] video, which will discuss how many spreadsheet tasks can be performed effectively (and on very large data) by using a Python data analytics script.\n",
    "\n",
    "Reading: A discussion on performing simple [Excel tasks in Python][etp] by using  the Pandas Module. Note, you do not need to master these skills, this is just a demonstration of how one migrates from Excel (or spreadsheets in general) to analytics with Python. Thus, you do not need to install the `fuzzywuzzy` module (unless you so wish).\n",
    "\n",
    "------\n",
    "\n",
    "[etp]: http://pbpython.com/excel-pandas-comp.html\n",
    "\n",
    "[lv]: https://mediaspace.illinois.edu/media/iMSA+Accy+570+m4l1v1/1_dw5uujwd"
   ]
  },
  {
   "cell_type": "markdown",
   "metadata": {},
   "source": [
    "**&copy; 2017: Robert J. Brunner at the University of Illinois.**\n",
    "\n",
    "This notebook is released under the [Creative Commons license CC BY-NC-SA 4.0][ll]. Any reproduction, adaptation, distribution, dissemination or making available of this notebook for commercial use is not allowed unless authorized in writing by the copyright holder.\n",
    "\n",
    "[ll]: https://creativecommons.org/licenses/by-nc-sa/4.0/legalcode"
   ]
  }
 ],
 "metadata": {
  "kernelspec": {
   "display_name": "Python 3",
   "language": "python",
   "name": "python3"
  },
  "language_info": {
   "codemirror_mode": {
    "name": "ipython",
    "version": 3
   },
   "file_extension": ".py",
   "mimetype": "text/x-python",
   "name": "python",
   "nbconvert_exporter": "python",
   "pygments_lexer": "ipython3",
   "version": "3.6.1"
  }
 },
 "nbformat": 4,
 "nbformat_minor": 2
}
