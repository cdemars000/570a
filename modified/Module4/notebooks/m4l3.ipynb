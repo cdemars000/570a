{
 "cells": [
  {
   "cell_type": "markdown",
   "metadata": {},
   "source": [
    "# Module 4: Lesson 3\n",
    "\n",
    "-----\n",
    "\n",
    "## Introduction to Descriptive Statistics\n",
    "\n",
    "The third lesson introduces descriptive (or summary) statistics, which can provide insight into a (potentially large) data set by using only a few quantitative measurements. Many of these statistics are likely familiar, but this lesson focuses on calculating and using them within a Python script\n",
    "\n",
    "### Objectives\n",
    "\n",
    "By the end of this lesson, you will be be able to\n",
    "\n",
    "- compute basic descriptive statistics by using Python, and\n",
    "- describe the difference between these different statistics.\n",
    "\n",
    "### Time Estimate\n",
    "\n",
    "Approximately 2 hours.\n",
    "\n",
    "### Activities\n",
    "\n",
    "Video: Watch the [Introduction to Descriptive Statistics][idsv] video, which will demonstrate how to compute and interpret descriptive statistics for a data set.\n",
    "\n",
    "Notebook: Read and complete the student exercises in the [Introduction to Descriptive Statistics][introds] notebook.\n",
    "\n",
    "------\n",
    "\n",
    "[idsv]: https://media.business.illinois.edu/k/31607974726f6a6e407b/43361611\n",
    "\n",
    "[introds]: intro2ds.html"
   ]
  },
  {
   "cell_type": "markdown",
   "metadata": {
    "deletable": false,
    "editable": false
   },
   "source": [
    "**&copy; 2017: Robert J. Brunner at the University of Illinois.**\n",
    "\n",
    "This notebook is released under the [Creative Commons license CC BY-NC-SA 4.0][ll]. Any reproduction, adaptation, distribution, dissemination or making available of this notebook for commercial use is not allowed unless authorized in writing by the copyright holder.\n",
    "\n",
    "[ll]: https://creativecommons.org/licenses/by-nc-sa/4.0/legalcode"
   ]
  }
 ],
 "metadata": {
  "kernelspec": {
   "display_name": "Python 3",
   "language": "python",
   "name": "python3"
  },
  "language_info": {
   "codemirror_mode": {
    "name": "ipython",
    "version": 3
   },
   "file_extension": ".py",
   "mimetype": "text/x-python",
   "name": "python",
   "nbconvert_exporter": "python",
   "pygments_lexer": "ipython3",
   "version": "3.6.5"
  }
 },
 "nbformat": 4,
 "nbformat_minor": 2
}
