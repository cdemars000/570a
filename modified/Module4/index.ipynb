{
 "cells": [
  {
   "cell_type": "markdown",
   "metadata": {},
   "source": [
    "# Module 4: Statistical Data Analysis\n",
    "\n",
    "This module introduces fundamental concepts in data analysis. First, you will read about how to perform many basic tasks in Excel by using the Pandas module in Python. Second, you will learn about the NumPy module, which provides support for fast numerical operations within Python. This module will focus on using NumPy with one-dimensional data (i.e., vectors or 1-D arrays), but a later module will explore using NumPy for higher-dimensional data. Third, you will learn about descriptive statistics, which can be used to characterize a data set by using a few specific measurements. Finally, you will learn about advanced functionality within the Pandas module including masking, grouping, stacking, and pivot tables.\n",
    "\n",
    "## Learning Objectives\n",
    "\n",
    "#### By the end of this module, you should be able to:\n",
    "\n",
    "- understand how to move from analyzing data in Excel to Pandas,\n",
    "- work with one dimensional numerical data by using the NumPy module,\n",
    "- compute and interpret descriptive statistics, and\n",
    "- apply advanced features to more effectively analyze data by using a Pandas `DataFrame`.\n",
    "\n",
    "### Activities and Assignments\n",
    "\n",
    "| Activities and Assignments               | Time Estimate | Deadline | Points |\n",
    "| :--------------------------------------- | ------------- | --------- | -----: |\n",
    "| **[Module 4 Overview Video][wv]**      | 10 Minutes    | N/A |    N/A |\n",
    "| **[Module 4 Lesson 1: Excel in Python][nb1]** | 1 Hour   | N/A  |     N/A |\n",
    "| **[Module 4 Lesson 2: Introduction to NumPy][nb2]** | 2 Hours | N/A  |     N/A |\n",
    "| **[Module 4 Lesson 3: Introduction to Descriptive Statistics][nb3]** | 2 Hours | N/A  |     N/A |\n",
    "| **[Module 4 Lesson 4: Advanced Pandas][nb4]** | 2 Hours   | N/A  |   N/A |\n",
    "| **[Module 4 Assignment][ma]**         | 1 Hour    | N/A    |    N/A  |\n",
    "\n",
    "----------\n",
    "\n",
    "[nb1]: notebooks/m4l1.ipynb\n",
    "[nb2]: notebooks/m4l2.ipynb\n",
    "[nb3]: notebooks/m4l3.ipynb\n",
    "[nb4]: notebooks/m4l4.ipynb\n",
    "\n",
    "[ma]: assignment/assignment.ipynb\n",
    "\n",
    "[wv]: https://media.business.illinois.edu/k/31607775737e707c743f/43361611\n"
   ]
  },
  {
   "cell_type": "markdown",
   "metadata": {
    "deletable": false,
    "editable": false
   },
   "source": [
    "**&copy; 2017: Robert J. Brunner at the University of Illinois.**\n",
    "\n",
    "This notebook is released under the [Creative Commons license CC BY-NC-SA 4.0][ll]. Any reproduction, adaptation, distribution, dissemination or making available of this notebook for commercial use is not allowed unless authorized in writing by the copyright holder.\n",
    "\n",
    "[ll]: https://creativecommons.org/licenses/by-nc-sa/4.0/legalcode"
   ]
  }
 ],
 "metadata": {
  "kernelspec": {
   "display_name": "Python 3",
   "language": "python",
   "name": "python3"
  },
  "language_info": {
   "codemirror_mode": {
    "name": "ipython",
    "version": 3
   },
   "file_extension": ".py",
   "mimetype": "text/x-python",
   "name": "python",
   "nbconvert_exporter": "python",
   "pygments_lexer": "ipython3",
   "version": "3.6.7"
  }
 },
 "nbformat": 4,
 "nbformat_minor": 2
}
