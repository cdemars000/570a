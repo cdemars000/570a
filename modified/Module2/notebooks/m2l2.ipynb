{
 "cells": [
  {
   "cell_type": "markdown",
   "metadata": {},
   "source": [
    "# Module 2: Lesson 2\n",
    "\n",
    "-----\n",
    "\n",
    "## Python Data Structures\n",
    "\n",
    "This lesson introduces basic Python data structures such as the list, dictionary, string, and tuple.\n",
    "\n",
    "### Objectives\n",
    "\n",
    "By the end of this lesson, you will be able to:\n",
    "\n",
    "- create these different compound data structures,\n",
    "- access data from these data structures,\n",
    "- iterate through these data structures, and\n",
    "- use special functions that operate on these data structures.\n",
    "\n",
    "### Time Estimate\n",
    "\n",
    "Approximately 2 hour2.\n",
    "\n",
    "### Activities \n",
    "\n",
    "Video: Watch the [Python data structures][lv] video, which will discuss the powerful data structures that come built-in to the Python programming language.\n",
    "\n",
    "Notebook: Read and complete the practice exercises in the [Python data structures][intro2pyds] notebook.\n",
    "\n",
    "------\n",
    "\n",
    "[lv]: https://media.business.illinois.edu/k/31603a373468367b7176/43361611\n",
    "\n",
    "[intro2pyds]: pydatastructures.html"
   ]
  },
  {
   "cell_type": "markdown",
   "metadata": {
    "deletable": false,
    "editable": false
   },
   "source": [
    "**&copy; 2017: Robert J. Brunner at the University of Illinois.**\n",
    "\n",
    "This notebook is released under the [Creative Commons license CC BY-NC-SA 4.0][ll]. Any reproduction, adaptation, distribution, dissemination or making available of this notebook for commercial use is not allowed unless authorized in writing by the copyright holder.\n",
    "\n",
    "[ll]: https://creativecommons.org/licenses/by-nc-sa/4.0/legalcode"
   ]
  }
 ],
 "metadata": {
  "kernelspec": {
   "display_name": "Python 3",
   "language": "python",
   "name": "python3"
  },
  "language_info": {
   "codemirror_mode": {
    "name": "ipython",
    "version": 3
   },
   "file_extension": ".py",
   "mimetype": "text/x-python",
   "name": "python",
   "nbconvert_exporter": "python",
   "pygments_lexer": "ipython3",
   "version": "3.6.5"
  }
 },
 "nbformat": 4,
 "nbformat_minor": 2
}
