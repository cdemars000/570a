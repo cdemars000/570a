{
 "cells": [
  {
   "cell_type": "markdown",
   "metadata": {},
   "source": [
    "# Module 2: Lesson 1\n",
    "\n",
    "-----\n",
    "\n",
    "## Why learn to code?\n",
    "\n",
    "The first lesson explores why accounting students might want to learn to code in order to improve their opportunities in the job search as well as improve their overall competencies.\n",
    "\n",
    "### Objectives\n",
    "\n",
    "By the end of this lesson, you will understand that writing code\n",
    "\n",
    "- is an important tool, that can distinguish job candidates,\n",
    "- forces you to learn to think and act logically,\n",
    "- develops creative approaches for problem-solving, and\n",
    "- enables you to communicate effectively with technology experts.\n",
    "\n",
    "You should share with the class via a Discussion Forum post your reaction to this reading.\n",
    "\n",
    "### Time Estimate\n",
    "\n",
    "Approximately 1 hour.\n",
    "\n",
    "### Activities\n",
    "\n",
    "Video: Watch the [why learn to code][lv] video, which will discuss the benefits you accrue when you to learn how to code.\n",
    "\n",
    "Reading: Why accounting students might want to [learn to code][plc].\n",
    "\n",
    "------\n",
    "\n",
    "[plc]: https://www.aicpa.org/InterestAreas/AccountingEducation/NewsAndPublications/Pages/should-accounting-students-code.aspx\n",
    "\n",
    "[lv]: https://media.business.illinois.edu/k/3160657534396d38397c/43361611"
   ]
  },
  {
   "cell_type": "markdown",
   "metadata": {
    "deletable": false,
    "editable": false
   },
   "source": [
    "**&copy; 2017: Robert J. Brunner at the University of Illinois.**\n",
    "\n",
    "This notebook is released under the [Creative Commons license CC BY-NC-SA 4.0][ll]. Any reproduction, adaptation, distribution, dissemination or making available of this notebook for commercial use is not allowed unless authorized in writing by the copyright holder.\n",
    "\n",
    "[ll]: https://creativecommons.org/licenses/by-nc-sa/4.0/legalcode"
   ]
  }
 ],
 "metadata": {
  "kernelspec": {
   "display_name": "Python 3",
   "language": "python",
   "name": "python3"
  },
  "language_info": {
   "codemirror_mode": {
    "name": "ipython",
    "version": 3
   },
   "file_extension": ".py",
   "mimetype": "text/x-python",
   "name": "python",
   "nbconvert_exporter": "python",
   "pygments_lexer": "ipython3",
   "version": "3.6.7"
  }
 },
 "nbformat": 4,
 "nbformat_minor": 2
}
