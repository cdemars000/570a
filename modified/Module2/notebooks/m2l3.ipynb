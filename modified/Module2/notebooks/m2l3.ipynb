{
 "cells": [
  {
   "cell_type": "markdown",
   "metadata": {},
   "source": [
    "# Module 2: Lesson 3\n",
    "\n",
    "-----\n",
    "\n",
    "## Python Functions\n",
    "\n",
    "This lesson introduces the concept of a function. Much like the equivalent in mathematics, a function takes input and generates output. By encapsulating algorithmic details in a function, you promote code reuse, increase efficiency by leveraging previous work, and reduce the likelihood for errors to occur.\n",
    "\n",
    "### Objectives\n",
    "\n",
    "By the end of this lesson, you will be be able to\n",
    "\n",
    "- create a function, \n",
    "- process input inside a function, and \n",
    "- return a new value from a function. \n",
    "\n",
    "You will also learn how to create unnamed functions, known as _lambda functions_, and how to provide default values for functions.\n",
    "\n",
    "\n",
    "### Time Estimate\n",
    "\n",
    "Approximately 2 hours.\n",
    "\n",
    "### Activities\n",
    "\n",
    "Video: Watch the [Python functions][lv] video, which will demonstrate how to write and use Python functions.\n",
    "\n",
    "Notebook: Read and complete the practice exercises in the [Python functions][intro2pyf] notebook.\n",
    "\n",
    "------\n",
    "\n",
    "[lv]: https://media.business.illinois.edu/k/31606534777438697571/43361611\n",
    "\n",
    "[intro2pyf]: functionpy.html"
   ]
  },
  {
   "cell_type": "markdown",
   "metadata": {
    "deletable": false,
    "editable": false
   },
   "source": [
    "**&copy; 2017: Robert J. Brunner at the University of Illinois.**\n",
    "\n",
    "This notebook is released under the [Creative Commons license CC BY-NC-SA 4.0][ll]. Any reproduction, adaptation, distribution, dissemination or making available of this notebook for commercial use is not allowed unless authorized in writing by the copyright holder.\n",
    "\n",
    "[ll]: https://creativecommons.org/licenses/by-nc-sa/4.0/legalcode"
   ]
  }
 ],
 "metadata": {
  "kernelspec": {
   "display_name": "Python 3",
   "language": "python",
   "name": "python3"
  },
  "language_info": {
   "codemirror_mode": {
    "name": "ipython",
    "version": 3
   },
   "file_extension": ".py",
   "mimetype": "text/x-python",
   "name": "python",
   "nbconvert_exporter": "python",
   "pygments_lexer": "ipython3",
   "version": "3.6.5"
  }
 },
 "nbformat": 4,
 "nbformat_minor": 2
}
