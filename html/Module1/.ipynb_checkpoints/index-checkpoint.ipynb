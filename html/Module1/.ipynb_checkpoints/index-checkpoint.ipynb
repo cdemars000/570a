{
 "cells": [
  {
   "cell_type": "markdown",
   "metadata": {},
   "source": [
    "# Module 1: Foundations\n",
    "\n",
    "This module serves as the introduction to the course content and the course Jupyter server, where you will run your analytics scripts. First, you will read about specific examples of how analytics is being employed by Accounting firms. Next, you will learn about the capabilities of the course Jupyter server, and how to create, edit, and run notebooks on the course server. After this, you will learn how to write Markdown formatted documents, which is an easy way to quickly write formatted text, including descriptive text inside a course notebook. Finally, you will begin learning about Python, the programming language used in this course for data analytics.\n",
    "\n",
    "## Learning Objectives\n",
    "\n",
    "#### By the end of this module, you should be able to:\n",
    "\n",
    "- appreciate the importance of data analytics in accountancy,\n",
    "- work effectively with a Jupyter notebook on the course server,\n",
    "- write basic markdown encoded documents, and\n",
    "- write simple Python scripts.\n",
    "\n",
    "### Activities and Assignments\n",
    "\n",
    "| Activities and Assignments               | Time Estimate | Deadline* | Points |\n",
    "| :--------------------------------------- | ------------- | --------- | -----: |\n",
    "| **[Module 1 Overview Video][wv]**      | 10 Minutes    | Tuesday  |    N/A |\n",
    "| **[Module 1 Lesson 1: Intro to Data Analytics][nb1]** | 1 Hours  | N/A  |     N/A |\n",
    "| **[Module 1 Lesson 2: Introduction to Course Server][nb2]** | 1 Hours | N/A  |     N/A |\n",
    "| **[Module 1 Lesson 3: Introduction to Markdown][nb3]** | 1 Hours | N/A  |     N/A |\n",
    "| **[Module 1 Lesson 4: Introduction to Python][nb4]** | 2 Hours   | N/A  |     N/A |\n",
    "| **[Module 1 Quiz][wq]**                    | 30 Minutes    | N/A    |     N/A|\n",
    "| **[Module 1 Assignment][ma]**                    | 1 hour   | N/A   |  N/A |\n",
    "\n",
    "*Please note that unless otherwise noted, the due time is 6pm Central time!\n",
    "\n",
    "----------\n",
    "\n",
    "[nb1]: notebooks/m1l1.html\n",
    "[nb2]: notebooks/m1l2.html\n",
    "[nb3]: notebooks/m1l3.html\n",
    "[nb4]: notebooks/m1l4.html\n",
    "\n",
    "[ma]: assignments/assignment.html\n",
    "\n",
    "[wv]: https://mediaspace.illinois.edu/media/M1+Intro/1_tnrwsyrv\n",
    "[wq]: https://learn.illinois.edu/mod/quiz/view.php?id=2515296"
   ]
  },
  {
   "cell_type": "markdown",
   "metadata": {},
   "source": [
    "**&copy; 2017: Robert J. Brunner at the University of Illinois.**\n",
    "\n",
    "This notebook is released under the [Creative Commons license CC BY-NC-SA 4.0][ll]. Any reproduction, adaptation, distribution, dissemination or making available of this notebook for commercial use is not allowed unless authorized in writing by the copyright holder.\n",
    "\n",
    "[ll]: https://creativecommons.org/licenses/by-nc-sa/4.0/legalcode"
   ]
  }
 ],
 "metadata": {
  "kernelspec": {
   "display_name": "Python 3",
   "language": "python",
   "name": "python3"
  },
  "language_info": {
   "codemirror_mode": {
    "name": "ipython",
    "version": 3
   },
   "file_extension": ".py",
   "mimetype": "text/x-python",
   "name": "python",
   "nbconvert_exporter": "python",
   "pygments_lexer": "ipython3",
   "version": "3.6.1"
  }
 },
 "nbformat": 4,
 "nbformat_minor": 2
}
