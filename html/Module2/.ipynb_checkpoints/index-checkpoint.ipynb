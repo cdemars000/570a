{
 "cells": [
  {
   "cell_type": "markdown",
   "metadata": {},
   "source": [
    "# Module 2: Introduction to Python\n",
    "\n",
    "This module focuses on the basic features in the Python programming language that underlie most data analytics scripts. First, you will read about why accounting students should learn to write computer programs. Second, you will learn about basic data structures commonly used in Python programs. Third, you will learn how to write functions, which can be repeatedly called, in Python, and how to use them effectively in your own programs. Finally, you will learn how to control the execution process of your Python program by using conditional statements and looping constructs. At the conclusion of this module, you will be able to write  Python scripts to perform basic data analytic tasks.\n",
    "\n",
    "## Learning Objectives\n",
    "\n",
    "#### By the end of this module, you should be able to:\n",
    "\n",
    "- articulate how accounting students can benefit from learning to write computer programs,\n",
    "- write simple Python scripts,\n",
    "- effectively use the basic Python data structures: list, string, dictionary, and tuple,\n",
    "- write and use simple Python functions, and\n",
    "- use conditional statements and loops in a Python script.\n",
    "\n",
    "### Activities and Assignments\n",
    "\n",
    "| Activities and Assignments               | Time Estimate | Deadline* | Points |\n",
    "| :--------------------------------------- | ------------- | --------- | -----: |\n",
    "| **[Module 2 Overview Video][wv]**      | 10 Minutes    | N/A |    N/A |\n",
    "| **[Module 2 Lesson 1: Why learn to code?][nb1]** | 1 Hour   | N/A  |     N/A |\n",
    "| **[Module 2 Lesson 2: Python Data Structures][nb2]** | 2 Hours | N/A  |     N/A |\n",
    "| **[Module 2 Lesson 3: Python Functions][nb3]** | 2 Hours | N/A  |     N/A |\n",
    "| **[Module 2 Lesson 4: Python Flow Control][nb4]** | 2 Hours   | N/A  |   N/A |\n",
    "| **[Module 2 Quiz][wq]**               | 30 Minutes    | N/A    |    N/A  |\n",
    "| **[Module 2 Assignment][ma]**         | 1 hour    | N/A    |    N/A  |\n",
    "\n",
    "*Please note that unless otherwise noted, the due time is 6pm Central time!\n",
    "\n",
    "----------\n",
    "\n",
    "[nb1]: notebooks/m2l1.html\n",
    "[nb2]: notebooks/m2l2.html\n",
    "[nb3]: notebooks/m2l3.html\n",
    "[nb4]: notebooks/m2l4.html\n",
    "\n",
    "[ma]: assignments/assignment.html\n",
    "\n",
    "[wv]: https://mediaspace.illinois.edu/media/M2+Intro/1_xhoa8e1l\n",
    "[wq]: https://learn.illinois.edu/mod/quiz/view.php?id=2515311"
   ]
  },
  {
   "cell_type": "markdown",
   "metadata": {},
   "source": [
    "**&copy; 2017: Robert J. Brunner at the University of Illinois.**\n",
    "\n",
    "This notebook is released under the [Creative Commons license CC BY-NC-SA 4.0][ll]. Any reproduction, adaptation, distribution, dissemination or making available of this notebook for commercial use is not allowed unless authorized in writing by the copyright holder.\n",
    "\n",
    "[ll]: https://creativecommons.org/licenses/by-nc-sa/4.0/legalcode"
   ]
  }
 ],
 "metadata": {
  "kernelspec": {
   "display_name": "Python 3",
   "language": "python",
   "name": "python3"
  },
  "language_info": {
   "codemirror_mode": {
    "name": "ipython",
    "version": 3
   },
   "file_extension": ".py",
   "mimetype": "text/x-python",
   "name": "python",
   "nbconvert_exporter": "python",
   "pygments_lexer": "ipython3",
   "version": "3.6.1"
  }
 },
 "nbformat": 4,
 "nbformat_minor": 2
}
