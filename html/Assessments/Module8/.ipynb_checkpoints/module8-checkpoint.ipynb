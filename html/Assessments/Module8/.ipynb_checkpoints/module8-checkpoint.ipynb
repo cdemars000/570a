{
 "cells": [
  {
   "cell_type": "markdown",
   "metadata": {},
   "source": [
    "Format:\n",
    "Question: ...  \n",
    "Type: Multiple Choice (Single Correct Answer),  Multiple Choice (Multiple Correct Answers), Free Response (Text Answers, Code Expression)\n",
    "Answer: ...  \n",
    "Choices: ...  \n",
    "\n",
    "# Lesson 1\n",
    "\n",
    "# Lesson 2\n",
    "\n",
    "- Question: What is a violin plot?\n",
    "    - Type: Multiple Choice (Single Correct Answer)\n",
    "    - Choices: A box plot with a KDE; A plot of Mozart's life; A box plot, A KDE\n",
    "\n",
    "- Question: What is a rug plot?\n",
    "    - Type: Multiple Choice (Single Correct Answer)\n",
    "    - Choices: A plot of a rug; A plot of circles at each datapoint; A plot of short lines at each datapoint; A histogram\n",
    "\n",
    "- Question: What can be added to aid in visualization for a rug plot if too many values are the same?\n",
    "    - Type: Multiple Choice (Single Correct Answer)\n",
    "    - Choices: derek jeter; jitter; jatter; jutter\n",
    "\n",
    "- Question: What type of plot counts the number of datapoints in bins?\n",
    "    - Type: Multiple Choice (Single Correct Answer)\n",
    "    - Choices: Histogram; Binogram; Scatter plot; Countergram\n",
    "\n",
    "- Question: We can interpret normalized histogram as:\n",
    "    - Type: Multiple Choice (Single Correct Answer)\n",
    "    - Choices: a probability mass distribution; a scatter plot; a rug plot; a jitter plot\n",
    "\n",
    "- Question: KDE works by replacing each discrete point with:\n",
    "    - Type: Multiple Choice (Single Correct Answer)\n",
    "    - Choices: a scatter plot; a circle; an exact continuous function; an approximating continuous function\n",
    "\n",
    "- Question: What is another name for the function used in KDE?\n",
    "    - Type: Multiple Choice (Single Correct Answer)\n",
    "    - Choices: Kernel; Colonel; Gaussian; Seaborn\n",
    "\n",
    "- Question: What is the most common choice of kernel in KDE?\n",
    "    - Type: Multiple Choice (Single Correct Answer)\n",
    "    - Choices: Poisson; Gaussian; Histogram; Seaborn\n",
    "\n",
    "# Lesson 3\n",
    "- Question: What function or class do you use to perform KDE in Scikit Learn?\n",
    "  - Type: Multiple Choice (Single Response)\n",
    "  - Choices: sklearn.neighbors.KernelDensity, sklearn.neighbors.Kernel_Density, sklearn.neighbors.kernel_density, sklearn.neighbors.kd\n",
    "- Question: How do you create a Gaussiann KDE with sklearn imported?\n",
    "  - Type:Multiple Choice (Single Correct Answer)\n",
    "  - Choices: sklearn.neighbors.KernelDensity(kernel='gaussian'), sklearn.neighbors.Kernel_Density(kernel='gaussian'), sklearn.neighbors.kernel_density(kernel='gaussian'), sklearn.neighbors.kd(kernel='gaussian')\n",
    "- Question:I have created a sklearn.neighbors.KernelDensity() object named kde. How do I fit kde to a column of a pandas dataframe called X?\n",
    "  - Type:Multiple Choice (Single Correct Answer)\n",
    "  - Choices: kde.fit(X); kde.fit_pandas(X); kde.fit_pd(X); kde.fitPD()\n",
    "- Question: I have imported seaborn as sns. How do I create a mult-variate KDE?\n",
    "  - Type:Multiple choice (Single Correct Answer)\n",
    "  - Choices: sns.joinplot(); sns.mv_kde(); sns.kde(2); sns.plotkde()\n",
    "- Question: I have created a sklearn.neighbors.KernelDensity() object named kde and fit it to data. How I sample and generate 50 new instances of data from kde?\n",
    "  - Type: Multiple choice (Single Correct Answer)\n",
    "  - Choices: kde.sample(); kde.sample(50); kde.generate(50); kde.generate(); kde.make_new_data(50)\n",
    "- Question: Given the information presented in Module 8 Lesson 3 readings which libraries can be used to create multi dimensional arrays in Python?\n",
    "  - Type: Multiple Choice (Multiple Correct Response)\n",
    "  - Choices: sci-kit learn; seaborn; math; random; numpy\n",
    "- Question: Is it possible to generate new data if you have a kernel density estimate?\n",
    "  - Type: Multiple Choice (Single Correct Response)\n",
    "  - Choices: Yes; No; Yes only if it is done in seaborn; Yes only if it is done in sci-kit learn\n"
   ]
  },
  {
   "cell_type": "code",
   "execution_count": null,
   "metadata": {
    "collapsed": true
   },
   "outputs": [],
   "source": []
  }
 ],
 "metadata": {
  "kernelspec": {
   "display_name": "Python 3",
   "language": "python",
   "name": "python3"
  },
  "language_info": {
   "codemirror_mode": {
    "name": "ipython",
    "version": 3
   },
   "file_extension": ".py",
   "mimetype": "text/x-python",
   "name": "python",
   "nbconvert_exporter": "python",
   "pygments_lexer": "ipython3",
   "version": "3.6.3"
  }
 },
 "nbformat": 4,
 "nbformat_minor": 2
}
