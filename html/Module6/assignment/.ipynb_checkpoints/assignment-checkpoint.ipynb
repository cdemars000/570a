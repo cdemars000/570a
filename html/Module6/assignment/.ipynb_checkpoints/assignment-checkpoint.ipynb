{
 "cells": [
  {
   "cell_type": "markdown",
   "metadata": {
    "deletable": false,
    "editable": false,
    "nbgrader": {
     "checksum": "5fa87ee26d3e7f2ffcb8b1aa8a82ebce",
     "grade": false,
     "grade_id": "intro",
     "locked": true,
     "schema_version": 1,
     "solution": false
    }
   },
   "source": [
    "# Module 6 Assignment\n",
    "\n",
    "\n",
    "A few things you should keep in mind when working on assignments:\n",
    "\n",
    "1. Make sure you fill in any place that says `YOUR CODE HERE`. Do **not** write your answer in anywhere else other than where it says `YOUR CODE HERE`. Anything you write anywhere else will be removed or overwritten by the autograder.\n",
    "\n",
    "2. Before you submit your assignment, make sure everything runs as expected. Go to menubar, select _Kernel_, and restart the kernel and run all cells (_Restart & Run all_).\n",
    "\n",
    "3. Do not change the title (i.e. file name) of this notebook.\n",
    "\n",
    "4. Make sure that you save your work (in the menubar, select _File_ → _Save and CheckPoint_)\n"
   ]
  },
  {
   "cell_type": "code",
   "execution_count": null,
   "metadata": {
    "collapsed": true,
    "deletable": false,
    "editable": false,
    "nbgrader": {
     "checksum": "8c13e50935564f126fbe3b8181445ff2",
     "grade": false,
     "grade_id": "import",
     "locked": true,
     "schema_version": 1,
     "solution": false
    }
   },
   "outputs": [],
   "source": [
    "% matplotlib inline\n",
    "\n",
    "import numpy as np\n",
    "import scipy.stats as stats\n",
    "\n",
    "import pandas as pd\n",
    "import seaborn as sns\n",
    "\n",
    "from nose.tools import assert_almost_equal, assert_equal, assert_is_instance, assert_is_not\n",
    "\n",
    "import matplotlib as mpl\n",
    "import matplotlib.pyplot as plt"
   ]
  },
  {
   "cell_type": "markdown",
   "metadata": {
    "deletable": false,
    "editable": false,
    "nbgrader": {
     "checksum": "57841baeca3a50d78ccdfb5930ca0223",
     "grade": false,
     "grade_id": "p1_text",
     "locked": true,
     "schema_version": 1,
     "solution": false
    }
   },
   "source": [
    "# Problem 1: Calculating a Simple Probability\n",
    "\n",
    "Write a function called \"probability_calc\" that takes in the number of observed heads from a coin flip experiment and the total number of coin flips, and returns the probability that the coin lands on heads."
   ]
  },
  {
   "cell_type": "code",
   "execution_count": null,
   "metadata": {
    "collapsed": true,
    "deletable": false,
    "nbgrader": {
     "checksum": "8c8b3622006c895cee8c11ab92b6ac6d",
     "grade": false,
     "grade_id": "p1_answer",
     "locked": false,
     "schema_version": 1,
     "solution": true
    }
   },
   "outputs": [],
   "source": [
    "def probability_calc(num_heads,n):\n",
    "    \"\"\"\n",
    "    Inputs\n",
    "    ------\n",
    "    \n",
    "    num_heads: an integer, the number of heads observed\n",
    "    \n",
    "    n: an integer, the total number of coin flips\n",
    "    \n",
    "    Output\n",
    "    ------\n",
    "    \n",
    "    prob: the probability of the coin landing on heads\n",
    "    \"\"\"    \n",
    "    \n",
    "    ### YOUR CODE HERE"
   ]
  },
  {
   "cell_type": "code",
   "execution_count": null,
   "metadata": {
    "collapsed": true,
    "deletable": false,
    "editable": false,
    "nbgrader": {
     "checksum": "ccda4f4fc62decf1280766096686f423",
     "grade": true,
     "grade_id": "p1_test",
     "locked": true,
     "points": 1,
     "schema_version": 1,
     "solution": false
    }
   },
   "outputs": [],
   "source": [
    "my_prob = probability_calc(37, 233)\n",
    "assert_almost_equal(my_prob, 0.15879828326180256)"
   ]
  },
  {
   "cell_type": "markdown",
   "metadata": {
    "deletable": false,
    "editable": false,
    "nbgrader": {
     "checksum": "7888dd8ed6f71128efeccb1886f1c820",
     "grade": false,
     "grade_id": "p2_text",
     "locked": true,
     "schema_version": 1,
     "solution": false
    }
   },
   "source": [
    "# Problem 2: Using Bayes Theorem\n",
    "\n",
    "Write a function called \"bayes_calc\" which takes in the probability of event A, and the probability of event B and return $P(A|B)$. Assume that A and B are independent events."
   ]
  },
  {
   "cell_type": "code",
   "execution_count": null,
   "metadata": {
    "collapsed": true,
    "deletable": false,
    "nbgrader": {
     "checksum": "2fe8c44659105604eaff610397f7b034",
     "grade": false,
     "grade_id": "p2_answer",
     "locked": false,
     "schema_version": 1,
     "solution": true
    }
   },
   "outputs": [],
   "source": [
    "def bayes_calc(prob_A, prob_B):\n",
    "    \"\"\"\n",
    "    Inputs\n",
    "    -------\n",
    "    \n",
    "    prob_A: a float, the probability of event A\n",
    "    \n",
    "    prob_B: a float, the probability of event B\n",
    "    \n",
    "    Output\n",
    "    ------\n",
    "    \n",
    "    prob: the probability of event A given event B\n",
    "    \n",
    "    \"\"\"\n",
    "    \n",
    "    ### YOUR CODE HERE"
   ]
  },
  {
   "cell_type": "code",
   "execution_count": null,
   "metadata": {
    "collapsed": true,
    "deletable": false,
    "editable": false,
    "nbgrader": {
     "checksum": "7e9f51d95c6eec917fed7ecca7593de4",
     "grade": true,
     "grade_id": "p2_test",
     "locked": true,
     "points": 1,
     "schema_version": 1,
     "solution": false
    }
   },
   "outputs": [],
   "source": [
    "my_prob = bayes_calc(15 / 66, 13 / 68)\n",
    "assert_almost_equal(my_prob, 0.227272, places=5)"
   ]
  },
  {
   "cell_type": "markdown",
   "metadata": {
    "deletable": false,
    "editable": false,
    "nbgrader": {
     "checksum": "c971dde194812aeda8e9943be845b108",
     "grade": false,
     "grade_id": "p3_text",
     "locked": true,
     "schema_version": 1,
     "solution": false
    }
   },
   "source": [
    "# Problem 3: Calculating a Composite Probability\n",
    "\n",
    "Write a function called \"composite_prob\" which takes in a numpy array of data, called \"data\", a value called \"cutoff\" and calculates the probability that a data point in \"data\" is greater than \"cutoff\":"
   ]
  },
  {
   "cell_type": "code",
   "execution_count": null,
   "metadata": {
    "collapsed": true,
    "deletable": false,
    "nbgrader": {
     "checksum": "bc4c06f29375657b49624ca05b6eb01a",
     "grade": false,
     "grade_id": "p3_answer",
     "locked": false,
     "schema_version": 1,
     "solution": true
    }
   },
   "outputs": [],
   "source": [
    "def composite_prob(data,cutoff):\n",
    "    \"\"\"\n",
    "    Inputs\n",
    "    -------\n",
    "    \n",
    "    data: a numpy array of data\n",
    "    \n",
    "    cutoff: a float, the cutoff value\n",
    "    \n",
    "    Output\n",
    "    ------\n",
    "    \n",
    "    prob: the probability of a data point in data being larger than cutoff\n",
    "    \n",
    "    \"\"\"\n",
    "\n",
    "    ### YOUR CODE HERE"
   ]
  },
  {
   "cell_type": "code",
   "execution_count": null,
   "metadata": {
    "collapsed": true,
    "deletable": false,
    "editable": false,
    "nbgrader": {
     "checksum": "72ec506ee21c8a3829c73e2357374ef5",
     "grade": true,
     "grade_id": "p3_test",
     "locked": true,
     "points": 1,
     "schema_version": 1,
     "solution": false
    }
   },
   "outputs": [],
   "source": [
    "my_prob = composite_prob(np.linspace(0,1, 365), .7)\n",
    "assert_almost_equal(my_prob, 0.301369, places=5)"
   ]
  },
  {
   "cell_type": "code",
   "execution_count": null,
   "metadata": {
    "collapsed": true,
    "deletable": false,
    "editable": false,
    "nbgrader": {
     "checksum": "b7bfbe8c6b73a5efcca5f46c188ab4ec",
     "grade": false,
     "grade_id": "p3_run",
     "locked": true,
     "schema_version": 1,
     "solution": false
    }
   },
   "outputs": [],
   "source": [
    "# Read in dow jones index dataset\n",
    "df = pd.read_csv('./dow_jones_index.data')\n",
    "df.head()"
   ]
  },
  {
   "cell_type": "markdown",
   "metadata": {
    "deletable": false,
    "editable": false,
    "nbgrader": {
     "checksum": "8bb2c633ac82fbe34f15d415127a271c",
     "grade": false,
     "grade_id": "p4_text",
     "locked": true,
     "schema_version": 1,
     "solution": false
    }
   },
   "source": [
    "# Problem 4: Possion distribution of columns from dow jones dataset\n",
    "In this problem you'll finish writing the plot_poisson function. A dataframe of the dow jones dataset and the column name are passed in. Your task is to:\n",
    "- plot the PMF of the Poisson distribution for column col using the bar function from Axes.\n",
    "    - Use the mean of the column to create the Poisson distirbution\n",
    "    - The number of points is given by n_pts\n",
    "- Your plot should contain a label for the x and y axis and also have a title.\n",
    "- Return the axes object"
   ]
  },
  {
   "cell_type": "code",
   "execution_count": null,
   "metadata": {
    "collapsed": true,
    "deletable": false,
    "nbgrader": {
     "checksum": "1e451336687860b05a0159bebaa999ce",
     "grade": false,
     "grade_id": "p4_answer",
     "locked": false,
     "schema_version": 1,
     "solution": true
    }
   },
   "outputs": [],
   "source": [
    "def plot_poisson(df, col='open', n_pts=100):\n",
    "    '''\n",
    "    df: dataframe containg data from dow jones index\n",
    "    col: column name in df variable\n",
    "    n_pts: number of points\n",
    "    returns axes object\n",
    "    '''\n",
    "    # Define plot layout\n",
    "    fig, ax = plt.subplots(figsize=(10, 5))\n",
    "    \n",
    "    ### YOUR CODE HERE\n",
    "    return ax"
   ]
  },
  {
   "cell_type": "code",
   "execution_count": null,
   "metadata": {
    "collapsed": true,
    "deletable": false,
    "editable": false,
    "nbgrader": {
     "checksum": "a8c14d94c6f4ed6c06240ad1a88bdceb",
     "grade": true,
     "grade_id": "p4_run",
     "locked": true,
     "points": 1,
     "schema_version": 1,
     "solution": false
    }
   },
   "outputs": [],
   "source": [
    "ch = plot_poisson(df,'open')"
   ]
  },
  {
   "cell_type": "code",
   "execution_count": null,
   "metadata": {
    "collapsed": true,
    "deletable": false,
    "editable": false,
    "nbgrader": {
     "checksum": "ee8aa9ecbf413e357f7cee02e4d979cb",
     "grade": true,
     "grade_id": "p4_test",
     "locked": true,
     "points": 1,
     "schema_version": 1,
     "solution": false
    }
   },
   "outputs": [],
   "source": [
    "from helper import pp\n",
    "print(\"Your Plot should look similar to this:\")\n",
    "sol = pp(df)\n",
    "\n",
    "assert_is_instance(ch, mpl.axes.Axes, msg='Return a Axes object.')  \n",
    "assert_is_instance(ch, mpl.axes.Axes, msg='Return a Axes object.')  \n",
    "assert_is_not(len(ch.title.get_text()), 0, msg=\"Your plot doesn't have a title.\")\n",
    "assert_is_not(ch.xaxis.get_label_text(), '', msg=\"Change the x-axis label to something more descriptive.\")\n",
    "assert_is_not(ch.yaxis.get_label_text(), '', msg=\"Change the y-axis label to something more descriptive.\")\n",
    "assert_equal(len(ch.patches), len(sol.patches), msg=\"Your bar graph doesn't have the correct number patches. Make sure you use the n_pts parameter. \")\n",
    "for student_patch, solution_patch in zip(ch.patches, sol.patches):\n",
    "    assert_equal(student_patch.get_width(), solution_patch.get_width(), msg='')\n",
    "    assert_equal(student_patch.get_height(), solution_patch.get_height(), msg='')\n"
   ]
  },
  {
   "cell_type": "markdown",
   "metadata": {
    "deletable": false,
    "editable": false,
    "nbgrader": {
     "checksum": "e678cf8d6abe81f9d46fb2cf317b6ae5",
     "grade": false,
     "grade_id": "p5_text",
     "locked": true,
     "schema_version": 1,
     "solution": false
    }
   },
   "source": [
    "# Problem 5: Extending Problem 4 to work CMF and SF\n",
    "In this problem you'll finish writing the plot function. A dataframe of the dow jones dataset, string containing *pmf*, *cdf*, or *sf* and the column name are passed in. Your task is to:\n",
    "- plot the approriate function of the Poisson distribution (PMF, CDF, or SF) which is given by dist. (Use the bar function from Axes.)\n",
    "- Use the mean of the column to create the Poisson distirbution\n",
    "- Your plot should contain a label for the x and y axis and also have a title.\n",
    "- Return the Axes object"
   ]
  },
  {
   "cell_type": "code",
   "execution_count": null,
   "metadata": {
    "collapsed": true,
    "deletable": false,
    "nbgrader": {
     "checksum": "c6b32e9903d99d63b055b81f858ece38",
     "grade": false,
     "grade_id": "p5_answer",
     "locked": false,
     "schema_version": 1,
     "solution": true
    }
   },
   "outputs": [],
   "source": [
    "def plot(df, dist, col='open', n_pts=100):\n",
    "    '''\n",
    "    df: dataframe containg data from dow jones index\n",
    "    dist: string speicfying function to use. This contains: 'pmf', 'cdf', or 'sf'\n",
    "    col: column name in df variable\n",
    "    returns axes object\n",
    "    '''\n",
    "    # Define plot layout\n",
    "    fig, ax = plt.subplots(figsize=(10, 5))\n",
    "    \n",
    "    ### YOUR CODE HERE\n",
    "    return ax"
   ]
  },
  {
   "cell_type": "code",
   "execution_count": null,
   "metadata": {
    "collapsed": true,
    "deletable": false,
    "editable": false,
    "nbgrader": {
     "checksum": "ee5c322d463cbe1a0632922928ac7f30",
     "grade": false,
     "grade_id": "p5_run",
     "locked": true,
     "schema_version": 1,
     "solution": false
    }
   },
   "outputs": [],
   "source": [
    "ax_pmf = plot(df, 'pmf', col='open')"
   ]
  },
  {
   "cell_type": "code",
   "execution_count": null,
   "metadata": {
    "collapsed": true,
    "deletable": false,
    "editable": false,
    "nbgrader": {
     "checksum": "62331882b2566e513cede8b413dbd3af",
     "grade": true,
     "grade_id": "p5_test_1",
     "locked": true,
     "points": 1,
     "schema_version": 1,
     "solution": false
    }
   },
   "outputs": [],
   "source": [
    "from helper import p\n",
    "sol1 = p(df,'pmf', col='open')\n",
    "\n",
    "assert_is_instance(ax_pmf, mpl.axes.Axes, msg='Return a Axes object.')  \n",
    "assert_is_instance(ax_pmf, mpl.axes.Axes, msg='Return a Axes object.')  \n",
    "assert_is_not(len(ax_pmf.title.get_text()), 0, msg=\"Your plot doesn't have a title.\")\n",
    "assert_is_not(ax_pmf.xaxis.get_label_text(), '', msg=\"Change the x-axis label to something more descriptive.\")\n",
    "assert_is_not(ax_pmf.yaxis.get_label_text(), '', msg=\"Change the y-axis label to something more descriptive.\")\n",
    "assert_equal(len(ax_pmf.patches), len(sol1.patches), msg=\"Your bar graph doesn't have the correct number patches. Make sure you use the n_pts parameter. \")\n",
    "for student_patch, solution_patch in zip(ax_pmf.patches, sol1.patches):\n",
    "    assert_equal(student_patch.get_width(), solution_patch.get_width(), msg='')\n",
    "    assert_equal(student_patch.get_height(), solution_patch.get_height(), msg='')"
   ]
  },
  {
   "cell_type": "code",
   "execution_count": null,
   "metadata": {
    "collapsed": true
   },
   "outputs": [],
   "source": [
    "ax_cmf = plot(df, 'cdf', 'close')"
   ]
  },
  {
   "cell_type": "code",
   "execution_count": null,
   "metadata": {
    "collapsed": true,
    "deletable": false,
    "editable": false,
    "nbgrader": {
     "checksum": "ccfd39f3643e77a229e0c015ff18ffad",
     "grade": true,
     "grade_id": "p5_test_2",
     "locked": true,
     "points": 1,
     "schema_version": 1,
     "solution": false
    }
   },
   "outputs": [],
   "source": [
    "print(\"Your plot using CMF should look like this:\")\n",
    "sol2 = p(df,'cdf', col='close')\n",
    "\n",
    "assert_is_instance(ax_cmf, mpl.axes.Axes, msg='Return a Axes object.')  \n",
    "assert_is_instance(ax_cmf, mpl.axes.Axes, msg='Return a Axes object.')  \n",
    "assert_is_not(len(ax_cmf.title.get_text()), 0, msg=\"Your plot doesn't have a title.\")\n",
    "assert_is_not(ax_cmf.xaxis.get_label_text(), '', msg=\"Change the x-axis label to something more descriptive.\")\n",
    "assert_is_not(ax_cmf.yaxis.get_label_text(), '', msg=\"Change the y-axis label to something more descriptive.\")\n",
    "\n",
    "assert_equal(len(ax_cmf.patches), len(sol2.patches), msg=\"Your bar graph doesn't have the correct number patches. Make sure you use the n_pts parameter. \")\n",
    "for student_patch, solution_patch in zip(ax_cmf.patches, sol2.patches):\n",
    "    assert_equal(student_patch.get_width(), solution_patch.get_width(), msg='')\n",
    "    assert_equal(student_patch.get_height(), solution_patch.get_height(), msg='')"
   ]
  },
  {
   "cell_type": "code",
   "execution_count": null,
   "metadata": {
    "collapsed": true
   },
   "outputs": [],
   "source": [
    "ax_sf = plot(df, 'sf', 'close')"
   ]
  },
  {
   "cell_type": "code",
   "execution_count": null,
   "metadata": {
    "collapsed": true,
    "deletable": false,
    "editable": false,
    "nbgrader": {
     "checksum": "c633da8af3c10871a32696ff5d4a7797",
     "grade": true,
     "grade_id": "p5_test_3",
     "locked": true,
     "points": 1,
     "schema_version": 1,
     "solution": false
    }
   },
   "outputs": [],
   "source": [
    "print(\"Your Plot should look similar to this:\")\n",
    "sol3 = p(df,'sf', col='close')\n",
    "\n",
    "assert_is_instance(ax_sf, mpl.axes.Axes, msg='Return a Axes object.')  \n",
    "assert_is_instance(ax_sf, mpl.axes.Axes, msg='Return a Axes object.')  \n",
    "assert_is_not(len(ax_sf.title.get_text()), 0, msg=\"Your plot doesn't have a title.\")\n",
    "assert_is_not(ax_sf.xaxis.get_label_text(), '', msg=\"Change the x-axis label to something more descriptive.\")\n",
    "assert_is_not(ax_sf.yaxis.get_label_text(), '', msg=\"Change the y-axis label to something more descriptive.\")\n",
    "\n",
    "assert_equal(len(ax_sf.patches), len(sol3.patches), msg=\"Your bar graph doesn't have the correct number patches. Make sure you use the n_pts parameter. \")\n",
    "for student_patch, solution_patch in zip(ax_sf.patches, sol3.patches):\n",
    "    assert_equal(student_patch.get_width(), solution_patch.get_width(), msg='')\n",
    "    assert_equal(student_patch.get_height(), solution_patch.get_height(), msg='')"
   ]
  },
  {
   "cell_type": "markdown",
   "metadata": {},
   "source": [
    "-----"
   ]
  },
  {
   "cell_type": "markdown",
   "metadata": {
    "deletable": false,
    "editable": false
   },
   "source": [
    "**&copy; 2017: Robert J. Brunner at the University of Illinois.**\n",
    "\n",
    "This notebook is released under the [Creative Commons license CC BY-NC-SA 4.0][ll]. Any reproduction, adaptation, distribution, dissemination or making available of this notebook for commercial use is not allowed unless authorized in writing by the copyright holder.\n",
    "\n",
    "[ll]: https://creativecommons.org/licenses/by-nc-sa/4.0/legalcode"
   ]
  }
 ],
 "metadata": {
  "anaconda-cloud": {},
  "coursera": {
   "course_slug": "data-analytics-accountancy-1",
   "graded_item_id": "4oirH",
   "launcher_item_id": "m6_assignment"
  },
  "kernelspec": {
   "display_name": "Python 3",
   "language": "python",
   "name": "python3"
  },
  "language_info": {
   "codemirror_mode": {
    "name": "ipython",
    "version": 3
   },
   "file_extension": ".py",
   "mimetype": "text/x-python",
   "name": "python",
   "nbconvert_exporter": "python",
   "pygments_lexer": "ipython3",
   "version": "3.6.1"
  }
 },
 "nbformat": 4,
 "nbformat_minor": 2
}
