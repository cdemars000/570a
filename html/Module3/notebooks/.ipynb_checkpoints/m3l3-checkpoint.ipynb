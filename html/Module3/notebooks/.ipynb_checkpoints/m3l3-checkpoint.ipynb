{
 "cells": [
  {
   "cell_type": "markdown",
   "metadata": {},
   "source": [
    "# Module 3: Lesson 3\n",
    "\n",
    "-----\n",
    "\n",
    "## Python File I/O\n",
    "\n",
    "The third lesson introduces reading and writing data to a file by using Python. First, the Python context and the different modes by which a file can be opened (for reading, writing, or appending) are introduced. Next, reading and writing simple text data is demonstrated by using vanilla Python. Afterwards, delimited text data files are introduced, such as comma separated value (or CSV) files, which are read by using vanilla Python. Following this, Python module concept is presented and the `csv` module is used to simplify reading and writing comma separated value data. Finally, the Python concept of _pickling_ is demonstrated, by which complex Python data structures can be persisted.\n",
    "\n",
    "### Objectives\n",
    "\n",
    "By the end of this lesson, you will be be able to\n",
    "\n",
    "- open and close a file from a Python program,\n",
    "- read and write data from within a Python program, and\n",
    "- work with the file system by using Python.\n",
    "\n",
    "\n",
    "### Time Estimate\n",
    "\n",
    "Approximately 2 hours.\n",
    "\n",
    "### Activities\n",
    "\n",
    "Video: Watch the [Python File I/O ][l2vid] video, which will demonstrate key concepts in reading and writing data from Python as well as the how to use modules to simplify program development.\n",
    "\n",
    "Notebook: Read and complete the practice exercises in the [Python File I/O][pyfileio] notebook.\n",
    "\n",
    "------\n",
    "\n",
    "[l2vid]: https://mediaspace.illinois.edu/media/iMSA+Accy+570+m3l3v1/1_517mez2m\n",
    "[pyfileio]: pyfileio.html"
   ]
  },
  {
   "cell_type": "markdown",
   "metadata": {},
   "source": [
    "**&copy; 2017: Robert J. Brunner at the University of Illinois.**\n",
    "\n",
    "This notebook is released under the [Creative Commons license CC BY-NC-SA 4.0][ll]. Any reproduction, adaptation, distribution, dissemination or making available of this notebook for commercial use is not allowed unless authorized in writing by the copyright holder.\n",
    "\n",
    "[ll]: https://creativecommons.org/licenses/by-nc-sa/4.0/legalcode"
   ]
  }
 ],
 "metadata": {
  "kernelspec": {
   "display_name": "Python 3",
   "language": "python",
   "name": "python3"
  },
  "language_info": {
   "codemirror_mode": {
    "name": "ipython",
    "version": 3
   },
   "file_extension": ".py",
   "mimetype": "text/x-python",
   "name": "python",
   "nbconvert_exporter": "python",
   "pygments_lexer": "ipython3",
   "version": "3.6.1"
  }
 },
 "nbformat": 4,
 "nbformat_minor": 2
}
