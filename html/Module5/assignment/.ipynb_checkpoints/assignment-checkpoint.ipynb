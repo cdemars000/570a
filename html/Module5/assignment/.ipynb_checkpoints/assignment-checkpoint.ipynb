{
 "cells": [
  {
   "cell_type": "markdown",
   "metadata": {
    "deletable": false,
    "editable": false,
    "nbgrader": {
     "checksum": "03a9bae5c935f104fc8664d0dd99a7b8",
     "grade": false,
     "grade_id": "title",
     "locked": true,
     "schema_version": 1,
     "solution": false
    }
   },
   "source": [
    "# Module 5 Assignment"
   ]
  },
  {
   "cell_type": "code",
   "execution_count": null,
   "metadata": {
    "collapsed": true,
    "deletable": false,
    "editable": false,
    "nbgrader": {
     "checksum": "b73a367a5bfc7c6ec82d3355ef2298ff",
     "grade": false,
     "grade_id": "import",
     "locked": true,
     "schema_version": 1,
     "solution": false
    }
   },
   "outputs": [],
   "source": [
    "import pandas as pd\n",
    "import numpy as np\n",
    "\n",
    "import seaborn as sns\n",
    "import matplotlib as mpl\n",
    "import matplotlib.pyplot as plt\n",
    "\n",
    "from nose.tools import assert_equal, assert_almost_equal\n",
    "from nose.tools import assert_equal, assert_is_instance, assert_is_not\n",
    "% matplotlib inline"
   ]
  },
  {
   "cell_type": "markdown",
   "metadata": {
    "deletable": false,
    "editable": false,
    "nbgrader": {
     "checksum": "f631f91bb56ad8da46717d22bfa1e7ab",
     "grade": false,
     "grade_id": "intro",
     "locked": true,
     "schema_version": 1,
     "solution": false
    }
   },
   "source": [
    "A few things you should keep in mind when working on assignments:\n",
    "\n",
    "1. Make sure you fill in any place that says `YOUR CODE HERE`. Do **not** write your answer in anywhere else other than where it says `YOUR CODE HERE`. Anything you write anywhere else will be removed or overwritten by the autograder.\n",
    "\n",
    "2. Before you submit your assignment, make sure everything runs as expected. Go to menubar, select _Kernel_, and restart the kernel and run all cells (_Restart & Run all_).\n",
    "\n",
    "3. Do not change the title (i.e. file name) of this notebook.\n",
    "\n",
    "4. Make sure that you save your work (in the menubar, select _File_ → _Save and CheckPoint_)"
   ]
  },
  {
   "cell_type": "markdown",
   "metadata": {
    "deletable": false,
    "editable": false,
    "nbgrader": {
     "checksum": "0d47637b9dc2e9c20e537534d3af214e",
     "grade": false,
     "grade_id": "p1_text",
     "locked": true,
     "schema_version": 1,
     "solution": false
    }
   },
   "source": [
    "# Problem 1: Plotting a Function\n",
    "\n",
    "Plot the output of $x^2 + 3 - log(x)$ which is saved in the below variable called $y$.\n",
    "\n",
    "In addition:\n",
    "\n",
    "1. Title the plot \"Plot of $y = x^2 + 3 - log(x)$\"\n",
    "\n",
    "2. Label the x-axis as \"x\"\n",
    "\n",
    "3. Label the y-axis as \"y\""
   ]
  },
  {
   "cell_type": "code",
   "execution_count": null,
   "metadata": {
    "collapsed": true,
    "deletable": false,
    "editable": false,
    "nbgrader": {
     "checksum": "ca35f22c9e11ba2bb41bf2a1742b1581",
     "grade": false,
     "grade_id": "p1_run",
     "locked": true,
     "schema_version": 1,
     "solution": false
    }
   },
   "outputs": [],
   "source": [
    "# generate x values to calculate the function at\n",
    "x = np.linspace(0, 2, num=100)\n",
    "\n",
    "# calculate y\n",
    "y = x**2 + 3 - np.log(x)"
   ]
  },
  {
   "cell_type": "code",
   "execution_count": null,
   "metadata": {
    "collapsed": true,
    "deletable": false,
    "nbgrader": {
     "checksum": "37cce466afcd43c08adedec675861063",
     "grade": false,
     "grade_id": "p1_answer",
     "locked": false,
     "schema_version": 1,
     "solution": true
    }
   },
   "outputs": [],
   "source": [
    "fig, ax = plt.subplots()\n",
    "\n",
    "### YOUR CODE HERE"
   ]
  },
  {
   "cell_type": "code",
   "execution_count": null,
   "metadata": {
    "collapsed": true,
    "deletable": false,
    "editable": false,
    "nbgrader": {
     "checksum": "87e58f052ce92eb18caf7deea3aae930",
     "grade": true,
     "grade_id": "p1_test",
     "locked": true,
     "points": 1,
     "schema_version": 1,
     "solution": false
    }
   },
   "outputs": [],
   "source": [
    "assert_equal(ax.get_xlabel(), 'x')\n",
    "assert_equal(ax.get_ylabel(), 'y')\n",
    "assert_equal(ax.get_title(), \"Plot of $y = x^2 + 3 - log(x)$\")"
   ]
  },
  {
   "cell_type": "markdown",
   "metadata": {
    "deletable": false,
    "editable": false,
    "nbgrader": {
     "checksum": "daac32576ddb6cc7c548e338bd045ef7",
     "grade": false,
     "grade_id": "p2_text",
     "locked": true,
     "schema_version": 1,
     "solution": false
    }
   },
   "source": [
    "# Problem 2: Plotting Multiple Functions\n",
    "\n",
    "Plot the output of $x^2 + 3 - log(x)$ which is saved in the variable $y$ and plot the out of $x^2 + 3 + log(x)$ which is saved in the below variable called $y2$.\n",
    "\n",
    "In addition:\n",
    "\n",
    "1. Title the plot \"Plot of $y = x^2 + 3 - log(x)$ and $y = x^2 + 3 - log(x)$\"\n",
    "\n",
    "2. Label the x-axis as \"x\"\n",
    "\n",
    "3. Label the y-axis as \"y\""
   ]
  },
  {
   "cell_type": "code",
   "execution_count": null,
   "metadata": {
    "collapsed": true,
    "deletable": false,
    "editable": false,
    "nbgrader": {
     "checksum": "2a186a5accbf53465114b20949ce74d0",
     "grade": false,
     "grade_id": "p2_run",
     "locked": true,
     "schema_version": 1,
     "solution": false
    }
   },
   "outputs": [],
   "source": [
    "# generate x values to calculate the function at\n",
    "x = np.linspace(0, 2, num=100)\n",
    "\n",
    "# calculate y\n",
    "y2 = x**2 + 3 + np.log(x)"
   ]
  },
  {
   "cell_type": "code",
   "execution_count": null,
   "metadata": {
    "collapsed": true,
    "deletable": false,
    "nbgrader": {
     "checksum": "c3a75ced85d4a29cbbe778a377e6dc0b",
     "grade": false,
     "grade_id": "p2_answer",
     "locked": false,
     "schema_version": 1,
     "solution": true
    }
   },
   "outputs": [],
   "source": [
    "fig, ax = plt.subplots()\n",
    "\n",
    "### YOUR CODE HERE"
   ]
  },
  {
   "cell_type": "code",
   "execution_count": null,
   "metadata": {
    "collapsed": true,
    "deletable": false,
    "editable": false,
    "nbgrader": {
     "checksum": "b5334e1e29504921cdfa958384ae8ee7",
     "grade": true,
     "grade_id": "p2_test",
     "locked": true,
     "points": 1,
     "schema_version": 1,
     "solution": false
    }
   },
   "outputs": [],
   "source": [
    "assert_equal(len(ax.lines), 2)\n",
    "if len(ax.lines[0].get_data()) != 2:\n",
    "    assert_equal(ax.lines[0].get_data()[1],99)\n",
    "else:\n",
    "    assert_equal(min(ax.lines[0].get_data()[1]),3.8465735928827005)"
   ]
  },
  {
   "cell_type": "markdown",
   "metadata": {
    "deletable": false,
    "editable": false,
    "nbgrader": {
     "checksum": "b12406c92f990782518eff7c63f3eaa0",
     "grade": false,
     "grade_id": "p3_text_1",
     "locked": true,
     "schema_version": 1,
     "solution": false
    }
   },
   "source": [
    "# Problem 3: Adding Legends\n",
    "\n",
    "In the above plot it's not clear which line corresponds to which function. To fix this issue we can use a legend. Make a new plot showing both $y = x^2 + 3 - log(x)$ and $ y = x^2 + 3 + log(x)$. \n",
    "\n",
    "Furthermore:\n",
    "\n",
    "1. Title the plot \"Plot of $y = x^2 + 3 - log(x)$ and $y = x^2 + 3 + log(x)$\"\n",
    "\n",
    "2. Label the x-axis as \"x\"\n",
    "\n",
    "3. Label the y-axis as \"y\"\n",
    "\n",
    "4. Change the color of the plot for y2 to red\n",
    "\n",
    "5. Add a legend so that the line for y2 is labeled \"adding log(x)\" and the line for y is labeled \"subracting log(x)\". IMPORTANT: Make sure you add the legend text in the same command as making the plot. See the corresponding notebook if you're confused. This is the generally preferred practice for labeling the legend.\n"
   ]
  },
  {
   "cell_type": "code",
   "execution_count": null,
   "metadata": {
    "collapsed": true,
    "deletable": false,
    "nbgrader": {
     "checksum": "6af35ab85ba4bc00cda9baba481e0f2b",
     "grade": false,
     "grade_id": "p3_answer",
     "locked": false,
     "schema_version": 1,
     "solution": true
    }
   },
   "outputs": [],
   "source": [
    "fig, ax = plt.subplots()\n",
    "\n",
    "### YOUR CODE HERE"
   ]
  },
  {
   "cell_type": "code",
   "execution_count": null,
   "metadata": {
    "collapsed": true,
    "deletable": false,
    "editable": false,
    "nbgrader": {
     "checksum": "abbf2dbc997e10f2293f46b635a7c8db",
     "grade": true,
     "grade_id": "p3_test",
     "locked": true,
     "points": 1,
     "schema_version": 1,
     "solution": false
    }
   },
   "outputs": [],
   "source": [
    "assert_equal(ax.get_title(), \"Plot of $y = x^2 + 3 - log(x)$ and $y = x^2 + 3 + log(x)$\")\n",
    "\n",
    "if ax.lines[1].get_color() == 'red':\n",
    "    assert_equal(ax.lines[1].get_color(), 'red')\n",
    "else:\n",
    "    assert_equal(ax.lines[0].get_color(), 'red')\n",
    "\n",
    "if ax.legend().get_texts()[1].get_text() == 'adding log(x)':\n",
    "    assert_equal(ax.legend().get_texts()[1].get_text(), 'adding log(x)')\n",
    "else:\n",
    "    assert_equal(ax.legend().get_texts()[0].get_text(), 'adding log(x)')"
   ]
  },
  {
   "cell_type": "markdown",
   "metadata": {
    "deletable": false,
    "editable": false,
    "nbgrader": {
     "checksum": "792e4fdad238b06d334436854e06b9cf",
     "grade": false,
     "grade_id": "p3_text_2",
     "locked": true,
     "schema_version": 1,
     "solution": false
    }
   },
   "source": [
    "For the next few problems we will use the dow jones index data, which is loaded in the below cell."
   ]
  },
  {
   "cell_type": "code",
   "execution_count": null,
   "metadata": {
    "collapsed": true,
    "deletable": false,
    "editable": false,
    "nbgrader": {
     "checksum": "b7a0c51d56e03225c868865db6e80f03",
     "grade": false,
     "grade_id": "p3_run",
     "locked": true,
     "schema_version": 1,
     "solution": false
    }
   },
   "outputs": [],
   "source": [
    "df = pd.read_csv('dow_jones_index.data')\n",
    "df.head()"
   ]
  },
  {
   "cell_type": "markdown",
   "metadata": {
    "deletable": false,
    "editable": false,
    "nbgrader": {
     "checksum": "36006e0358812fadaf6827aa7e56b2f9",
     "grade": false,
     "grade_id": "p4_text",
     "locked": true,
     "schema_version": 1,
     "solution": false
    }
   },
   "source": [
    "# Problem 4:  Plotting the Distribution of Days Until Next Dividend for Stocks in the Dow Jones Index Using Rugplot\n",
    "\n",
    "For this problem we have loaded in weekly stock data from dow jones index, it is stored in a variable called *df* and the first 5 rows of data are shown in a table above.\n",
    "\n",
    "Your task is to finish the plot function below. This function should do the following:\n",
    "- Create a 1-d rugplot of the column called \"days_to_next_dividend\"\n",
    "- Remove the numbers on the y-axis\n",
    "- Set a title for your plot\n",
    "- The function should return an axes object (we have created this variable for you already)"
   ]
  },
  {
   "cell_type": "code",
   "execution_count": null,
   "metadata": {
    "collapsed": true,
    "deletable": false,
    "nbgrader": {
     "checksum": "00aae71ce32d4980722e22d466dda6b3",
     "grade": false,
     "grade_id": "p4_answer",
     "locked": false,
     "schema_version": 1,
     "solution": true
    }
   },
   "outputs": [],
   "source": [
    "def rug_plot(df):\n",
    "    '''\n",
    "    df - dataframe containg dow jones weekly data\n",
    "    function returns axes object\n",
    "    '''\n",
    "    fig, ax = plt.subplots(figsize=(10, 1.5))\n",
    "    \n",
    "    ### YOUR CODE HERE\n",
    "    \n",
    "    return ax"
   ]
  },
  {
   "cell_type": "code",
   "execution_count": null,
   "metadata": {
    "collapsed": true,
    "deletable": false,
    "editable": false,
    "nbgrader": {
     "checksum": "d45d0259aee9632296d24778be9acddd",
     "grade": false,
     "grade_id": "p4_run",
     "locked": true,
     "schema_version": 1,
     "solution": false
    }
   },
   "outputs": [],
   "source": [
    "rp = rug_plot(df)\n",
    "plt.show()\n",
    "plt.close()"
   ]
  },
  {
   "cell_type": "code",
   "execution_count": null,
   "metadata": {
    "collapsed": true,
    "deletable": false,
    "editable": false,
    "nbgrader": {
     "checksum": "f262acadfe9223fd07f6729f22a349bc",
     "grade": true,
     "grade_id": "p4_test",
     "locked": true,
     "points": 1,
     "schema_version": 1,
     "solution": false
    }
   },
   "outputs": [],
   "source": [
    "assert_is_instance(rp, mpl.axes.Axes, msg='Return a Axes object.')  \n",
    "assert_is_not(len(rp.title.get_text()), 0, msg=\"Your plot doesn't have a title.\")\n",
    "assert_is_not(rp.xaxis.get_label_text(), '', msg=\"Change the x-axis label to something more descriptive.\")\n",
    "assert_equal(rp.yaxis.get_label_text(), '', msg=\"The y-axis should not have a label.\")\n",
    "assert_equal(rp.yaxis.get_ticklabels(), [], msg=\"Remove ticks from y-axis label.\")"
   ]
  },
  {
   "cell_type": "markdown",
   "metadata": {
    "deletable": false,
    "editable": false,
    "nbgrader": {
     "checksum": "f550e89cae96875e09e22e7948f828a6",
     "grade": false,
     "grade_id": "p5_text",
     "locked": true,
     "schema_version": 1,
     "solution": false
    }
   },
   "source": [
    "# Problem 5: Comparing the Current Week's Open to Next Week's Open in the Dow Jones Index Using a Comparative Histogram.\n",
    "\n",
    "For this problem we will continue to use the weekly stock data from dow jones index, which is still stored in a variable called *df* . We want to compare the open column with next_weeks_open column. \n",
    "\n",
    "Your task is to finish the plot_compare_hist function below. This function should do the following:\n",
    "- Create a 1-d Comparative Histogram (**Not Multiple Histograms**) of columns *open* and *next_weeks_open*\n",
    "- Create a label for the y axis and the x axis\n",
    "- Set a title for your plot\n",
    "- Create a legend\n",
    "- The function should return an axes object (we have created this variable for you already)\n"
   ]
  },
  {
   "cell_type": "code",
   "execution_count": null,
   "metadata": {
    "collapsed": true,
    "deletable": false,
    "nbgrader": {
     "checksum": "0090dec0c9e68528acd2794473dbcbf2",
     "grade": false,
     "grade_id": "p5_answer",
     "locked": false,
     "schema_version": 1,
     "solution": true
    }
   },
   "outputs": [],
   "source": [
    "def plot_compare_hist(df):\n",
    "    fig, ax = plt.subplots()\n",
    "    \n",
    "    ### YOUR CODE HERE\n",
    "    \n",
    "    return ax"
   ]
  },
  {
   "cell_type": "code",
   "execution_count": null,
   "metadata": {
    "collapsed": true,
    "deletable": false,
    "editable": false,
    "nbgrader": {
     "checksum": "f992fa72cd89e4ebd76bce72c4157583",
     "grade": false,
     "grade_id": "p5_run",
     "locked": true,
     "schema_version": 1,
     "solution": false
    }
   },
   "outputs": [],
   "source": [
    "ch = plot_compare_hist(df)"
   ]
  },
  {
   "cell_type": "code",
   "execution_count": null,
   "metadata": {
    "collapsed": true,
    "deletable": false,
    "editable": false,
    "nbgrader": {
     "checksum": "8e91e6f6d4b09eea511d5d6d952dfcdb",
     "grade": true,
     "grade_id": "p5_test",
     "locked": true,
     "points": 1,
     "schema_version": 1,
     "solution": false
    }
   },
   "outputs": [],
   "source": [
    "assert_is_instance(ch, mpl.axes.Axes, msg='Return a Axes object.')  \n",
    "assert_is_not(len(ch.title.get_text()), 0, msg=\"Your plot doesn't have a title.\")\n",
    "assert_is_not(ch.xaxis.get_label_text(), '', msg=\"Change the x-axis label to something more descriptive.\")\n",
    "assert_is_not(ch.yaxis.get_label_text(), '', msg=\"Change the y-axis label to something more descriptive.\")\n",
    "assert_is_instance(ch.legend_, mpl.legend.Legend, msg=\"Your plot doesn't have a Legend\")"
   ]
  },
  {
   "cell_type": "markdown",
   "metadata": {},
   "source": [
    "-----"
   ]
  },
  {
   "cell_type": "markdown",
   "metadata": {
    "deletable": false,
    "editable": false
   },
   "source": [
    "**&copy; 2017: Robert J. Brunner at the University of Illinois.**\n",
    "\n",
    "This notebook is released under the [Creative Commons license CC BY-NC-SA 4.0][ll]. Any reproduction, adaptation, distribution, dissemination or making available of this notebook for commercial use is not allowed unless authorized in writing by the copyright holder.\n",
    "\n",
    "[ll]: https://creativecommons.org/licenses/by-nc-sa/4.0/legalcode"
   ]
  }
 ],
 "metadata": {
  "anaconda-cloud": {},
  "coursera": {
   "course_slug": "data-analytics-accountancy-1",
   "graded_item_id": "6SIgZ",
   "launcher_item_id": "m5_assignment"
  },
  "kernelspec": {
   "display_name": "Python 3",
   "language": "python",
   "name": "python3"
  },
  "language_info": {
   "codemirror_mode": {
    "name": "ipython",
    "version": 3
   },
   "file_extension": ".py",
   "mimetype": "text/x-python",
   "name": "python",
   "nbconvert_exporter": "python",
   "pygments_lexer": "ipython3",
   "version": "3.6.1"
  }
 },
 "nbformat": 4,
 "nbformat_minor": 2
}
