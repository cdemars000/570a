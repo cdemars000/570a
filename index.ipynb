{
 "cells": [
  {
   "cell_type": "code",
   "execution_count": 1,
   "metadata": {},
   "outputs": [
    {
     "data": {
      "text/markdown": [
       "# University of Illinois-Deloitte Foundation Center for Business Analytics\n",
       "\n",
       "-----\n",
       "\n",
       "## First Course in Foundations of Data Analytics\n",
       "\n",
       "------\n",
       "\n",
       "### Description\n",
       "\n",
       "This course will build a practical foundation for data analytics by teaching students basic tools and techniques that can scale to large computational systems and massive data sets. Specifically, students will first learn how to use the Python programming language, with a focus on specific aspects of the language and associated Python modules that are relevant for data analytics. The Python programming language will be introduced, for which students will use Jupyter Notebooks. This introduction will include the NumPy, SciPy, MatPlotlib, Pandas, and Seaborn Python modules. These capabilities will be demonstrated through simple data analytic tasks such as obtaining data, cleaning data, visualizing data, and basic data analysis. In addition, students will learn how to work about the Unix file system, which is used by most big data tools or technologies.\n",
       "\n",
       "-----\n",
       "\n",
       "### Original Content\n",
       "\n",
       "The original content for this course consists of Jupyter notebooks, which are rendered to standard HTML webpages by github automatically. [Click Here][chnb] to get started browsing the original notebook content.\n",
       "\n",
       "-----\n",
       "\n",
       "### HTML Webpage Content\n",
       "\n",
       "The Jupyter notebook system can convert the original notebooks into a variety of different format, including HTML, which is the standard format used to create web pages. [Click Here][chwp] to get started browsing the notebook content as a static website.\n",
       "\n",
       "-----\n",
       "\n",
       "[chnb]: original/index.ipynb\n",
       "[chwp]: html/index.html"
      ],
      "text/plain": [
       "<IPython.core.display.Markdown object>"
      ]
     },
     "metadata": {},
     "output_type": "display_data"
    }
   ],
   "source": [
    "from IPython.display import display, Markdown\n",
    "\n",
    "with open('Readme.md', 'r') as fin:\n",
    "    rme = fin.read()\n",
    "\n",
    "display(Markdown(rme))"
   ]
  }
 ],
 "metadata": {
  "kernelspec": {
   "display_name": "Python 3",
   "language": "python",
   "name": "python3"
  },
  "language_info": {
   "codemirror_mode": {
    "name": "ipython",
    "version": 3
   },
   "file_extension": ".py",
   "mimetype": "text/x-python",
   "name": "python",
   "nbconvert_exporter": "python",
   "pygments_lexer": "ipython3",
   "version": "3.6.1"
  }
 },
 "nbformat": 4,
 "nbformat_minor": 2
}
