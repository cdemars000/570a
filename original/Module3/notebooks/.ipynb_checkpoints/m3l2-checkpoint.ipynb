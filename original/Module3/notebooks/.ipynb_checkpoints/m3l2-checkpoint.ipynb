{
 "cells": [
  {
   "cell_type": "markdown",
   "metadata": {},
   "source": [
    "# Module 3: Lesson 2\n",
    "\n",
    "-----\n",
    "\n",
    "## Introduction to Unix\n",
    "\n",
    "The second lesson introduces the Unix filesystem, which underlies most of modern _big data_ analyses and our course analytics server. The Unix operating system is powerful and seemingly complex (especially for anyone who has only worked with a graphical user-based operating system such as Windows or Mac OSX ). In this course we will not explore all of these complexities, and instead focus solely on how data is persisted so that we can read and write data as needed on our course server.\n",
    "\n",
    "### Objectives\n",
    "\n",
    "By the end of this lesson, you will be able to:\n",
    "\n",
    "- understand the basic concepts behind the Unix operating system,\n",
    "- understand how to work at the Unix command prompt, and\n",
    "- create, copy, move, and delete files and directories.\n",
    "\n",
    "### Time Estimate\n",
    "\n",
    "Approximately 1 hour.\n",
    "\n",
    "### Activities \n",
    "\n",
    "Video: Watch the [introduction to the Unix][iuv] video, which will demonstrate how you can work with the Unix filesystem.\n",
    "\n",
    "Notebook: Read and complete the practice exercises in the [Introduction to Unix][intro2unix] notebook.\n",
    "\n",
    "------\n",
    "\n",
    "[iuv]: https://mediaspace.illinois.edu/media/iMSA+Accy+570+m3l2v1/1_522v8mus\n",
    "\n",
    "[intro2unix]: intro2unix.ipynb"
   ]
  },
  {
   "cell_type": "markdown",
   "metadata": {},
   "source": [
    "**&copy; 2017: Robert J. Brunner at the University of Illinois.**\n",
    "\n",
    "This notebook is released under the [Creative Commons license CC BY-NC-SA 4.0][ll]. Any reproduction, adaptation, distribution, dissemination or making available of this notebook for commercial use is not allowed unless authorized in writing by the copyright holder.\n",
    "\n",
    "[ll]: https://creativecommons.org/licenses/by-nc-sa/4.0/legalcode"
   ]
  }
 ],
 "metadata": {
  "kernelspec": {
   "display_name": "Python 3",
   "language": "python",
   "name": "python3"
  },
  "language_info": {
   "codemirror_mode": {
    "name": "ipython",
    "version": 3
   },
   "file_extension": ".py",
   "mimetype": "text/x-python",
   "name": "python",
   "nbconvert_exporter": "python",
   "pygments_lexer": "ipython3",
   "version": "3.6.1"
  }
 },
 "nbformat": 4,
 "nbformat_minor": 2
}
