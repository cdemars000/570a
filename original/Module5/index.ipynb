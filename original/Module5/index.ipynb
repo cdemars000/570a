{
 "cells": [
  {
   "cell_type": "markdown",
   "metadata": {},
   "source": [
    "# Module 5: Introduction to Visualization\n",
    "\n",
    "This module introduces visualization as an important tool for exploring and understanding data. First, the basic components of visualizations are introduced with an emphasis on how they can be used to convey information. Also, you will learn how to identify and avoid ways that a visualization can mislead or confuse a viewer. Next, you will learn more about conveying information to a user visually, including the use of form, color, and location. Third, you will learn how to actually create a simple visualization (basic line plot) in Python, which will introduce creating and displaying a visualization within a notebook, how to annotate a plot, and how to improve the visual aesthetics of a plot by using the Seaborn module. Finally, you will learn how to explore a one-dimensional data set by using rug plots, box plots, and histograms.\n",
    "\n",
    "## Learning Objectives\n",
    "\n",
    "#### By the end of this module, you should be able to:\n",
    "\n",
    "- understand the basic concepts in conveying information visually,\n",
    "- identify and avoid visualization techniques that can mislead viewers, \n",
    "- create basic visualizations by using Python and the Matplotlib module, and\n",
    "- visually explore one-dimensional data by using Python and the Seaborn module.\n",
    "\n",
    "### Activities and Assignments\n",
    "\n",
    "| Activities and Assignments               | Time Estimate | Deadline* | Points |\n",
    "| :--------------------------------------- | ------------- | --------- | -----: |\n",
    "| **[Module 5 Overview Video][wv]**      | 10 Minutes    | Tuesday |    N/A |\n",
    "| **[Module 5 Lesson 1: The Importance of Data Visualizations][nb1]** | 1 Hour   | Thursday  |     N/A |\n",
    "| **[Module 5 Lesson 2: The Quantitative Display of Information][nb2]** | 1 Hours | Thursday  |     N/A |\n",
    "| **[Module 5 Lesson 3: Introduction to Plotting in Python][nb3]** | 1 Hours | Thursday  |     N/A |\n",
    "| **[Module 5 Lesson 4: Introduction to Data Visualizations in Python][nb4]** | 2 Hours   | Thursday  |   N/A |\n",
    "| **[Module 5 Quiz][wq]**                    | 30 Minutes    | Friday    |    25  |\n",
    "| **[Module 5 Assignment][ma]**         | 1 Hour    | Monday    |    100  |\n",
    "\n",
    "\n",
    "*Please note that unless otherwise noted, the due time is 6pm Central time!\n",
    "\n",
    "----------\n",
    "\n",
    "[nb1]: notebooks/m5l1.ipynb\n",
    "[nb2]: notebooks/m5l2.ipynb\n",
    "[nb3]: notebooks/m5l3.ipynb\n",
    "[nb4]: notebooks/m5l4.ipynb\n",
    "\n",
    "[ma]: https://github.com/uidfcba/570a/blob/937a8fe0f63487db2ab0e012d21b9bd0737d067f/original/Assignments/Module5/assignment.ipynb\n",
    "\n",
    "[wv]: https://mediaspace.illinois.edu/media/t/1_yxpy83d3/93773951\n",
    "[wq]: https://github.com/uidfcba/570a/blob/937a8fe0f63487db2ab0e012d21b9bd0737d067f/original/Assessments/Module5/module5.md"
   ]
  },
  {
   "cell_type": "markdown",
   "metadata": {
    "deletable": false,
    "editable": false
   },
   "source": [
    "**&copy; 2017: Robert J. Brunner at the University of Illinois.**\n",
    "\n",
    "This notebook is released under the [Creative Commons license CC BY-NC-SA 4.0][ll]. Any reproduction, adaptation, distribution, dissemination or making available of this notebook for commercial use is not allowed unless authorized in writing by the copyright holder.\n",
    "\n",
    "[ll]: https://creativecommons.org/licenses/by-nc-sa/4.0/legalcode"
   ]
  },
  {
   "cell_type": "markdown",
   "metadata": {},
   "source": []
  }
 ],
 "metadata": {
  "kernelspec": {
   "display_name": "Python 3",
   "language": "python",
   "name": "python3"
  },
  "language_info": {
   "codemirror_mode": {
    "name": "ipython",
    "version": 3
   },
   "file_extension": ".py",
   "mimetype": "text/x-python",
   "name": "python",
   "nbconvert_exporter": "python",
   "pygments_lexer": "ipython3",
   "version": "3.6.3"
  }
 },
 "nbformat": 4,
 "nbformat_minor": 2
}
