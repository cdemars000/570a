{
 "cells": [
  {
   "cell_type": "markdown",
   "metadata": {},
   "source": [
    "# Module 1: Lesson 4\n",
    "\n",
    "-----\n",
    "\n",
    "## Introduction to Python\n",
    "\n",
    "This lesson introduces the Python programming language. The purpose of this course is not to teach you to become a proficient Python programmer, although that might happen, but to teach you how to write and execute Python scripts to perform basic data analytics tasks. To quickly bring you up to speed, this lesson demonstrates how to enter and execute basic Python commands in a Jupyter Notebook.\n",
    "\n",
    "### Objectives\n",
    "By the end of this lesson, you will be learn about\n",
    "\n",
    "- Python keywords,\n",
    "- the built-in help,\n",
    "- Python comments,\n",
    "- built-in Python math operators,\n",
    "- Python basic data types, and\n",
    "- creating and using Python variables.\n",
    "\n",
    "### Time Estimate\n",
    "\n",
    "Approximately 2 hours.\n",
    "\n",
    "### Activities\n",
    "\n",
    "Video: Watch the [introduction to Python][ipyv] video, which will demonstrate several basic Python concepts including variables, basic math operations, and how to display textual results.\n",
    "\n",
    "Notebook: Read and complete the practice exercises in the [Introduction to Python][intro2py] notebook.\n",
    "\n",
    "-----\n",
    "\n",
    "[intro2py]: intro2py.ipynb\n",
    "[ipyv]: https://mediaspace.illinois.edu/media/iMSA+Accy+570+m1l4v1/1_r9kvtubr"
   ]
  },
  {
   "cell_type": "markdown",
   "metadata": {},
   "source": [
    "**&copy; 2017: Robert J. Brunner at the University of Illinois.**\n",
    "\n",
    "This notebook is released under the [Creative Commons license CC BY-NC-SA 4.0][ll]. Any reproduction, adaptation, distribution, dissemination or making available of this notebook for commercial use is not allowed unless authorized in writing by the copyright holder.\n",
    "\n",
    "[ll]: https://creativecommons.org/licenses/by-nc-sa/4.0/legalcode"
   ]
  }
 ],
 "metadata": {
  "kernelspec": {
   "display_name": "Python 3",
   "language": "python",
   "name": "python3"
  },
  "language_info": {
   "codemirror_mode": {
    "name": "ipython",
    "version": 3
   },
   "file_extension": ".py",
   "mimetype": "text/x-python",
   "name": "python",
   "nbconvert_exporter": "python",
   "pygments_lexer": "ipython3",
   "version": "3.6.1"
  }
 },
 "nbformat": 4,
 "nbformat_minor": 2
}
