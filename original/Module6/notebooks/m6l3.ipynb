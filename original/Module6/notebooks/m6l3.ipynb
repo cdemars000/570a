{
 "cells": [
  {
   "cell_type": "markdown",
   "metadata": {},
   "source": [
    "# Module 6: Lesson 3\n",
    "\n",
    "-----\n",
    "\n",
    "## Introduction to Probability with Python\t\n",
    "\n",
    "This lesson calculates probabilities and applies Bayes theorem in Python.\n",
    "\n",
    "### Objectives\n",
    "\n",
    "By the end of this lesson, you will be be able to\n",
    "\n",
    "- compute the probability of an event in Python,\n",
    "- use random sampling in Python,\n",
    "- compute joint probabilities in Python,\n",
    "- compute conditional probabilities in Python, and\n",
    "- apply Bayes theorem in Python.\n",
    "\n",
    "### Time Estimate\n",
    "\n",
    "Approximately 2 hours.\n",
    "\n",
    "### Activities\n",
    "\n",
    "Reading: [Explore basic probability][stbp] concepts by using this visual website from seeing-theory.\n",
    "\n",
    "Reading: [Explore conditional probability][stcp] concepts by using this visual website from seeing-theory.\n",
    "\n",
    "Video: Watch the [calculating probabilities in Python][cpp] video, which will demonstrate how to compute probabilities and apply Bayes theorem in Python.\n",
    "\n",
    "Notebook: Read and complete the student exercises in the [Introduction to Probability][intro2p] notebook.\n",
    "\n",
    "------\n",
    "\n",
    "[stbp]: http://students.brown.edu/seeing-theory/basic-probability/index.html\n",
    "[stcp]: http://students.brown.edu/seeing-theory/compound-probability/index.html\n",
    "\n",
    "[cpp]: https://mediaspace.illinois.edu/media/iMSA+Accy+570+m6l3v1/1_4gc261mq\n",
    "[intro2p]: intro2p.ipynb"
   ]
  },
  {
   "cell_type": "markdown",
   "metadata": {},
   "source": [
    "**&copy; 2017: Robert J. Brunner at the University of Illinois.**\n",
    "\n",
    "This notebook is released under the [Creative Commons license CC BY-NC-SA 4.0][ll]. Any reproduction, adaptation, distribution, dissemination or making available of this notebook for commercial use is not allowed unless authorized in writing by the copyright holder.\n",
    "\n",
    "[ll]: https://creativecommons.org/licenses/by-nc-sa/4.0/legalcode"
   ]
  }
 ],
 "metadata": {
  "kernelspec": {
   "display_name": "Python 3",
   "language": "python",
   "name": "python3"
  },
  "language_info": {
   "codemirror_mode": {
    "name": "ipython",
    "version": 3
   },
   "file_extension": ".py",
   "mimetype": "text/x-python",
   "name": "python",
   "nbconvert_exporter": "python",
   "pygments_lexer": "ipython3",
   "version": "3.6.1"
  }
 },
 "nbformat": 4,
 "nbformat_minor": 2
}
