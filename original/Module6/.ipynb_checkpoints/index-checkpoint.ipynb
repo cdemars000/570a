{
 "cells": [
  {
   "cell_type": "markdown",
   "metadata": {},
   "source": [
    "# Module 6: Introduction to Probability\n",
    "\n",
    "In this Module, you will learn the basics of probability, and how it relates to statistical data analysis. First, you will learn about the basic concepts of probability, including random variables, the calculation of simple probabilities, and several theoretical distributions that commonly occur in  discussions of probability. Next, you will learn about conditional probability and Bayes theorem.  Third, you will learn to calculate probabilities and to apply Bayes theorem directly by using Python. Finally, you will learn to work with both empirical and theoretical distributions in Python, and how to model an empirical data set by using a theoretical  distribution.\n",
    "\n",
    "## Learning Objectives\n",
    "\n",
    "#### By the end of this module, you should be able to:\n",
    "\n",
    "- calculate and interpret basic probability concepts,\n",
    "- calculate and interpret conditional probability,\n",
    "- understand and apply Bayes theorem,\n",
    "- understand the most important empirical distribution measures, and\n",
    "- understand and know how to apply the most important theoretical distributions.\n",
    "\n",
    "### Activities and Assignments\n",
    "\n",
    "| Activities and Assignments               | Time Estimate | Deadline* | Points |\n",
    "| :--------------------------------------- | ------------- | --------- | -----: |\n",
    "| **[Module 6 Overview Video][wv]**      | 10 Minutes    | Tuesday |    N/A |\n",
    "| **[Module 6 Lesson 1: Introduction to Probability][nb1]** | 1 Hour   | Thursday  |     N/A |\n",
    "| **[Module 6 Lesson 2: Introduction to Conditional Probability][nb2]** | 1 Hour | Thursday  |     N/A |\n",
    "| **[Module 6 Lesson 3: Introduction to Probability with Python][nb3]** | 2 Hours | Thursday  |     N/A |\n",
    "| **[Module 6 Lesson 4: Introduction to Probability Distributions][nb4]** | 2 Hours   | Thursday  |   N/A |\n",
    "| **[Module 6 Quiz][wq]**                    | 30 Minutes    | Friday    |    25  |\n",
    "| **[Module 6 Assignment][ma]**         | 1 hour    | Tuesday    |    100  |\n",
    "\n",
    "*Please note that unless otherwise noted, the due time is 6pm Central time!\n",
    "\n",
    "----------\n",
    "\n",
    "[nb1]: notebooks/m6l1.ipynb\n",
    "[nb2]: notebooks/m6l2.ipynb\n",
    "[nb3]: notebooks/m6l3.ipynb\n",
    "[nb4]: notebooks/m6l4.ipynb\n",
    "\n",
    "[ma]: https://datascience.business.illinois.edu/user/accy/notebooks/accy570/assignments/Module6/assignment.ipynb\n",
    "\n",
    "\n",
    "[wv]: https://mediaspace.illinois.edu/media/M6+Intro/1_vp95o520\n",
    "[wq]: https://learn.illinois.edu/mod/quiz/view.php?id=2241509"
   ]
  },
  {
   "cell_type": "markdown",
   "metadata": {},
   "source": [
    "**&copy; 2017: Robert J. Brunner at the University of Illinois.**\n",
    "\n",
    "This notebook is released under the [Creative Commons license CC BY-NC-SA 4.0][ll]. Any reproduction, adaptation, distribution, dissemination or making available of this notebook for commercial use is not allowed unless authorized in writing by the copyright holder.\n",
    "\n",
    "[ll]: https://creativecommons.org/licenses/by-nc-sa/4.0/legalcode"
   ]
  }
 ],
 "metadata": {
  "kernelspec": {
   "display_name": "Python 3",
   "language": "python",
   "name": "python3"
  },
  "language_info": {
   "codemirror_mode": {
    "name": "ipython",
    "version": 3
   },
   "file_extension": ".py",
   "mimetype": "text/x-python",
   "name": "python",
   "nbconvert_exporter": "python",
   "pygments_lexer": "ipython3",
   "version": "3.6.1"
  }
 },
 "nbformat": 4,
 "nbformat_minor": 2
}
