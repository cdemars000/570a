{
 "cells": [
  {
   "cell_type": "markdown",
   "metadata": {},
   "source": [
    "# Module 2: Lesson 4\n",
    "\n",
    "-----\n",
    "\n",
    "## Python Flow Control\n",
    "\n",
    "This lesson introduces Python commands that control how the computer executes a program. These commands include conditional statements, which control, based on a pre-defined condition, what code blocks are executed, and looping statements, which repeat code blocks until a predefined condition is met. \n",
    "\n",
    "\n",
    "### Objectives\n",
    "\n",
    "By the end of this lesson, you will be learn about\n",
    "\n",
    "- write effective `if` statements to perform conditional code evaluation,\n",
    "- write `for` statements to iteratively process data, and\n",
    "- write `while` statements to perform a predefined operation until a condition is reached.\n",
    "\n",
    "### Time Estimate\n",
    "\n",
    "Approximately 2 hours.\n",
    "\n",
    "### Activities \n",
    "\n",
    "Video: Watch the [Python flow control][lv] video, which will discuss how to use flow control statements like conditional statements and loops to write more effective and powerful Python program.\n",
    "\n",
    "Notebook: Read and complete the practice exercises in the [Python flow control][intro2pypc] notebook.\n",
    "\n",
    "-----\n",
    "\n",
    "[lv]: https://mediaspace.illinois.edu/media/iMSA+Accy+570+m2l4v1-/1_c7ae7p7b\n",
    "\n",
    "[intro2pypc]: flowcontrolpy.ipynb"
   ]
  },
  {
   "cell_type": "markdown",
   "metadata": {
    "deletable": false,
    "editable": false
   },
   "source": [
    "**&copy; 2017: Robert J. Brunner at the University of Illinois.**\n",
    "\n",
    "This notebook is released under the [Creative Commons license CC BY-NC-SA 4.0][ll]. Any reproduction, adaptation, distribution, dissemination or making available of this notebook for commercial use is not allowed unless authorized in writing by the copyright holder.\n",
    "\n",
    "[ll]: https://creativecommons.org/licenses/by-nc-sa/4.0/legalcode"
   ]
  }
 ],
 "metadata": {
  "kernelspec": {
   "display_name": "Python 3",
   "language": "python",
   "name": "python3"
  },
  "language_info": {
   "codemirror_mode": {
    "name": "ipython",
    "version": 3
   },
   "file_extension": ".py",
   "mimetype": "text/x-python",
   "name": "python",
   "nbconvert_exporter": "python",
   "pygments_lexer": "ipython3",
   "version": "3.6.1"
  }
 },
 "nbformat": 4,
 "nbformat_minor": 2
}
