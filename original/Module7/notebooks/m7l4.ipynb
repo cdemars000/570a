{
 "cells": [
  {
   "cell_type": "markdown",
   "metadata": {},
   "source": [
    "# Module 7: Lesson 4\n",
    "\n",
    "-----\n",
    "\n",
    "## Introduction to Ordinary Linear Regression\t\n",
    "\n",
    "This lesson introduces ordinary linear regression, which can compute a _best-fit_ linear model between two dimensions. This linear model can be used (with certain caveats) for predictive analytics and also to visually understand relationships between different dimensions of a data set.\n",
    "\n",
    "### Objectives\n",
    "\n",
    "By the end of this lesson, you will be able to\n",
    "\n",
    "- understand the concepts behind ordinary linear regression,\n",
    "- articulate the benefits of a linear model that has been coimputed from a data set, and\n",
    "- compute an ordinary linear regression model from a data set by using Python.\n",
    "\n",
    "### Time Estimate\n",
    "\n",
    "Approximately 2 hours.\n",
    "\n",
    "### Activities \n",
    "\n",
    "Reading: [Explore ordinary linear regression][ols]  by using the Explained Visually website from Setosa.\n",
    "\n",
    "Video: Watch the [Introduction to Ordinary Linear Regression][olsv] video, which will demonstrate how to compute and display a linear regression model.\n",
    "\n",
    "Notebook: Read and complete the student exercises in the [Introduction to Ordinary Linear Regression][intro2ols] notebook.\n",
    "\n",
    "------\n",
    "\n",
    "[ols]: http://setosa.io/ev/ordinary-least-squares-regression/\n",
    "[olsv]: https://mediaspace.illinois.edu/media/iMSA+Accy+570+m7l4v1/1_7i2km89x\n",
    "[intro2ols]: intro2ols.ipynb"
   ]
  },
  {
   "cell_type": "markdown",
   "metadata": {},
   "source": [
    "**&copy; 2017: Robert J. Brunner at the University of Illinois.**\n",
    "\n",
    "This notebook is released under the [Creative Commons license CC BY-NC-SA 4.0][ll]. Any reproduction, adaptation, distribution, dissemination or making available of this notebook for commercial use is not allowed unless authorized in writing by the copyright holder.\n",
    "\n",
    "[ll]: https://creativecommons.org/licenses/by-nc-sa/4.0/legalcode"
   ]
  }
 ],
 "metadata": {
  "kernelspec": {
   "display_name": "Python 3",
   "language": "python",
   "name": "python3"
  },
  "language_info": {
   "codemirror_mode": {
    "name": "ipython",
    "version": 3
   },
   "file_extension": ".py",
   "mimetype": "text/x-python",
   "name": "python",
   "nbconvert_exporter": "python",
   "pygments_lexer": "ipython3",
   "version": "3.6.1"
  }
 },
 "nbformat": 4,
 "nbformat_minor": 2
}
