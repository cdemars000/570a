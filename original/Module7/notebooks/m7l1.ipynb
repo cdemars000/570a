{
 "cells": [
  {
   "cell_type": "markdown",
   "metadata": {},
   "source": [
    "# Module 7: Lesson 1\n",
    "\n",
    "-----\n",
    "\n",
    "## Introduction to Scatter Plots\n",
    "\n",
    "The first lesson introduces scatter plots as a technique for visually exploring two-dimensional data. This enables one to identify whether the two dimensions share a positive, negative, or null correlation as well as aids in the identification of outliers.\n",
    "\n",
    "### Objectives\n",
    "\n",
    "By the end of this lesson, you will\n",
    "\n",
    "- understand how to use Matplotlib to make a scatter plot,\n",
    "- understand the difference between positive, negative, and null correlations,\n",
    "- understand how to graphically identify outliers, and\n",
    "- understand how to overplot and label multiple columns on a single scatter plot.\n",
    "\n",
    "### Time Estimate\n",
    "\n",
    "Approximately 1 hour.\n",
    "\n",
    "### Activities\n",
    "\n",
    "\n",
    "Video: Watch the [Introduction to Scatter Plots][spv] video, which will demonstrate how to construct and interpret two-dimensional scatter plots.\n",
    "\n",
    "Notebook: Read and complete the student exercises in the [Introduction to Scatter Plots][intro2sp] notebook.\n",
    "\n",
    "------\n",
    "\n",
    "[spv]: https://mediaspace.illinois.edu/media/iMSA+Accy+570+m7l1v1/1_pxdrjyzn\n",
    "[intro2sp]: scatter-plots.ipynb"
   ]
  },
  {
   "cell_type": "markdown",
   "metadata": {},
   "source": [
    "**&copy; 2017: Robert J. Brunner at the University of Illinois.**\n",
    "\n",
    "This notebook is released under the [Creative Commons license CC BY-NC-SA 4.0][ll]. Any reproduction, adaptation, distribution, dissemination or making available of this notebook for commercial use is not allowed unless authorized in writing by the copyright holder.\n",
    "\n",
    "[ll]: https://creativecommons.org/licenses/by-nc-sa/4.0/legalcode"
   ]
  }
 ],
 "metadata": {
  "kernelspec": {
   "display_name": "Python 3",
   "language": "python",
   "name": "python3"
  },
  "language_info": {
   "codemirror_mode": {
    "name": "ipython",
    "version": 3
   },
   "file_extension": ".py",
   "mimetype": "text/x-python",
   "name": "python",
   "nbconvert_exporter": "python",
   "pygments_lexer": "ipython3",
   "version": "3.6.1"
  }
 },
 "nbformat": 4,
 "nbformat_minor": 2
}
