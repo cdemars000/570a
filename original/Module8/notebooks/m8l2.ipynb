{
 "cells": [
  {
   "cell_type": "markdown",
   "metadata": {},
   "source": [
    "# Module 8: Lesson 2\n",
    "\n",
    "-----\n",
    "\n",
    "##  Introduction to Density Estimation\t\n",
    "\n",
    "This lesson introduces the basic concepts behind density estimation, including kernel density estimation. In addition, the _violinplot_, a one-dimensional visualizations that employs a kernel density estimate, is introduced.\n",
    "\n",
    "### Objectives\n",
    "\n",
    "By the end of this lesson, you will be able to:\n",
    "\n",
    "- articulate the basic concepts behind density estimations,\n",
    "- generate a rug plot form one-dimensional data,\n",
    "- discuss the relationship between a histogram, a rug plot, and a KDE plot, and\n",
    "- generate a violin plot, and discuss how it is different than a box plot.\n",
    "\n",
    "\n",
    "### Time Estimate\n",
    "\n",
    "Approximately 2 hours.\n",
    "\n",
    "### Activities \n",
    "\n",
    "Video: Watch the [Introduction to Density Estimation][idev] video.\n",
    "\n",
    "Notebook: Read and complete the student exercises in the [Introduction to Density Estimation][intro2de] notebook.\n",
    "\n",
    "------\n",
    "\n",
    "[intro2de]: intro2de.ipynb\n",
    "[idev]: https://mediaspace.illinois.edu/media/iMSA+Accy+570+m8l2v1/1_dlgs0xce\n",
    "\n"
   ]
  },
  {
   "cell_type": "markdown",
   "metadata": {},
   "source": [
    "**&copy; 2017: Robert J. Brunner at the University of Illinois.**\n",
    "\n",
    "This notebook is released under the [Creative Commons license CC BY-NC-SA 4.0][ll]. Any reproduction, adaptation, distribution, dissemination or making available of this notebook for commercial use is not allowed unless authorized in writing by the copyright holder.\n",
    "\n",
    "[ll]: https://creativecommons.org/licenses/by-nc-sa/4.0/legalcode"
   ]
  }
 ],
 "metadata": {
  "kernelspec": {
   "display_name": "Python 3",
   "language": "python",
   "name": "python3"
  },
  "language_info": {
   "codemirror_mode": {
    "name": "ipython",
    "version": 3
   },
   "file_extension": ".py",
   "mimetype": "text/x-python",
   "name": "python",
   "nbconvert_exporter": "python",
   "pygments_lexer": "ipython3",
   "version": "3.6.1"
  }
 },
 "nbformat": 4,
 "nbformat_minor": 2
}
