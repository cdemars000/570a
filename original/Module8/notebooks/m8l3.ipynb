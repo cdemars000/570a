{
 "cells": [
  {
   "cell_type": "markdown",
   "metadata": {},
   "source": [
    "# Module 8: Lesson 3\n",
    "\n",
    "-----\n",
    "\n",
    "## Advanced Density Estimation\n",
    "\n",
    "This lesson introduces the kernel density estimation functionality in the Python scikit learn module, and the application of density estimation to two-dimensional data. Finally, sampling from a density estimate is demonstrated by using image data.\n",
    "\n",
    "### Objectives\n",
    "\n",
    "By the end of this lesson, you will be be able to\n",
    "\n",
    "- articulate how density estimation provides insight into two-dimensional data,\n",
    "- how to perform density estimation by using the scikit learn library, and\n",
    "- how to use density estimation as a generative model.\n",
    "\n",
    "### Time Estimate\n",
    "\n",
    "Approximately 2 hours.\n",
    "\n",
    "### Activities\n",
    "\n",
    "Video: Watch the [Advanced Density Estimation][adev] video.\n",
    "\n",
    "Notebook: Read and complete the practice exercises in the [Advanced Density Estimation][advde] notebook.\n",
    "\n",
    "------\n",
    "\n",
    "[adev]: https://mediaspace.illinois.edu/media/iMSA+Accy+570+m8l3v1/1_6ksah84w\n",
    "[advde]: advde.ipynb"
   ]
  },
  {
   "cell_type": "markdown",
   "metadata": {},
   "source": [
    "**&copy; 2017: Robert J. Brunner at the University of Illinois.**\n",
    "\n",
    "This notebook is released under the [Creative Commons license CC BY-NC-SA 4.0][ll]. Any reproduction, adaptation, distribution, dissemination or making available of this notebook for commercial use is not allowed unless authorized in writing by the copyright holder.\n",
    "\n",
    "[ll]: https://creativecommons.org/licenses/by-nc-sa/4.0/legalcode"
   ]
  }
 ],
 "metadata": {
  "kernelspec": {
   "display_name": "Python 3",
   "language": "python",
   "name": "python3"
  },
  "language_info": {
   "codemirror_mode": {
    "name": "ipython",
    "version": 3
   },
   "file_extension": ".py",
   "mimetype": "text/x-python",
   "name": "python",
   "nbconvert_exporter": "python",
   "pygments_lexer": "ipython3",
   "version": "3.6.1"
  }
 },
 "nbformat": 4,
 "nbformat_minor": 2
}
